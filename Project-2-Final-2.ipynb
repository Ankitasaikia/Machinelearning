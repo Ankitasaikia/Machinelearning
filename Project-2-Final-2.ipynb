
    "#drop the index columns\n",
    "df1=df.drop(['index'], axis=1)\n",
    "print(\"Data shape:\", df1.shape)"
   ]
  },
  {
   "cell_type": "code",
   "execution_count": 71,
   "id": "5b7fc93c",
   "metadata": {},
   "outputs": [],
   "source": [
    "import pandas as pd\n",
    "def describe_more(df,normalize_ind=False, weight_column=None, skip_columns=[], dropna=True):\n",
    "    var = [] ; l = [] ; t = []; unq =[]; min_l = []; max_l = [];\n",
    "    assert isinstance(skip_columns, list), \"Argument skip_columns should be list\"\n",
    "    if weight_column is not None:\n",
    "        if weight_column not in list(df.columns):\n",
    "            raise AssertionError('weight_column is not a valid column name in the input DataFrame')\n",
    "      \n",
    "    for x in df:\n",
    "        if x in skip_columns:\n",
    "            pass\n",
    "        else:\n",
    "            var.append( x )\n",
    "            uniq_counts = len(pd.value_counts(df[x],dropna=dropna))\n",
    "            uniq_counts = len(pd.value_counts(df[x], dropna=dropna)[pd.value_counts(df[x],dropna=dropna)>0])\n",
    "            l.append(uniq_counts)\n",
    "            t.append( df[ x ].dtypes )\n",
    "            min_l.append(df[x].apply(str).str.len().min())\n",
    "            max_l.append(df[x].apply(str).str.len().max())\n",
    "            if weight_column is not None and x not in skip_columns:\n",
    "                df2 = df.groupby(x).agg({weight_column: 'sum'}).sort_values(weight_column, ascending=False)\n",
    "                df2['authtrans_vts_cnt']=((df2[weight_column])/df2[weight_column].sum()).round(2)\n",
    "                unq.append(df2.head(n=100).to_dict()[weight_column])\n",
    "            else:\n",
    "                df_cat_d = df[x].value_counts(normalize=normalize_ind,dropna=dropna).round(decimals=2)\n",
    "                df_cat_d = df_cat_d[df_cat_d>0]\n",
    "                #unq.append(df[x].value_counts().iloc[0:100].to_dict())\n",
    "                unq.append(df_cat_d.iloc[0:100].to_dict())\n",
    "            \n",
    "    levels = pd.DataFrame( { 'A_Variable' : var , 'Levels' : l , 'Datatype' : t ,\n",
    "                             'Min Length' : min_l,\n",
    "                             'Max Length': max_l,\n",
    "                             'Level_Values' : unq} )\n",
    "    #levels.sort_values( by = 'Levels' , inplace = True )\n",
    "    return levels"
   ]
  },
  {
   "cell_type": "code",
   "execution_count": 72,
   "id": "159e1eb8",
   "metadata": {
    "scrolled": true
   },
   "outputs": [
    {
     "data": {
      "text/html": [
       "<div>\n",
       "<style scoped>\n",
       "    .dataframe tbody tr th:only-of-type {\n",
       "        vertical-align: middle;\n",
       "    }\n",
       "\n",
       "    .dataframe tbody tr th {\n",
       "        vertical-align: top;\n",
       "    }\n",
       "\n",
       "    .dataframe thead th {\n",
       "        text-align: right;\n",
       "    }\n",
       "</style>\n",
       "<table border=\"1\" class=\"dataframe\">\n",
       "  <thead>\n",
       "    <tr style=\"text-align: right;\">\n",
       "      <th></th>\n",
       "      <th>A_Variable</th>\n",
       "      <th>Levels</th>\n",
       "      <th>Datatype</th>\n",
       "      <th>Min Length</th>\n",
       "      <th>Max Length</th>\n",
       "      <th>Level_Values</th>\n",
       "    </tr>\n",
       "  </thead>\n",
       "  <tbody>\n",
       "    <tr>\n",
       "      <th>0</th>\n",
       "      <td>City</td>\n",
       "      <td>31282</td>\n",
       "      <td>object</td>\n",
       "      <td>1</td>\n",
       "      <td>30</td>\n",
       "      <td>{'LOS ANGELES': 10411, 'HOUSTON': 9199, 'NEW Y...</td>\n",
       "    </tr>\n",
       "    <tr>\n",
       "      <th>1</th>\n",
       "      <td>State</td>\n",
       "      <td>51</td>\n",
       "      <td>object</td>\n",
       "      <td>2</td>\n",
       "      <td>3</td>\n",
       "      <td>{'CA': 117588, 'TX': 63276, 'NY': 51662, 'FL':...</td>\n",
       "    </tr>\n",
       "    <tr>\n",
       "      <th>2</th>\n",
       "      <td>Zip</td>\n",
       "      <td>32684</td>\n",
       "      <td>int64</td>\n",
       "      <td>1</td>\n",
       "      <td>5</td>\n",
       "      <td>{90015: 859, 10001: 828, 93401: 686, 90010: 65...</td>\n",
       "    </tr>\n",
       "    <tr>\n",
       "      <th>3</th>\n",
       "      <td>Bank</td>\n",
       "      <td>5723</td>\n",
       "      <td>object</td>\n",
       "      <td>3</td>\n",
       "      <td>30</td>\n",
       "      <td>{'BANK OF AMERICA NATL ASSOC': 78084, 'WELLS F...</td>\n",
       "    </tr>\n",
       "    <tr>\n",
       "      <th>4</th>\n",
       "      <td>BankState</td>\n",
       "      <td>56</td>\n",
       "      <td>object</td>\n",
       "      <td>2</td>\n",
       "      <td>3</td>\n",
       "      <td>{'CA': 106262, 'NC': 71538, 'IL': 59243, 'OH':...</td>\n",
       "    </tr>\n",
       "    <tr>\n",
       "      <th>5</th>\n",
       "      <td>NAICS</td>\n",
       "      <td>1308</td>\n",
       "      <td>int64</td>\n",
       "      <td>1</td>\n",
       "      <td>6</td>\n",
       "      <td>{0: 181513, 722110: 25135, 722211: 17482, 8111...</td>\n",
       "    </tr>\n",
       "    <tr>\n",
       "      <th>6</th>\n",
       "      <td>NoEmp</td>\n",
       "      <td>572</td>\n",
       "      <td>int64</td>\n",
       "      <td>1</td>\n",
       "      <td>4</td>\n",
       "      <td>{1: 137896, 2: 124295, 3: 81375, 4: 66150, 5: ...</td>\n",
       "    </tr>\n",
       "    <tr>\n",
       "      <th>7</th>\n",
       "      <td>NewExist</td>\n",
       "      <td>3</td>\n",
       "      <td>float64</td>\n",
       "      <td>3</td>\n",
       "      <td>3</td>\n",
       "      <td>{1.0: 579047, 2.0: 227352, 0.0: 929}</td>\n",
       "    </tr>\n",
       "    <tr>\n",
       "      <th>8</th>\n",
       "      <td>CreateJob</td>\n",
       "      <td>240</td>\n",
       "      <td>int64</td>\n",
       "      <td>1</td>\n",
       "      <td>4</td>\n",
       "      <td>{0: 564999, 1: 56654, 2: 51866, 3: 25911, 4: 1...</td>\n",
       "    </tr>\n",
       "    <tr>\n",
       "      <th>9</th>\n",
       "      <td>RetainedJob</td>\n",
       "      <td>354</td>\n",
       "      <td>int64</td>\n",
       "      <td>1</td>\n",
       "      <td>4</td>\n",
       "      <td>{0: 396214, 1: 79161, 2: 69007, 3: 44781, 4: 3...</td>\n",
       "    </tr>\n",
       "    <tr>\n",
       "      <th>10</th>\n",
       "      <td>FranchiseCode</td>\n",
       "      <td>2702</td>\n",
       "      <td>int64</td>\n",
       "      <td>1</td>\n",
       "      <td>5</td>\n",
       "      <td>{1: 573389, 0: 187409, 78760: 3045, 68020: 174...</td>\n",
       "    </tr>\n",
       "    <tr>\n",
       "      <th>11</th>\n",
       "      <td>UrbanRural</td>\n",
       "      <td>3</td>\n",
       "      <td>int64</td>\n",
       "      <td>1</td>\n",
       "      <td>1</td>\n",
       "      <td>{1: 422224, 0: 290672, 2: 94554}</td>\n",
       "    </tr>\n",
       "    <tr>\n",
       "      <th>12</th>\n",
       "      <td>RevLineCr</td>\n",
       "      <td>18</td>\n",
       "      <td>object</td>\n",
       "      <td>1</td>\n",
       "      <td>3</td>\n",
       "      <td>{'N': 377572, '0': 231637, 'Y': 180374, 'T': 1...</td>\n",
       "    </tr>\n",
       "    <tr>\n",
       "      <th>13</th>\n",
       "      <td>LowDoc</td>\n",
       "      <td>8</td>\n",
       "      <td>object</td>\n",
       "      <td>1</td>\n",
       "      <td>3</td>\n",
       "      <td>{'N': 702838, 'Y': 99254, '0': 1333, 'C': 681,...</td>\n",
       "    </tr>\n",
       "    <tr>\n",
       "      <th>14</th>\n",
       "      <td>DisbursementGross</td>\n",
       "      <td>109913</td>\n",
       "      <td>object</td>\n",
       "      <td>10</td>\n",
       "      <td>15</td>\n",
       "      <td>{'$50,000.00 ': 39347, '$100,000.00 ': 33207, ...</td>\n",
       "    </tr>\n",
       "    <tr>\n",
       "      <th>15</th>\n",
       "      <td>BalanceGross</td>\n",
       "      <td>14</td>\n",
       "      <td>object</td>\n",
       "      <td>6</td>\n",
       "      <td>12</td>\n",
       "      <td>{'$0.00 ': 807437, '$996,262.00 ': 1, '$41,509...</td>\n",
       "    </tr>\n",
       "    <tr>\n",
       "      <th>16</th>\n",
       "      <td>GrAppv</td>\n",
       "      <td>20711</td>\n",
       "      <td>object</td>\n",
       "      <td>10</td>\n",
       "      <td>14</td>\n",
       "      <td>{'$50,000.00 ': 62407, '$100,000.00 ': 46037, ...</td>\n",
       "    </tr>\n",
       "    <tr>\n",
       "      <th>17</th>\n",
       "      <td>SBA_Appv</td>\n",
       "      <td>35896</td>\n",
       "      <td>object</td>\n",
       "      <td>8</td>\n",
       "      <td>14</td>\n",
       "      <td>{'$25,000.00 ': 44611, '$12,500.00 ': 35993, '...</td>\n",
       "    </tr>\n",
       "    <tr>\n",
       "      <th>18</th>\n",
       "      <td>LoanInd</td>\n",
       "      <td>20</td>\n",
       "      <td>int64</td>\n",
       "      <td>1</td>\n",
       "      <td>2</td>\n",
       "      <td>{5: 141815, 4: 141662, 6: 117800, 3: 113622, 7...</td>\n",
       "    </tr>\n",
       "    <tr>\n",
       "      <th>19</th>\n",
       "      <td>MIS_Status</td>\n",
       "      <td>2</td>\n",
       "      <td>int64</td>\n",
       "      <td>1</td>\n",
       "      <td>1</td>\n",
       "      <td>{0: 665648, 1: 141802}</td>\n",
       "    </tr>\n",
       "  </tbody>\n",
       "</table>\n",
       "</div>"
      ],
      "text/plain": [
       "           A_Variable  Levels Datatype  Min Length  Max Length  \\\n",
       "0                City   31282   object           1          30   \n",
       "1               State      51   object           2           3   \n",
       "2                 Zip   32684    int64           1           5   \n",
       "3                Bank    5723   object           3          30   \n",
       "4           BankState      56   object           2           3   \n",
       "5               NAICS    1308    int64           1           6   \n",
       "6               NoEmp     572    int64           1           4   \n",
       "7            NewExist       3  float64           3           3   \n",
       "8           CreateJob     240    int64           1           4   \n",
       "9         RetainedJob     354    int64           1           4   \n",
       "10      FranchiseCode    2702    int64           1           5   \n",
       "11         UrbanRural       3    int64           1           1   \n",
       "12          RevLineCr      18   object           1           3   \n",
       "13             LowDoc       8   object           1           3   \n",
       "14  DisbursementGross  109913   object          10          15   \n",
       "15       BalanceGross      14   object           6          12   \n",
       "16             GrAppv   20711   object          10          14   \n",
       "17           SBA_Appv   35896   object           8          14   \n",
       "18            LoanInd      20    int64           1           2   \n",
       "19         MIS_Status       2    int64           1           1   \n",
       "\n",
       "                                         Level_Values  \n",
       "0   {'LOS ANGELES': 10411, 'HOUSTON': 9199, 'NEW Y...  \n",
       "1   {'CA': 117588, 'TX': 63276, 'NY': 51662, 'FL':...  \n",
       "2   {90015: 859, 10001: 828, 93401: 686, 90010: 65...  \n",
       "3   {'BANK OF AMERICA NATL ASSOC': 78084, 'WELLS F...  \n",
       "4   {'CA': 106262, 'NC': 71538, 'IL': 59243, 'OH':...  \n",
       "5   {0: 181513, 722110: 25135, 722211: 17482, 8111...  \n",
       "6   {1: 137896, 2: 124295, 3: 81375, 4: 66150, 5: ...  \n",
       "7                {1.0: 579047, 2.0: 227352, 0.0: 929}  \n",
       "8   {0: 564999, 1: 56654, 2: 51866, 3: 25911, 4: 1...  \n",
       "9   {0: 396214, 1: 79161, 2: 69007, 3: 44781, 4: 3...  \n",
       "10  {1: 573389, 0: 187409, 78760: 3045, 68020: 174...  \n",
       "11                   {1: 422224, 0: 290672, 2: 94554}  \n",
       "12  {'N': 377572, '0': 231637, 'Y': 180374, 'T': 1...  \n",
       "13  {'N': 702838, 'Y': 99254, '0': 1333, 'C': 681,...  \n",
       "14  {'$50,000.00 ': 39347, '$100,000.00 ': 33207, ...  \n",
       "15  {'$0.00 ': 807437, '$996,262.00 ': 1, '$41,509...  \n",
       "16  {'$50,000.00 ': 62407, '$100,000.00 ': 46037, ...  \n",
       "17  {'$25,000.00 ': 44611, '$12,500.00 ': 35993, '...  \n",
       "18  {5: 141815, 4: 141662, 6: 117800, 3: 113622, 7...  \n",
       "19                             {0: 665648, 1: 141802}  "
      ]
     },
     "execution_count": 72,
     "metadata": {},
     "output_type": "execute_result"
    }
   ],
   "source": [
    "desc_df = describe_more(df1)\n",
    "desc_df"
   ]
  },
  {
   "cell_type": "code",
   "execution_count": 73,
   "id": "378cb55e",
   "metadata": {},
   "outputs": [
    {
     "name": "stdout",
     "output_type": "stream",
     "text": [
      "column City object\n",
      "column State object\n",
      "column Bank object\n",
      "column BankState object\n",
      "column NewExist float64\n",
      "column RevLineCr object\n",
      "column LowDoc object\n"
     ]
    }
   ],
   "source": [
    "#data clean up\n",
    "#filling na's\n",
    "\n",
    "values_to_fill = {}\n",
    "\n",
    "for col in df1.columns:\n",
    "    if df1[col].isna().any() == True:\n",
    "        print(\"column\",col,df1[col].dtype)\n",
    "        if pd.api.types.is_numeric_dtype(df1[col].dtype):\n",
    "            values_to_fill[col] = 0\n",
    "            \n",
    "        else:\n",
    "                values_to_fill[col] =\"Missing\"\n",
    "\n",
    "df1.fillna(value=values_to_fill,inplace=True) "
   ]
  },
  {
   "cell_type": "code",
   "execution_count": 74,
   "id": "73c5d7c0",
   "metadata": {},
   "outputs": [
    {
     "name": "stderr",
     "output_type": "stream",
     "text": [
      "The default value of regex will change from True to False in a future version. In addition, single character regular expressions will *not* be treated as literal strings when regex=True.\n"
     ]
    }
   ],
   "source": [
    "\n",
    "columns = ['DisbursementGross','BalanceGross','GrAppv','SBA_Appv']\n",
    "for column in columns:\n",
    "    df1[column] = df1[column].str.replace('$', '').str.replace(',','')\n",
    "\n",
    "# Change the features data format into float64\n",
    "df1[columns] = df1[columns].astype('float64')"
   ]
  },
  {
   "cell_type": "code",
   "execution_count": 75,
   "id": "51e10c04",
   "metadata": {
    "scrolled": false
   },
   "outputs": [
    {
     "data": {
      "text/plain": [
       "City                  object\n",
       "State                 object\n",
       "Zip                    int64\n",
       "Bank                  object\n",
       "BankState             object\n",
       "NAICS                  int64\n",
       "NoEmp                  int64\n",
       "NewExist             float64\n",
       "CreateJob              int64\n",
       "RetainedJob            int64\n",
       "FranchiseCode          int64\n",
       "UrbanRural             int64\n",
       "RevLineCr             object\n",
       "LowDoc                object\n",
       "DisbursementGross    float64\n",
       "BalanceGross         float64\n",
       "GrAppv               float64\n",
       "SBA_Appv             float64\n",
       "LoanInd                int64\n",
       "MIS_Status             int64\n",
       "dtype: object"
      ]
     },
     "execution_count": 75,
     "metadata": {},
     "output_type": "execute_result"
    }
   ],
   "source": [
    "df1.dtypes"
   ]
  },
  {
   "cell_type": "code",
   "execution_count": 76,
   "id": "2d71556d",
   "metadata": {
    "scrolled": true
   },
   "outputs": [
    {
     "data": {
      "text/plain": [
       "City                 0\n",
       "State                0\n",
       "Zip                  0\n",
       "Bank                 0\n",
       "BankState            0\n",
       "NAICS                0\n",
       "NoEmp                0\n",
       "NewExist             0\n",
       "CreateJob            0\n",
       "RetainedJob          0\n",
       "FranchiseCode        0\n",
       "UrbanRural           0\n",
       "RevLineCr            0\n",
       "LowDoc               0\n",
       "DisbursementGross    0\n",
       "BalanceGross         0\n",
       "GrAppv               0\n",
       "SBA_Appv             0\n",
       "LoanInd              0\n",
       "MIS_Status           0\n",
       "dtype: int64"
      ]
     },
     "execution_count": 76,
     "metadata": {},
     "output_type": "execute_result"
    }
   ],
   "source": [
    "df1.isnull().sum()"
   ]
  },
  {
   "cell_type": "code",
   "execution_count": 77,
   "id": "1a3175c4",
   "metadata": {
    "scrolled": true
   },
   "outputs": [
    {
     "data": {
      "text/plain": [
       "1.0    579047\n",
       "2.0    227352\n",
       "0.0      1051\n",
       "Name: NewExist, dtype: int64"
      ]
     },
     "execution_count": 77,
     "metadata": {},
     "output_type": "execute_result"
    }
   ],
   "source": [
    "#Feature Enginnering\n",
    "\n",
    "# NewExist = 0 not defined what it means, because it is only small number of data, I decided to drop it\n",
    "df1['NewExist'].value_counts()"
   ]
  },
  {
   "cell_type": "code",
   "execution_count": 78,
   "id": "38cfc586",
   "metadata": {},
   "outputs": [],
   "source": [
    "# -- Drop NewExist = 0\n",
    "index_exist0 = []\n",
    "for item in list(df1[df1['NewExist'] == 0].index):\n",
    "    index_exist0.append(item)\n",
    "\n",
    "df1.drop(index_exist0,inplace=True)\n",
    "\n",
    "# -- Change newExist\n",
    "def change_newexist(x):\n",
    "    if x == 1:\n",
    "        return 1\n",
    "    else:\n",
    "        return 0\n",
    "df1['NewExist'] = df1['NewExist'].apply(lambda x : change_newexist(x))"
   ]
  },
  {
   "cell_type": "code",
   "execution_count": 79,
   "id": "064c0e3c",
   "metadata": {},
   "outputs": [],
   "source": [
    "# -- change franchise\n",
    "\n",
    "def change_franchise(x):\n",
    "    if (x == 1) | (x == 0):\n",
    "        return 0\n",
    "    else :\n",
    "        return 1\n",
    "\n",
    "df1['FranchiseCode'] = df1['FranchiseCode'].apply(lambda x: change_franchise(x))"
   ]
  },
  {
   "cell_type": "code",
   "execution_count": 80,
   "id": "61456dff",
   "metadata": {
    "scrolled": true
   },
   "outputs": [
    {
     "data": {
      "text/plain": [
       "N          701908\n",
       "Y           99142\n",
       "Missing      2288\n",
       "0            1332\n",
       "C             677\n",
       "S             541\n",
       "A             444\n",
       "R              66\n",
       "1               1\n",
       "Name: LowDoc, dtype: int64"
      ]
     },
     "execution_count": 80,
     "metadata": {},
     "output_type": "execute_result"
    }
   ],
   "source": [
    "df1['LowDoc'].value_counts()"
   ]
  },
  {
   "cell_type": "code",
   "execution_count": 81,
   "id": "1d4e2e9c",
   "metadata": {
    "scrolled": true
   },
   "outputs": [],
   "source": [
    "#dropping values other than Y or N \n",
    "index_drop_lowdoc = []\n",
    "for index in list(df1[(df1['LowDoc'] != 'N') & (df1['LowDoc'] != 'Y')].index):\n",
    "    index_drop_lowdoc.append(index)\n",
    "\n",
    "df1.drop(index_drop_lowdoc,inplace=True)"
   ]
  },
  {
   "cell_type": "code",
   "execution_count": null,
   "id": "e9eb1e77",
   "metadata": {
    "scrolled": true
   },
   "outputs": [],
   "source": []
  },
  {
   "cell_type": "code",
   "execution_count": 82,
   "id": "ef974fe5",
   "metadata": {
    "scrolled": true
   },
   "outputs": [
    {
     "data": {
      "text/plain": [
       "N          372930\n",
       "0          231058\n",
       "Y          179485\n",
       "T           13660\n",
       "Missing      3860\n",
       "1              19\n",
       "R              13\n",
       "`              10\n",
       "2               5\n",
       ",               1\n",
       "7               1\n",
       "4               1\n",
       "A               1\n",
       "C               1\n",
       "Q               1\n",
       "-               1\n",
       ".               1\n",
       "5               1\n",
       "3               1\n",
       "Name: RevLineCr, dtype: int64"
      ]
     },
     "execution_count": 82,
     "metadata": {},
     "output_type": "execute_result"
    }
   ],
   "source": [
    "df1['RevLineCr'].value_counts()"
   ]
  },
  {
   "cell_type": "code",
   "execution_count": 83,
   "id": "103cb0eb",
   "metadata": {},
   "outputs": [],
   "source": [
    "#dropping values other than Y, N ,0,T\n",
    "index_drop_RevLineCr = []\n",
    "for index in list(df1[(df1['RevLineCr'] != 'N') & (df1['RevLineCr'] != 'Y') & (df1['RevLineCr'] != '0') & (df1['RevLineCr'] != 'T')].index):\n",
    "    index_drop_RevLineCr.append(index)\n",
    "\n",
    "df1.drop(index_drop_RevLineCr,inplace=True)"
   ]
  },
  {
   "cell_type": "code",
   "execution_count": null,
   "id": "f8cba9dd",
   "metadata": {
    "scrolled": true
   },
   "outputs": [],
   "source": [
    "#Adding New Features"
   ]
  },
  {
   "cell_type": "code",
   "execution_count": 86,
   "id": "1f68425a",
   "metadata": {},
   "outputs": [],
   "source": [
    "import numpy as np\n",
    "# wheter the bank and customer are in the same state\n",
    "df1['state_and_bankstate'] = np.where(df1['State'] == df1['BankState'], 1, 0)\n",
    "# The difference between initial approved amount and final amount of loan\n",
    "df1['diff_loan_amt1'] = df1['GrAppv'] - df1['SBA_Appv']\n",
    "# The difference between approved amount of loan and the requested amount of loan\n",
    "df1['diff_loan_amt2'] = df1['DisbursementGross'] - df1['SBA_Appv']\n",
    "# amount of instalment\n",
    "df1['total_job'] = df1['CreateJob'] * df1['RetainedJob']"
   ]
  },
  {
   "cell_type": "code",
   "execution_count": 87,
   "id": "680fb16e",
   "metadata": {},
   "outputs": [],
   "source": [
    "from sklearn.model_selection import train_test_split\n",
    "train_sba, test_sba = train_test_split(df1, test_size=0.3, random_state=42)"
   ]
  },
  {
   "cell_type": "code",
   "execution_count": 88,
   "id": "ad00644e",
   "metadata": {},
   "outputs": [
    {
     "data": {
      "text/plain": [
       "((557993, 23), (557993,), (239140, 23), (239140,))"
      ]
     },
     "execution_count": 88,
     "metadata": {},
     "output_type": "execute_result"
    }
   ],
   "source": [
    "X_train = train_sba.drop(columns='MIS_Status')\n",
    "y_train = train_sba['MIS_Status']\n",
    "X_test = test_sba.drop(columns='MIS_Status')\n",
    "y_test = test_sba['MIS_Status']\n",
    "X_train.shape, y_train.shape, X_test.shape, y_test.shape"
   ]
  },
  {
   "cell_type": "code",
   "execution_count": 89,
   "id": "3431b28c",
   "metadata": {
    "scrolled": true
   },
   "outputs": [
    {
     "name": "stdout",
     "output_type": "stream",
     "text": [
      "Target Encoding of  City\n",
      "Target Encoding of  State\n",
      "Target Encoding of  Bank\n",
      "Target Encoding of  BankState\n",
      "One-hot encoding of  RevLineCr\n"
     ]
    },
    {
     "name": "stderr",
     "output_type": "stream",
     "text": [
      "`sparse` was renamed to `sparse_output` in version 1.2 and will be removed in 1.4. `sparse_output` is ignored unless you leave `sparse` to its default value.\n"
     ]
    },
    {
     "name": "stdout",
     "output_type": "stream",
     "text": [
      "One-hot encoding of  LowDoc\n"
     ]
    },
    {
     "name": "stderr",
     "output_type": "stream",
     "text": [
      "`sparse` was renamed to `sparse_output` in version 1.2 and will be removed in 1.4. `sparse_output` is ignored unless you leave `sparse` to its default value.\n"
     ]
    }
   ],
   "source": [
    "from sklearn.preprocessing import OneHotEncoder\n",
    "from category_encoders import TargetEncoder\n",
    "from copy import deepcopy\n",
    "import joblib\n",
    "import dill\n",
    "\n",
    "'''Save original columns that need to be droped or not used\n",
    "   Save One-hot and Label encoders for future use\n",
    "'''\n",
    "#Columns to drop from ML models\n",
    "cols_to_drop = []\n",
    "#Categorical encoders disctionary\n",
    "cat_encoders = {}\n",
    "#New categorical (encoded) columns\n",
    "cat_enc_columns = []\n",
    "\n",
    "for col in X_train.columns:\n",
    "    if X_train[col].dtype == 'object':\n",
    "        if X_train[col].nunique() < 10:\n",
    "            print(\"One-hot encoding of \", col)\n",
    "            enc = OneHotEncoder( handle_unknown='ignore', sparse=False)\n",
    "            enc.fit(X_train[[col]])\n",
    "            joblib.dump(enc, col + '_enc.joblib')\n",
    "            result = enc.transform(X_train[[col]])\n",
    "            ohe_columns = [col+\"_\"+str(x) for x in enc.categories_[0]]\n",
    "            cat_enc_columns = cat_enc_columns + ohe_columns\n",
    "            result_train = pd.DataFrame(result, columns=ohe_columns , index=X_train.index)\n",
    "            X_train = pd.concat([X_train, result_train.reindex(X_train.index)], axis=1 , join='inner')\n",
    "            '''Encode Testing'''\n",
    "            result = enc.transform(X_test[[col]])\n",
    "            result_test = pd.DataFrame(result, columns=ohe_columns , index=X_test.index)\n",
    "            X_test = pd.concat([X_test, result_test.reindex(X_test.index)], axis=1 , join='inner')\n",
    "            cat_encoders[col] = [deepcopy(enc),\"ohe\"]\n",
    "        else:\n",
    "            print(\"Target Encoding of \", col)\n",
    "            enc = TargetEncoder()\n",
    "            enc.fit(X_train[col] , y = y_train , handle_unknown='value' )\n",
    "            #dill.dump(enc, open(col+'_trg_'+'pre_processing.pkl', \"wb\"))\n",
    "            new_col_name = col+\"_trg\"\n",
    "            X_train[new_col_name] = enc.transform(X_train[[col]])\n",
    "            X_test[new_col_name] = enc.transform(X_test[[col]])\n",
    "            cat_encoders[col] = [deepcopy(enc),\"trg\"]\n",
    "            cat_enc_columns.append(new_col_name)\n",
    "\n",
    "\n",
    "        cols_to_drop.append(col)\n",
    "\n",
    "X_train.drop(cols_to_drop, axis=1, inplace=True)\n",
    "X_test.drop(cols_to_drop, axis=1, inplace=True)"
   ]
  },
  {
   "cell_type": "code",
   "execution_count": 179,
   "id": "99b37567",
   "metadata": {},
   "outputs": [
    {
     "data": {
      "text/html": [
       "<div>\n",
       "<style scoped>\n",
       "    .dataframe tbody tr th:only-of-type {\n",
       "        vertical-align: middle;\n",
       "    }\n",
       "\n",
       "    .dataframe tbody tr th {\n",
       "        vertical-align: top;\n",
       "    }\n",
       "\n",
       "    .dataframe thead th {\n",
       "        text-align: right;\n",
       "    }\n",
       "</style>\n",
       "<table border=\"1\" class=\"dataframe\">\n",
       "  <thead>\n",
       "    <tr style=\"text-align: right;\">\n",
       "      <th></th>\n",
       "      <th>Zip</th>\n",
       "      <th>NAICS</th>\n",
       "      <th>NoEmp</th>\n",
       "      <th>NewExist</th>\n",
       "      <th>CreateJob</th>\n",
       "      <th>RetainedJob</th>\n",
       "      <th>FranchiseCode</th>\n",
       "      <th>UrbanRural</th>\n",
       "      <th>DisbursementGross</th>\n",
       "      <th>BalanceGross</th>\n",
       "      <th>...</th>\n",
       "      <th>City_trg</th>\n",
       "      <th>State_trg</th>\n",
       "      <th>Bank_trg</th>\n",
       "      <th>BankState_trg</th>\n",
       "      <th>RevLineCr_0</th>\n",
       "      <th>RevLineCr_N</th>\n",
       "      <th>RevLineCr_T</th>\n",
       "      <th>RevLineCr_Y</th>\n",
       "      <th>LowDoc_N</th>\n",
       "      <th>LowDoc_Y</th>\n",
       "    </tr>\n",
       "  </thead>\n",
       "  <tbody>\n",
       "    <tr>\n",
       "      <th>40328</th>\n",
       "      <td>63141</td>\n",
       "      <td>339999</td>\n",
       "      <td>2</td>\n",
       "      <td>1</td>\n",
       "      <td>1</td>\n",
       "      <td>3</td>\n",
       "      <td>0</td>\n",
       "      <td>1</td>\n",
       "      <td>19343.0</td>\n",
       "      <td>0.0</td>\n",
       "      <td>...</td>\n",
       "      <td>0.320755</td>\n",
       "      <td>0.156467</td>\n",
       "      <td>0.176135</td>\n",
       "      <td>0.159365</td>\n",
       "      <td>0.0</td>\n",
       "      <td>0.0</td>\n",
       "      <td>0.0</td>\n",
       "      <td>1.0</td>\n",
       "      <td>1.0</td>\n",
       "      <td>0.0</td>\n",
       "    </tr>\n",
       "    <tr>\n",
       "      <th>10471</th>\n",
       "      <td>57073</td>\n",
       "      <td>561720</td>\n",
       "      <td>0</td>\n",
       "      <td>0</td>\n",
       "      <td>2</td>\n",
       "      <td>0</td>\n",
       "      <td>0</td>\n",
       "      <td>2</td>\n",
       "      <td>45000.0</td>\n",
       "      <td>0.0</td>\n",
       "      <td>...</td>\n",
       "      <td>0.153365</td>\n",
       "      <td>0.079604</td>\n",
       "      <td>0.073741</td>\n",
       "      <td>0.181638</td>\n",
       "      <td>0.0</td>\n",
       "      <td>1.0</td>\n",
       "      <td>0.0</td>\n",
       "      <td>0.0</td>\n",
       "      <td>1.0</td>\n",
       "      <td>0.0</td>\n",
       "    </tr>\n",
       "    <tr>\n",
       "      <th>805497</th>\n",
       "      <td>30016</td>\n",
       "      <td>541430</td>\n",
       "      <td>3</td>\n",
       "      <td>1</td>\n",
       "      <td>1</td>\n",
       "      <td>4</td>\n",
       "      <td>0</td>\n",
       "      <td>1</td>\n",
       "      <td>15000.0</td>\n",
       "      <td>0.0</td>\n",
       "      <td>...</td>\n",
       "      <td>0.215190</td>\n",
       "      <td>0.239354</td>\n",
       "      <td>0.549807</td>\n",
       "      <td>0.218410</td>\n",
       "      <td>0.0</td>\n",
       "      <td>1.0</td>\n",
       "      <td>0.0</td>\n",
       "      <td>0.0</td>\n",
       "      <td>1.0</td>\n",
       "      <td>0.0</td>\n",
       "    </tr>\n",
       "    <tr>\n",
       "      <th>265303</th>\n",
       "      <td>41017</td>\n",
       "      <td>0</td>\n",
       "      <td>30</td>\n",
       "      <td>1</td>\n",
       "      <td>0</td>\n",
       "      <td>30</td>\n",
       "      <td>0</td>\n",
       "      <td>1</td>\n",
       "      <td>172200.0</td>\n",
       "      <td>0.0</td>\n",
       "      <td>...</td>\n",
       "      <td>0.141428</td>\n",
       "      <td>0.193362</td>\n",
       "      <td>0.275299</td>\n",
       "      <td>0.223764</td>\n",
       "      <td>1.0</td>\n",
       "      <td>0.0</td>\n",
       "      <td>0.0</td>\n",
       "      <td>0.0</td>\n",
       "      <td>1.0</td>\n",
       "      <td>0.0</td>\n",
       "    </tr>\n",
       "    <tr>\n",
       "      <th>670318</th>\n",
       "      <td>66205</td>\n",
       "      <td>448190</td>\n",
       "      <td>10</td>\n",
       "      <td>1</td>\n",
       "      <td>0</td>\n",
       "      <td>10</td>\n",
       "      <td>0</td>\n",
       "      <td>1</td>\n",
       "      <td>116459.0</td>\n",
       "      <td>0.0</td>\n",
       "      <td>...</td>\n",
       "      <td>0.187970</td>\n",
       "      <td>0.131715</td>\n",
       "      <td>0.176135</td>\n",
       "      <td>0.159365</td>\n",
       "      <td>0.0</td>\n",
       "      <td>0.0</td>\n",
       "      <td>0.0</td>\n",
       "      <td>1.0</td>\n",
       "      <td>1.0</td>\n",
       "      <td>0.0</td>\n",
       "    </tr>\n",
       "  </tbody>\n",
       "</table>\n",
       "<p>5 rows × 27 columns</p>\n",
       "</div>"
      ],
      "text/plain": [
       "          Zip   NAICS  NoEmp  NewExist  CreateJob  RetainedJob  FranchiseCode  \\\n",
       "40328   63141  339999      2         1          1            3              0   \n",
       "10471   57073  561720      0         0          2            0              0   \n",
       "805497  30016  541430      3         1          1            4              0   \n",
       "265303  41017       0     30         1          0           30              0   \n",
       "670318  66205  448190     10         1          0           10              0   \n",
       "\n",
       "        UrbanRural  DisbursementGross  BalanceGross  ...  City_trg  State_trg  \\\n",
       "40328            1            19343.0           0.0  ...  0.320755   0.156467   \n",
       "10471            2            45000.0           0.0  ...  0.153365   0.079604   \n",
       "805497           1            15000.0           0.0  ...  0.215190   0.239354   \n",
       "265303           1           172200.0           0.0  ...  0.141428   0.193362   \n",
       "670318           1           116459.0           0.0  ...  0.187970   0.131715   \n",
       "\n",
       "        Bank_trg  BankState_trg  RevLineCr_0  RevLineCr_N  RevLineCr_T  \\\n",
       "40328   0.176135       0.159365          0.0          0.0          0.0   \n",
       "10471   0.073741       0.181638          0.0          1.0          0.0   \n",
       "805497  0.549807       0.218410          0.0          1.0          0.0   \n",
       "265303  0.275299       0.223764          1.0          0.0          0.0   \n",
       "670318  0.176135       0.159365          0.0          0.0          0.0   \n",
       "\n",
       "        RevLineCr_Y  LowDoc_N  LowDoc_Y  \n",
       "40328           1.0       1.0       0.0  \n",
       "10471           0.0       1.0       0.0  \n",
       "805497          0.0       1.0       0.0  \n",
       "265303          0.0       1.0       0.0  \n",
       "670318          1.0       1.0       0.0  \n",
       "\n",
       "[5 rows x 27 columns]"
      ]
     },
     "execution_count": 179,
     "metadata": {},
     "output_type": "execute_result"
    }
   ],
   "source": [
    "X_train[:5]"
   ]
  },
  {
   "cell_type": "code",
   "execution_count": 90,
   "id": "69fdee0f",
   "metadata": {
    "scrolled": true
   },
   "outputs": [],
   "source": [
    "\n",
    "import lightgbm as lgb\n",
    "from sklearn.model_selection import StratifiedKFold\n",
    "from sklearn.model_selection import RandomizedSearchCV\n",
    "from sklearn.metrics import roc_auc_score\n",
    "from sklearn.metrics import confusion_matrix"
   ]
  },
  {
   "cell_type": "code",
   "execution_count": 91,
   "id": "f7db1e8e",
   "metadata": {
    "scrolled": true
   },
   "outputs": [],
   "source": [
    "\n",
    "import lightgbm as lgb\n",
    "\n",
    "train_data = lgb.Dataset(data=X_train, label=y_train, params={\"verbose\":-1})\n",
    "test_data = lgb.Dataset(data=X_test, label=y_test, params={\"verbose\":-1})\n",
    "lgb_clf = lgb.train(params={\"verbose\":-1},\n",
    "                    train_set=train_data)\n"
   ]
  },
  {
   "cell_type": "code",
   "execution_count": 92,
   "id": "71c252c8",
   "metadata": {},
   "outputs": [
    {
     "name": "stdout",
     "output_type": "stream",
     "text": [
      "AUC score on Test dataset: 0.8040597213166862\n",
      "AUC score on Train dataset: 0.835601262791744\n"
     ]
    }
   ],
   "source": [
    "from sklearn.metrics import roc_auc_score\n",
    "print(\"AUC score on Test dataset:\", roc_auc_score(y_test, lgb_clf.predict(X_test)))\n",
    "print(\"AUC score on Train dataset:\", roc_auc_score(y_train, lgb_clf.predict(X_train)))\n",
    "             "
   ]
  },
  {
   "cell_type": "code",
   "execution_count": 93,
   "id": "027793ac",
   "metadata": {
    "scrolled": false
   },
   "outputs": [],
   "source": [
    "from optuna.integration import LightGBMPruningCallback\n",
    "import tqdm as notebook_tqdm\n",
    "from sklearn.model_selection import StratifiedKFold\n",
    "from sklearn.metrics import roc_auc_score\n",
    "import optuna\n",
    "import warnings\n",
    "\n",
    "warnings.filterwarnings(\"ignore\", category=UserWarning)\n",
    "study_model_iteractions = {}\n",
    "\n",
    "def objective(trial, X, y):\n",
    "    param_grid = {\n",
    "        \n",
    "        \"num_iterations\": 10000,\n",
    "        \"learning_rate\": trial.suggest_float(\"learning_rate\", 0.01, 0.3, step=0.05),\n",
    "        \"num_leaves\": trial.suggest_int(\"num_leaves\", 50, 150, step=5),\n",
    "        \"max_depth\": trial.suggest_int(\"max_depth\", 5, 20, step=2),\n",
    "        \"min_data_in_leaf\": trial.suggest_int(\"min_data_in_leaf\", 100, 1000, step=100),\n",
    "    \n",
    "        'lambda_l1': trial.suggest_loguniform('lambda_l1', 1e-8, 10.0),\n",
    "        'lambda_l2': trial.suggest_loguniform('lambda_l2', 1e-8, 10.0),\n",
    "       \n",
    "        \"bagging_fraction\": trial.suggest_float(\"bagging_fraction\", 0.8, 1.0, step=0.1),\n",
    "        \"bagging_freq\": trial.suggest_categorical(\"bagging_freq\", [5]),\n",
    "        \"feature_fraction\": trial.suggest_float(\"feature_fraction\", 0.8, 1.0, step=0.1),\n",
    "       \n",
    "        \"is_unbalance\": trial.suggest_categorical(\"is_unbalance\",[True, False]),\n",
    "     \n",
    "        \"verbose\": -1,\n",
    "        \"objective\":\"binary\",\n",
    "        \"metric\":\"auc\"\n",
    "    }\n",
    "\n",
    "    cv = StratifiedKFold(n_splits=5, shuffle=True, random_state=1121218)\n",
    "\n",
    "    cv_scores = np.empty(5)\n",
    "    cv_iteractions = np.empty(5)\n",
    "    for idx, (train_idx, test_idx) in enumerate(cv.split(X, y)):\n",
    "        X_train, X_valid = X.iloc[train_idx], X.iloc[test_idx]\n",
    "        y_train, y_valid = y.iloc[train_idx], y.iloc[test_idx]\n",
    "\n",
    "        train_data = lgb.Dataset(data=X_train, label=y_train, params={\"verbose\":-1})\n",
    "        valid_data = lgb.Dataset(data=X_valid, label=y_valid, params={\"verbose\":-1})\n",
    "        lgb_clf = lgb.train(params=param_grid,\n",
    "                            train_set=train_data,\n",
    "                            valid_sets=[valid_data],\n",
    "                          callbacks=[LightGBMPruningCallback(trial, \"auc\"),\n",
    "                          lgb.early_stopping(stopping_rounds=5)]  \n",
    "                            )\n",
    "        preds = lgb_clf.predict(X_valid)\n",
    "        cv_scores[idx] = roc_auc_score(y_valid, preds)\n",
    "        cv_iteractions[idx] = lgb_clf.best_iteration\n",
    "    \n",
    "    study_model_iteractions[trial.number] = np.mean(cv_iteractions)\n",
    "\n",
    "    return np.mean(cv_scores)"
   ]
  },
  {
   "cell_type": "code",
   "execution_count": 94,
   "id": "9f510456",
   "metadata": {
    "scrolled": false
   },
   "outputs": [
    {
     "name": "stderr",
     "output_type": "stream",
     "text": [
      "\u001b[32m[I 2023-05-06 18:29:23,952]\u001b[0m A new study created in memory with name: LGBM Classifier\u001b[0m\n",
      "suggest_loguniform has been deprecated in v3.0.0. This feature will be removed in v6.0.0. See https://github.com/optuna/optuna/releases/tag/v3.0.0. Use :func:`~optuna.trial.Trial.suggest_float` instead.\n",
      "suggest_loguniform has been deprecated in v3.0.0. This feature will be removed in v6.0.0. See https://github.com/optuna/optuna/releases/tag/v3.0.0. Use :func:`~optuna.trial.Trial.suggest_float` instead.\n"
     ]
    },
    {
     "name": "stdout",
     "output_type": "stream",
     "text": [
      "Training until validation scores don't improve for 5 rounds\n",
      "Early stopping, best iteration is:\n",
      "[190]\tvalid_0's auc: 0.851018\n",
      "Training until validation scores don't improve for 5 rounds\n",
      "Early stopping, best iteration is:\n",
      "[160]\tvalid_0's auc: 0.849149\n",
      "Training until validation scores don't improve for 5 rounds\n",
      "Early stopping, best iteration is:\n",
      "[210]\tvalid_0's auc: 0.84961\n",
      "Training until validation scores don't improve for 5 rounds\n",
      "Early stopping, best iteration is:\n",
      "[159]\tvalid_0's auc: 0.848857\n",
      "Training until validation scores don't improve for 5 rounds\n",
      "Early stopping, best iteration is:\n",
      "[112]\tvalid_0's auc: 0.847607\n"
     ]
    },
    {
     "name": "stderr",
     "output_type": "stream",
     "text": [
      "\u001b[32m[I 2023-05-06 18:29:58,039]\u001b[0m Trial 0 finished with value: 0.8492484384542918 and parameters: {'learning_rate': 0.16000000000000003, 'num_leaves': 85, 'max_depth': 17, 'min_data_in_leaf': 400, 'lambda_l1': 8.850327227019096e-05, 'lambda_l2': 2.2207555030409676, 'bagging_fraction': 0.9, 'bagging_freq': 5, 'feature_fraction': 0.8, 'is_unbalance': False}. Best is trial 0 with value: 0.8492484384542918.\u001b[0m\n",
      "suggest_loguniform has been deprecated in v3.0.0. This feature will be removed in v6.0.0. See https://github.com/optuna/optuna/releases/tag/v3.0.0. Use :func:`~optuna.trial.Trial.suggest_float` instead.\n",
      "suggest_loguniform has been deprecated in v3.0.0. This feature will be removed in v6.0.0. See https://github.com/optuna/optuna/releases/tag/v3.0.0. Use :func:`~optuna.trial.Trial.suggest_float` instead.\n"
     ]
    },
    {
     "name": "stdout",
     "output_type": "stream",
     "text": [
      "Training until validation scores don't improve for 5 rounds\n",
      "Early stopping, best iteration is:\n",
      "[1690]\tvalid_0's auc: 0.8497\n",
      "Training until validation scores don't improve for 5 rounds\n",
      "Early stopping, best iteration is:\n",
      "[1739]\tvalid_0's auc: 0.848744\n",
      "Training until validation scores don't improve for 5 rounds\n",
      "Early stopping, best iteration is:\n",
      "[1495]\tvalid_0's auc: 0.847144\n",
      "Training until validation scores don't improve for 5 rounds\n",
      "Early stopping, best iteration is:\n",
      "[1143]\tvalid_0's auc: 0.845951\n",
      "Training until validation scores don't improve for 5 rounds\n",
      "Early stopping, best iteration is:\n",
      "[1610]\tvalid_0's auc: 0.84839\n"
     ]
    },
    {
     "name": "stderr",
     "output_type": "stream",
     "text": [
      "\u001b[32m[I 2023-05-06 18:37:00,735]\u001b[0m Trial 1 finished with value: 0.8479857121541281 and parameters: {'learning_rate': 0.01, 'num_leaves': 110, 'max_depth': 13, 'min_data_in_leaf': 900, 'lambda_l1': 5.932350072415171e-05, 'lambda_l2': 2.3282118785476993e-08, 'bagging_fraction': 0.8, 'bagging_freq': 5, 'feature_fraction': 1.0, 'is_unbalance': True}. Best is trial 0 with value: 0.8492484384542918.\u001b[0m\n",
      "suggest_loguniform has been deprecated in v3.0.0. This feature will be removed in v6.0.0. See https://github.com/optuna/optuna/releases/tag/v3.0.0. Use :func:`~optuna.trial.Trial.suggest_float` instead.\n",
      "suggest_loguniform has been deprecated in v3.0.0. This feature will be removed in v6.0.0. See https://github.com/optuna/optuna/releases/tag/v3.0.0. Use :func:`~optuna.trial.Trial.suggest_float` instead.\n"
     ]
    },
    {
     "name": "stdout",
     "output_type": "stream",
     "text": [
      "Training until validation scores don't improve for 5 rounds\n",
      "Early stopping, best iteration is:\n",
      "[98]\tvalid_0's auc: 0.848807\n",
      "Training until validation scores don't improve for 5 rounds\n",
      "Early stopping, best iteration is:\n",
      "[82]\tvalid_0's auc: 0.847336\n",
      "Training until validation scores don't improve for 5 rounds\n",
      "Early stopping, best iteration is:\n",
      "[126]\tvalid_0's auc: 0.847039\n",
      "Training until validation scores don't improve for 5 rounds\n",
      "Early stopping, best iteration is:\n",
      "[87]\tvalid_0's auc: 0.848049\n",
      "Training until validation scores don't improve for 5 rounds\n",
      "Early stopping, best iteration is:\n",
      "[85]\tvalid_0's auc: 0.846369\n"
     ]
    },
    {
     "name": "stderr",
     "output_type": "stream",
     "text": [
      "\u001b[32m[I 2023-05-06 18:37:25,984]\u001b[0m Trial 2 finished with value: 0.8475200015530989 and parameters: {'learning_rate': 0.26, 'num_leaves': 85, 'max_depth': 13, 'min_data_in_leaf': 500, 'lambda_l1': 1.1711206954356755e-05, 'lambda_l2': 6.225598074966023e-08, 'bagging_fraction': 0.9, 'bagging_freq': 5, 'feature_fraction': 0.8, 'is_unbalance': False}. Best is trial 0 with value: 0.8492484384542918.\u001b[0m\n",
      "suggest_loguniform has been deprecated in v3.0.0. This feature will be removed in v6.0.0. See https://github.com/optuna/optuna/releases/tag/v3.0.0. Use :func:`~optuna.trial.Trial.suggest_float` instead.\n",
      "suggest_loguniform has been deprecated in v3.0.0. This feature will be removed in v6.0.0. See https://github.com/optuna/optuna/releases/tag/v3.0.0. Use :func:`~optuna.trial.Trial.suggest_float` instead.\n"
     ]
    },
    {
     "name": "stdout",
     "output_type": "stream",
     "text": [
      "Training until validation scores don't improve for 5 rounds\n",
      "Early stopping, best iteration is:\n",
      "[45]\tvalid_0's auc: 0.815723\n",
      "Training until validation scores don't improve for 5 rounds\n",
      "Early stopping, best iteration is:\n",
      "[1770]\tvalid_0's auc: 0.850741\n",
      "Training until validation scores don't improve for 5 rounds\n",
      "Early stopping, best iteration is:\n",
      "[45]\tvalid_0's auc: 0.813499\n",
      "Training until validation scores don't improve for 5 rounds\n",
      "Early stopping, best iteration is:\n",
      "[1936]\tvalid_0's auc: 0.851051\n",
      "Training until validation scores don't improve for 5 rounds\n",
      "Early stopping, best iteration is:\n",
      "[1586]\tvalid_0's auc: 0.850234\n"
     ]
    },
    {
     "name": "stderr",
     "output_type": "stream",
     "text": [
      "\u001b[32m[I 2023-05-06 18:43:22,751]\u001b[0m Trial 3 finished with value: 0.8362498023031938 and parameters: {'learning_rate': 0.01, 'num_leaves': 140, 'max_depth': 17, 'min_data_in_leaf': 800, 'lambda_l1': 0.14742157422563124, 'lambda_l2': 2.020098181452384e-07, 'bagging_fraction': 0.9, 'bagging_freq': 5, 'feature_fraction': 0.9, 'is_unbalance': False}. Best is trial 0 with value: 0.8492484384542918.\u001b[0m\n",
      "suggest_loguniform has been deprecated in v3.0.0. This feature will be removed in v6.0.0. See https://github.com/optuna/optuna/releases/tag/v3.0.0. Use :func:`~optuna.trial.Trial.suggest_float` instead.\n",
      "suggest_loguniform has been deprecated in v3.0.0. This feature will be removed in v6.0.0. See https://github.com/optuna/optuna/releases/tag/v3.0.0. Use :func:`~optuna.trial.Trial.suggest_float` instead.\n"
     ]
    },
    {
     "name": "stdout",
     "output_type": "stream",
     "text": [
      "Training until validation scores don't improve for 5 rounds\n",
      "Early stopping, best iteration is:\n",
      "[412]\tvalid_0's auc: 0.849597\n",
      "Training until validation scores don't improve for 5 rounds\n",
      "Early stopping, best iteration is:\n",
      "[442]\tvalid_0's auc: 0.848486\n",
      "Training until validation scores don't improve for 5 rounds\n",
      "Early stopping, best iteration is:\n",
      "[338]\tvalid_0's auc: 0.845507\n",
      "Training until validation scores don't improve for 5 rounds\n",
      "Early stopping, best iteration is:\n",
      "[314]\tvalid_0's auc: 0.845581\n",
      "Training until validation scores don't improve for 5 rounds\n",
      "Early stopping, best iteration is:\n",
      "[253]\tvalid_0's auc: 0.844675\n"
     ]
    },
    {
     "name": "stderr",
     "output_type": "stream",
     "text": [
      "\u001b[32m[I 2023-05-06 18:44:00,553]\u001b[0m Trial 4 finished with value: 0.8467692260311781 and parameters: {'learning_rate': 0.16000000000000003, 'num_leaves': 110, 'max_depth': 5, 'min_data_in_leaf': 1000, 'lambda_l1': 3.826893941724972e-07, 'lambda_l2': 0.7636321048076403, 'bagging_fraction': 1.0, 'bagging_freq': 5, 'feature_fraction': 1.0, 'is_unbalance': False}. Best is trial 0 with value: 0.8492484384542918.\u001b[0m\n",
      "suggest_loguniform has been deprecated in v3.0.0. This feature will be removed in v6.0.0. See https://github.com/optuna/optuna/releases/tag/v3.0.0. Use :func:`~optuna.trial.Trial.suggest_float` instead.\n",
      "suggest_loguniform has been deprecated in v3.0.0. This feature will be removed in v6.0.0. See https://github.com/optuna/optuna/releases/tag/v3.0.0. Use :func:`~optuna.trial.Trial.suggest_float` instead.\n",
      "\u001b[32m[I 2023-05-06 18:44:01,678]\u001b[0m Trial 5 pruned. Trial was pruned at iteration 2.\u001b[0m\n"
     ]
    },
    {
     "name": "stdout",
     "output_type": "stream",
     "text": [
      "Training until validation scores don't improve for 5 rounds\n"
     ]
    },
    {
     "name": "stderr",
     "output_type": "stream",
     "text": [
      "suggest_loguniform has been deprecated in v3.0.0. This feature will be removed in v6.0.0. See https://github.com/optuna/optuna/releases/tag/v3.0.0. Use :func:`~optuna.trial.Trial.suggest_float` instead.\n",
      "suggest_loguniform has been deprecated in v3.0.0. This feature will be removed in v6.0.0. See https://github.com/optuna/optuna/releases/tag/v3.0.0. Use :func:`~optuna.trial.Trial.suggest_float` instead.\n"
     ]
    },
    {
     "name": "stdout",
     "output_type": "stream",
     "text": [
      "Training until validation scores don't improve for 5 rounds\n",
      "Early stopping, best iteration is:\n",
      "[120]\tvalid_0's auc: 0.850578\n",
      "Training until validation scores don't improve for 5 rounds\n",
      "Early stopping, best iteration is:\n",
      "[117]\tvalid_0's auc: 0.849336\n",
      "Training until validation scores don't improve for 5 rounds\n",
      "Early stopping, best iteration is:\n",
      "[122]\tvalid_0's auc: 0.848344\n",
      "Training until validation scores don't improve for 5 rounds\n",
      "Early stopping, best iteration is:\n",
      "[89]\tvalid_0's auc: 0.847986\n",
      "Training until validation scores don't improve for 5 rounds\n",
      "Early stopping, best iteration is:\n",
      "[102]\tvalid_0's auc: 0.848125\n"
     ]
    },
    {
     "name": "stderr",
     "output_type": "stream",
     "text": [
      "\u001b[32m[I 2023-05-06 18:44:36,911]\u001b[0m Trial 6 finished with value: 0.848874070359081 and parameters: {'learning_rate': 0.16000000000000003, 'num_leaves': 150, 'max_depth': 17, 'min_data_in_leaf': 400, 'lambda_l1': 1.4106619762096356e-07, 'lambda_l2': 1.0443160406706702e-06, 'bagging_fraction': 0.9, 'bagging_freq': 5, 'feature_fraction': 1.0, 'is_unbalance': False}. Best is trial 0 with value: 0.8492484384542918.\u001b[0m\n",
      "suggest_loguniform has been deprecated in v3.0.0. This feature will be removed in v6.0.0. See https://github.com/optuna/optuna/releases/tag/v3.0.0. Use :func:`~optuna.trial.Trial.suggest_float` instead.\n",
      "suggest_loguniform has been deprecated in v3.0.0. This feature will be removed in v6.0.0. See https://github.com/optuna/optuna/releases/tag/v3.0.0. Use :func:`~optuna.trial.Trial.suggest_float` instead.\n",
      "\u001b[32m[I 2023-05-06 18:44:37,952]\u001b[0m Trial 7 pruned. Trial was pruned at iteration 1.\u001b[0m\n"
     ]
    },
    {
     "name": "stdout",
     "output_type": "stream",
     "text": [
      "Training until validation scores don't improve for 5 rounds\n"
     ]
    },
    {
     "name": "stderr",
     "output_type": "stream",
     "text": [
      "suggest_loguniform has been deprecated in v3.0.0. This feature will be removed in v6.0.0. See https://github.com/optuna/optuna/releases/tag/v3.0.0. Use :func:`~optuna.trial.Trial.suggest_float` instead.\n",
      "suggest_loguniform has been deprecated in v3.0.0. This feature will be removed in v6.0.0. See https://github.com/optuna/optuna/releases/tag/v3.0.0. Use :func:`~optuna.trial.Trial.suggest_float` instead.\n",
      "\u001b[32m[I 2023-05-06 18:44:38,831]\u001b[0m Trial 8 pruned. Trial was pruned at iteration 0.\u001b[0m\n",
      "suggest_loguniform has been deprecated in v3.0.0. This feature will be removed in v6.0.0. See https://github.com/optuna/optuna/releases/tag/v3.0.0. Use :func:`~optuna.trial.Trial.suggest_float` instead.\n",
      "suggest_loguniform has been deprecated in v3.0.0. This feature will be removed in v6.0.0. See https://github.com/optuna/optuna/releases/tag/v3.0.0. Use :func:`~optuna.trial.Trial.suggest_float` instead.\n"
     ]
    },
    {
     "name": "stdout",
     "output_type": "stream",
     "text": [
      "Training until validation scores don't improve for 5 rounds\n",
      "Early stopping, best iteration is:\n",
      "[99]\tvalid_0's auc: 0.849477\n",
      "Training until validation scores don't improve for 5 rounds\n",
      "Early stopping, best iteration is:\n",
      "[82]\tvalid_0's auc: 0.847398\n",
      "Training until validation scores don't improve for 5 rounds\n",
      "Early stopping, best iteration is:\n",
      "[133]\tvalid_0's auc: 0.848666\n",
      "Training until validation scores don't improve for 5 rounds\n",
      "Early stopping, best iteration is:\n",
      "[80]\tvalid_0's auc: 0.847826\n",
      "Training until validation scores don't improve for 5 rounds\n",
      "Early stopping, best iteration is:\n",
      "[127]\tvalid_0's auc: 0.848847\n"
     ]
    },
    {
     "name": "stderr",
     "output_type": "stream",
     "text": [
      "\u001b[32m[I 2023-05-06 18:45:07,772]\u001b[0m Trial 9 finished with value: 0.8484427522622399 and parameters: {'learning_rate': 0.16000000000000003, 'num_leaves': 120, 'max_depth': 17, 'min_data_in_leaf': 200, 'lambda_l1': 0.00010054635655060018, 'lambda_l2': 6.409241479952765e-05, 'bagging_fraction': 0.9, 'bagging_freq': 5, 'feature_fraction': 1.0, 'is_unbalance': True}. Best is trial 0 with value: 0.8492484384542918.\u001b[0m\n",
      "suggest_loguniform has been deprecated in v3.0.0. This feature will be removed in v6.0.0. See https://github.com/optuna/optuna/releases/tag/v3.0.0. Use :func:`~optuna.trial.Trial.suggest_float` instead.\n",
      "suggest_loguniform has been deprecated in v3.0.0. This feature will be removed in v6.0.0. See https://github.com/optuna/optuna/releases/tag/v3.0.0. Use :func:`~optuna.trial.Trial.suggest_float` instead.\n",
      "\u001b[32m[I 2023-05-06 18:45:08,784]\u001b[0m Trial 10 pruned. Trial was pruned at iteration 0.\u001b[0m\n",
      "suggest_loguniform has been deprecated in v3.0.0. This feature will be removed in v6.0.0. See https://github.com/optuna/optuna/releases/tag/v3.0.0. Use :func:`~optuna.trial.Trial.suggest_float` instead.\n",
      "suggest_loguniform has been deprecated in v3.0.0. This feature will be removed in v6.0.0. See https://github.com/optuna/optuna/releases/tag/v3.0.0. Use :func:`~optuna.trial.Trial.suggest_float` instead.\n"
     ]
    },
    {
     "name": "stdout",
     "output_type": "stream",
     "text": [
      "Training until validation scores don't improve for 5 rounds\n",
      "Early stopping, best iteration is:\n",
      "[56]\tvalid_0's auc: 0.848234\n",
      "Training until validation scores don't improve for 5 rounds\n",
      "Early stopping, best iteration is:\n",
      "[73]\tvalid_0's auc: 0.848007\n",
      "Training until validation scores don't improve for 5 rounds\n",
      "Early stopping, best iteration is:\n",
      "[74]\tvalid_0's auc: 0.847451\n",
      "Training until validation scores don't improve for 5 rounds\n"
     ]
    },
    {
     "name": "stderr",
     "output_type": "stream",
     "text": [
      "\u001b[32m[I 2023-05-06 18:45:28,003]\u001b[0m Trial 11 pruned. Trial was pruned at iteration 92.\u001b[0m\n",
      "suggest_loguniform has been deprecated in v3.0.0. This feature will be removed in v6.0.0. See https://github.com/optuna/optuna/releases/tag/v3.0.0. Use :func:`~optuna.trial.Trial.suggest_float` instead.\n",
      "suggest_loguniform has been deprecated in v3.0.0. This feature will be removed in v6.0.0. See https://github.com/optuna/optuna/releases/tag/v3.0.0. Use :func:`~optuna.trial.Trial.suggest_float` instead.\n",
      "\u001b[32m[I 2023-05-06 18:45:29,129]\u001b[0m Trial 12 pruned. Trial was pruned at iteration 0.\u001b[0m\n",
      "suggest_loguniform has been deprecated in v3.0.0. This feature will be removed in v6.0.0. See https://github.com/optuna/optuna/releases/tag/v3.0.0. Use :func:`~optuna.trial.Trial.suggest_float` instead.\n",
      "suggest_loguniform has been deprecated in v3.0.0. This feature will be removed in v6.0.0. See https://github.com/optuna/optuna/releases/tag/v3.0.0. Use :func:`~optuna.trial.Trial.suggest_float` instead.\n",
      "\u001b[32m[I 2023-05-06 18:45:30,149]\u001b[0m Trial 13 pruned. Trial was pruned at iteration 0.\u001b[0m\n",
      "suggest_loguniform has been deprecated in v3.0.0. This feature will be removed in v6.0.0. See https://github.com/optuna/optuna/releases/tag/v3.0.0. Use :func:`~optuna.trial.Trial.suggest_float` instead.\n",
      "suggest_loguniform has been deprecated in v3.0.0. This feature will be removed in v6.0.0. See https://github.com/optuna/optuna/releases/tag/v3.0.0. Use :func:`~optuna.trial.Trial.suggest_float` instead.\n"
     ]
    },
    {
     "name": "stdout",
     "output_type": "stream",
     "text": [
      "Training until validation scores don't improve for 5 rounds\n",
      "Early stopping, best iteration is:\n",
      "[76]\tvalid_0's auc: 0.849006\n",
      "Training until validation scores don't improve for 5 rounds\n",
      "Early stopping, best iteration is:\n",
      "[113]\tvalid_0's auc: 0.849785\n",
      "Training until validation scores don't improve for 5 rounds\n",
      "Early stopping, best iteration is:\n",
      "[80]\tvalid_0's auc: 0.847453\n",
      "Training until validation scores don't improve for 5 rounds\n",
      "Early stopping, best iteration is:\n",
      "[74]\tvalid_0's auc: 0.848532\n",
      "Training until validation scores don't improve for 5 rounds\n",
      "Early stopping, best iteration is:\n",
      "[110]\tvalid_0's auc: 0.849344\n"
     ]
    },
    {
     "name": "stderr",
     "output_type": "stream",
     "text": [
      "\u001b[32m[I 2023-05-06 18:45:53,815]\u001b[0m Trial 14 finished with value: 0.8488239137510076 and parameters: {'learning_rate': 0.21000000000000002, 'num_leaves': 135, 'max_depth': 19, 'min_data_in_leaf': 500, 'lambda_l1': 2.175134864778362e-08, 'lambda_l2': 1.5453970774762226e-06, 'bagging_fraction': 1.0, 'bagging_freq': 5, 'feature_fraction': 0.9, 'is_unbalance': False}. Best is trial 0 with value: 0.8492484384542918.\u001b[0m\n",
      "suggest_loguniform has been deprecated in v3.0.0. This feature will be removed in v6.0.0. See https://github.com/optuna/optuna/releases/tag/v3.0.0. Use :func:`~optuna.trial.Trial.suggest_float` instead.\n",
      "suggest_loguniform has been deprecated in v3.0.0. This feature will be removed in v6.0.0. See https://github.com/optuna/optuna/releases/tag/v3.0.0. Use :func:`~optuna.trial.Trial.suggest_float` instead.\n",
      "\u001b[32m[I 2023-05-06 18:45:54,848]\u001b[0m Trial 15 pruned. Trial was pruned at iteration 0.\u001b[0m\n",
      "suggest_loguniform has been deprecated in v3.0.0. This feature will be removed in v6.0.0. See https://github.com/optuna/optuna/releases/tag/v3.0.0. Use :func:`~optuna.trial.Trial.suggest_float` instead.\n",
      "suggest_loguniform has been deprecated in v3.0.0. This feature will be removed in v6.0.0. See https://github.com/optuna/optuna/releases/tag/v3.0.0. Use :func:`~optuna.trial.Trial.suggest_float` instead.\n",
      "\u001b[32m[I 2023-05-06 18:45:55,852]\u001b[0m Trial 16 pruned. Trial was pruned at iteration 0.\u001b[0m\n",
      "suggest_loguniform has been deprecated in v3.0.0. This feature will be removed in v6.0.0. See https://github.com/optuna/optuna/releases/tag/v3.0.0. Use :func:`~optuna.trial.Trial.suggest_float` instead.\n",
      "suggest_loguniform has been deprecated in v3.0.0. This feature will be removed in v6.0.0. See https://github.com/optuna/optuna/releases/tag/v3.0.0. Use :func:`~optuna.trial.Trial.suggest_float` instead.\n",
      "\u001b[32m[I 2023-05-06 18:45:56,798]\u001b[0m Trial 17 pruned. Trial was pruned at iteration 0.\u001b[0m\n",
      "suggest_loguniform has been deprecated in v3.0.0. This feature will be removed in v6.0.0. See https://github.com/optuna/optuna/releases/tag/v3.0.0. Use :func:`~optuna.trial.Trial.suggest_float` instead.\n",
      "suggest_loguniform has been deprecated in v3.0.0. This feature will be removed in v6.0.0. See https://github.com/optuna/optuna/releases/tag/v3.0.0. Use :func:`~optuna.trial.Trial.suggest_float` instead.\n"
     ]
    },
    {
     "name": "stdout",
     "output_type": "stream",
     "text": [
      "Training until validation scores don't improve for 5 rounds\n",
      "Early stopping, best iteration is:\n",
      "[104]\tvalid_0's auc: 0.850339\n",
      "Training until validation scores don't improve for 5 rounds\n",
      "Early stopping, best iteration is:\n",
      "[116]\tvalid_0's auc: 0.849799\n",
      "Training until validation scores don't improve for 5 rounds\n",
      "Early stopping, best iteration is:\n",
      "[126]\tvalid_0's auc: 0.849037\n",
      "Training until validation scores don't improve for 5 rounds\n",
      "Early stopping, best iteration is:\n",
      "[124]\tvalid_0's auc: 0.849362\n",
      "Training until validation scores don't improve for 5 rounds\n",
      "Early stopping, best iteration is:\n",
      "[117]\tvalid_0's auc: 0.849254\n"
     ]
    },
    {
     "name": "stderr",
     "output_type": "stream",
     "text": [
      "\u001b[32m[I 2023-05-06 18:46:30,763]\u001b[0m Trial 18 finished with value: 0.8495583249916011 and parameters: {'learning_rate': 0.16000000000000003, 'num_leaves': 130, 'max_depth': 19, 'min_data_in_leaf': 300, 'lambda_l1': 1.5020891216285552e-07, 'lambda_l2': 1.1409964892619912e-08, 'bagging_fraction': 0.9, 'bagging_freq': 5, 'feature_fraction': 0.9, 'is_unbalance': True}. Best is trial 18 with value: 0.8495583249916011.\u001b[0m\n",
      "suggest_loguniform has been deprecated in v3.0.0. This feature will be removed in v6.0.0. See https://github.com/optuna/optuna/releases/tag/v3.0.0. Use :func:`~optuna.trial.Trial.suggest_float` instead.\n",
      "suggest_loguniform has been deprecated in v3.0.0. This feature will be removed in v6.0.0. See https://github.com/optuna/optuna/releases/tag/v3.0.0. Use :func:`~optuna.trial.Trial.suggest_float` instead.\n"
     ]
    },
    {
     "name": "stdout",
     "output_type": "stream",
     "text": [
      "Training until validation scores don't improve for 5 rounds\n"
     ]
    },
    {
     "name": "stderr",
     "output_type": "stream",
     "text": [
      "\u001b[32m[I 2023-05-06 18:46:33,932]\u001b[0m Trial 19 pruned. Trial was pruned at iteration 52.\u001b[0m\n",
      "suggest_loguniform has been deprecated in v3.0.0. This feature will be removed in v6.0.0. See https://github.com/optuna/optuna/releases/tag/v3.0.0. Use :func:`~optuna.trial.Trial.suggest_float` instead.\n",
      "suggest_loguniform has been deprecated in v3.0.0. This feature will be removed in v6.0.0. See https://github.com/optuna/optuna/releases/tag/v3.0.0. Use :func:`~optuna.trial.Trial.suggest_float` instead.\n"
     ]
    },
    {
     "name": "stdout",
     "output_type": "stream",
     "text": [
      "Training until validation scores don't improve for 5 rounds\n"
     ]
    },
    {
     "name": "stderr",
     "output_type": "stream",
     "text": [
      "\u001b[32m[I 2023-05-06 18:46:35,578]\u001b[0m Trial 20 pruned. Trial was pruned at iteration 10.\u001b[0m\n",
      "suggest_loguniform has been deprecated in v3.0.0. This feature will be removed in v6.0.0. See https://github.com/optuna/optuna/releases/tag/v3.0.0. Use :func:`~optuna.trial.Trial.suggest_float` instead.\n",
      "suggest_loguniform has been deprecated in v3.0.0. This feature will be removed in v6.0.0. See https://github.com/optuna/optuna/releases/tag/v3.0.0. Use :func:`~optuna.trial.Trial.suggest_float` instead.\n"
     ]
    },
    {
     "name": "stdout",
     "output_type": "stream",
     "text": [
      "Training until validation scores don't improve for 5 rounds\n"
     ]
    },
    {
     "name": "stderr",
     "output_type": "stream",
     "text": [
      "\u001b[32m[I 2023-05-06 18:46:37,671]\u001b[0m Trial 21 pruned. Trial was pruned at iteration 19.\u001b[0m\n",
      "suggest_loguniform has been deprecated in v3.0.0. This feature will be removed in v6.0.0. See https://github.com/optuna/optuna/releases/tag/v3.0.0. Use :func:`~optuna.trial.Trial.suggest_float` instead.\n",
      "suggest_loguniform has been deprecated in v3.0.0. This feature will be removed in v6.0.0. See https://github.com/optuna/optuna/releases/tag/v3.0.0. Use :func:`~optuna.trial.Trial.suggest_float` instead.\n"
     ]
    },
    {
     "name": "stdout",
     "output_type": "stream",
     "text": [
      "Training until validation scores don't improve for 5 rounds\n",
      "Early stopping, best iteration is:\n",
      "[56]\tvalid_0's auc: 0.847044\n",
      "Training until validation scores don't improve for 5 rounds\n"
     ]
    },
    {
     "name": "stderr",
     "output_type": "stream",
     "text": [
      "\u001b[32m[I 2023-05-06 18:46:52,661]\u001b[0m Trial 22 pruned. Trial was pruned at iteration 72.\u001b[0m\n",
      "suggest_loguniform has been deprecated in v3.0.0. This feature will be removed in v6.0.0. See https://github.com/optuna/optuna/releases/tag/v3.0.0. Use :func:`~optuna.trial.Trial.suggest_float` instead.\n",
      "suggest_loguniform has been deprecated in v3.0.0. This feature will be removed in v6.0.0. See https://github.com/optuna/optuna/releases/tag/v3.0.0. Use :func:`~optuna.trial.Trial.suggest_float` instead.\n"
     ]
    },
    {
     "name": "stdout",
     "output_type": "stream",
     "text": [
      "Training until validation scores don't improve for 5 rounds\n"
     ]
    },
    {
     "name": "stderr",
     "output_type": "stream",
     "text": [
      "\u001b[32m[I 2023-05-06 18:46:54,108]\u001b[0m Trial 23 pruned. Trial was pruned at iteration 5.\u001b[0m\n",
      "suggest_loguniform has been deprecated in v3.0.0. This feature will be removed in v6.0.0. See https://github.com/optuna/optuna/releases/tag/v3.0.0. Use :func:`~optuna.trial.Trial.suggest_float` instead.\n",
      "suggest_loguniform has been deprecated in v3.0.0. This feature will be removed in v6.0.0. See https://github.com/optuna/optuna/releases/tag/v3.0.0. Use :func:`~optuna.trial.Trial.suggest_float` instead.\n"
     ]
    },
    {
     "name": "stdout",
     "output_type": "stream",
     "text": [
      "Training until validation scores don't improve for 5 rounds\n"
     ]
    },
    {
     "name": "stderr",
     "output_type": "stream",
     "text": [
      "\u001b[32m[I 2023-05-06 18:46:58,482]\u001b[0m Trial 24 pruned. Trial was pruned at iteration 68.\u001b[0m\n",
      "suggest_loguniform has been deprecated in v3.0.0. This feature will be removed in v6.0.0. See https://github.com/optuna/optuna/releases/tag/v3.0.0. Use :func:`~optuna.trial.Trial.suggest_float` instead.\n",
      "suggest_loguniform has been deprecated in v3.0.0. This feature will be removed in v6.0.0. See https://github.com/optuna/optuna/releases/tag/v3.0.0. Use :func:`~optuna.trial.Trial.suggest_float` instead.\n",
      "\u001b[32m[I 2023-05-06 18:46:59,563]\u001b[0m Trial 25 pruned. Trial was pruned at iteration 0.\u001b[0m\n",
      "suggest_loguniform has been deprecated in v3.0.0. This feature will be removed in v6.0.0. See https://github.com/optuna/optuna/releases/tag/v3.0.0. Use :func:`~optuna.trial.Trial.suggest_float` instead.\n",
      "suggest_loguniform has been deprecated in v3.0.0. This feature will be removed in v6.0.0. See https://github.com/optuna/optuna/releases/tag/v3.0.0. Use :func:`~optuna.trial.Trial.suggest_float` instead.\n",
      "\u001b[32m[I 2023-05-06 18:47:00,632]\u001b[0m Trial 26 pruned. Trial was pruned at iteration 0.\u001b[0m\n",
      "suggest_loguniform has been deprecated in v3.0.0. This feature will be removed in v6.0.0. See https://github.com/optuna/optuna/releases/tag/v3.0.0. Use :func:`~optuna.trial.Trial.suggest_float` instead.\n",
      "suggest_loguniform has been deprecated in v3.0.0. This feature will be removed in v6.0.0. See https://github.com/optuna/optuna/releases/tag/v3.0.0. Use :func:`~optuna.trial.Trial.suggest_float` instead.\n",
      "\u001b[32m[I 2023-05-06 18:47:01,808]\u001b[0m Trial 27 pruned. Trial was pruned at iteration 4.\u001b[0m\n"
     ]
    },
    {
     "name": "stdout",
     "output_type": "stream",
     "text": [
      "Training until validation scores don't improve for 5 rounds\n"
     ]
    },
    {
     "name": "stderr",
     "output_type": "stream",
     "text": [
      "suggest_loguniform has been deprecated in v3.0.0. This feature will be removed in v6.0.0. See https://github.com/optuna/optuna/releases/tag/v3.0.0. Use :func:`~optuna.trial.Trial.suggest_float` instead.\n",
      "suggest_loguniform has been deprecated in v3.0.0. This feature will be removed in v6.0.0. See https://github.com/optuna/optuna/releases/tag/v3.0.0. Use :func:`~optuna.trial.Trial.suggest_float` instead.\n",
      "\u001b[32m[I 2023-05-06 18:47:02,800]\u001b[0m Trial 28 pruned. Trial was pruned at iteration 0.\u001b[0m\n",
      "suggest_loguniform has been deprecated in v3.0.0. This feature will be removed in v6.0.0. See https://github.com/optuna/optuna/releases/tag/v3.0.0. Use :func:`~optuna.trial.Trial.suggest_float` instead.\n",
      "suggest_loguniform has been deprecated in v3.0.0. This feature will be removed in v6.0.0. See https://github.com/optuna/optuna/releases/tag/v3.0.0. Use :func:`~optuna.trial.Trial.suggest_float` instead.\n"
     ]
    },
    {
     "name": "stdout",
     "output_type": "stream",
     "text": [
      "Training until validation scores don't improve for 5 rounds\n"
     ]
    },
    {
     "name": "stderr",
     "output_type": "stream",
     "text": [
      "\u001b[32m[I 2023-05-06 18:47:05,950]\u001b[0m Trial 29 pruned. Trial was pruned at iteration 51.\u001b[0m\n",
      "suggest_loguniform has been deprecated in v3.0.0. This feature will be removed in v6.0.0. See https://github.com/optuna/optuna/releases/tag/v3.0.0. Use :func:`~optuna.trial.Trial.suggest_float` instead.\n",
      "suggest_loguniform has been deprecated in v3.0.0. This feature will be removed in v6.0.0. See https://github.com/optuna/optuna/releases/tag/v3.0.0. Use :func:`~optuna.trial.Trial.suggest_float` instead.\n",
      "\u001b[32m[I 2023-05-06 18:47:07,021]\u001b[0m Trial 30 pruned. Trial was pruned at iteration 0.\u001b[0m\n",
      "suggest_loguniform has been deprecated in v3.0.0. This feature will be removed in v6.0.0. See https://github.com/optuna/optuna/releases/tag/v3.0.0. Use :func:`~optuna.trial.Trial.suggest_float` instead.\n",
      "suggest_loguniform has been deprecated in v3.0.0. This feature will be removed in v6.0.0. See https://github.com/optuna/optuna/releases/tag/v3.0.0. Use :func:`~optuna.trial.Trial.suggest_float` instead.\n"
     ]
    },
    {
     "name": "stdout",
     "output_type": "stream",
     "text": [
      "Training until validation scores don't improve for 5 rounds\n",
      "Early stopping, best iteration is:\n",
      "[78]\tvalid_0's auc: 0.849333\n",
      "Training until validation scores don't improve for 5 rounds\n",
      "Early stopping, best iteration is:\n",
      "[90]\tvalid_0's auc: 0.848807\n",
      "Training until validation scores don't improve for 5 rounds\n",
      "Early stopping, best iteration is:\n",
      "[103]\tvalid_0's auc: 0.84816\n",
      "Training until validation scores don't improve for 5 rounds\n",
      "Early stopping, best iteration is:\n",
      "[73]\tvalid_0's auc: 0.847688\n",
      "Training until validation scores don't improve for 5 rounds\n",
      "Early stopping, best iteration is:\n",
      "[89]\tvalid_0's auc: 0.849274\n"
     ]
    },
    {
     "name": "stderr",
     "output_type": "stream",
     "text": [
      "\u001b[32m[I 2023-05-06 18:47:32,456]\u001b[0m Trial 31 finished with value: 0.848652464120625 and parameters: {'learning_rate': 0.21000000000000002, 'num_leaves': 140, 'max_depth': 19, 'min_data_in_leaf': 500, 'lambda_l1': 2.2660770728007315e-08, 'lambda_l2': 1.9602108522712944e-06, 'bagging_fraction': 1.0, 'bagging_freq': 5, 'feature_fraction': 0.9, 'is_unbalance': False}. Best is trial 18 with value: 0.8495583249916011.\u001b[0m\n",
      "suggest_loguniform has been deprecated in v3.0.0. This feature will be removed in v6.0.0. See https://github.com/optuna/optuna/releases/tag/v3.0.0. Use :func:`~optuna.trial.Trial.suggest_float` instead.\n",
      "suggest_loguniform has been deprecated in v3.0.0. This feature will be removed in v6.0.0. See https://github.com/optuna/optuna/releases/tag/v3.0.0. Use :func:`~optuna.trial.Trial.suggest_float` instead.\n"
     ]
    },
    {
     "name": "stdout",
     "output_type": "stream",
     "text": [
      "Training until validation scores don't improve for 5 rounds\n",
      "Early stopping, best iteration is:\n",
      "[76]\tvalid_0's auc: 0.849006\n",
      "Training until validation scores don't improve for 5 rounds\n",
      "Early stopping, best iteration is:\n",
      "[113]\tvalid_0's auc: 0.849785\n",
      "Training until validation scores don't improve for 5 rounds\n",
      "Early stopping, best iteration is:\n",
      "[80]\tvalid_0's auc: 0.847453\n",
      "Training until validation scores don't improve for 5 rounds\n",
      "Early stopping, best iteration is:\n",
      "[74]\tvalid_0's auc: 0.848532\n",
      "Training until validation scores don't improve for 5 rounds\n",
      "Early stopping, best iteration is:\n",
      "[110]\tvalid_0's auc: 0.849344\n"
     ]
    },
    {
     "name": "stderr",
     "output_type": "stream",
     "text": [
      "\u001b[32m[I 2023-05-06 18:47:54,397]\u001b[0m Trial 32 finished with value: 0.8488239138615914 and parameters: {'learning_rate': 0.21000000000000002, 'num_leaves': 135, 'max_depth': 19, 'min_data_in_leaf': 500, 'lambda_l1': 4.674317260927755e-08, 'lambda_l2': 1.3867867934073863e-06, 'bagging_fraction': 1.0, 'bagging_freq': 5, 'feature_fraction': 0.9, 'is_unbalance': False}. Best is trial 18 with value: 0.8495583249916011.\u001b[0m\n",
      "suggest_loguniform has been deprecated in v3.0.0. This feature will be removed in v6.0.0. See https://github.com/optuna/optuna/releases/tag/v3.0.0. Use :func:`~optuna.trial.Trial.suggest_float` instead.\n",
      "suggest_loguniform has been deprecated in v3.0.0. This feature will be removed in v6.0.0. See https://github.com/optuna/optuna/releases/tag/v3.0.0. Use :func:`~optuna.trial.Trial.suggest_float` instead.\n",
      "\u001b[32m[I 2023-05-06 18:47:55,479]\u001b[0m Trial 33 pruned. Trial was pruned at iteration 0.\u001b[0m\n",
      "suggest_loguniform has been deprecated in v3.0.0. This feature will be removed in v6.0.0. See https://github.com/optuna/optuna/releases/tag/v3.0.0. Use :func:`~optuna.trial.Trial.suggest_float` instead.\n",
      "suggest_loguniform has been deprecated in v3.0.0. This feature will be removed in v6.0.0. See https://github.com/optuna/optuna/releases/tag/v3.0.0. Use :func:`~optuna.trial.Trial.suggest_float` instead.\n",
      "\u001b[32m[I 2023-05-06 18:47:56,505]\u001b[0m Trial 34 pruned. Trial was pruned at iteration 0.\u001b[0m\n",
      "suggest_loguniform has been deprecated in v3.0.0. This feature will be removed in v6.0.0. See https://github.com/optuna/optuna/releases/tag/v3.0.0. Use :func:`~optuna.trial.Trial.suggest_float` instead.\n",
      "suggest_loguniform has been deprecated in v3.0.0. This feature will be removed in v6.0.0. See https://github.com/optuna/optuna/releases/tag/v3.0.0. Use :func:`~optuna.trial.Trial.suggest_float` instead.\n",
      "\u001b[32m[I 2023-05-06 18:47:57,458]\u001b[0m Trial 35 pruned. Trial was pruned at iteration 0.\u001b[0m\n",
      "suggest_loguniform has been deprecated in v3.0.0. This feature will be removed in v6.0.0. See https://github.com/optuna/optuna/releases/tag/v3.0.0. Use :func:`~optuna.trial.Trial.suggest_float` instead.\n",
      "suggest_loguniform has been deprecated in v3.0.0. This feature will be removed in v6.0.0. See https://github.com/optuna/optuna/releases/tag/v3.0.0. Use :func:`~optuna.trial.Trial.suggest_float` instead.\n",
      "\u001b[32m[I 2023-05-06 18:47:58,402]\u001b[0m Trial 36 pruned. Trial was pruned at iteration 0.\u001b[0m\n",
      "suggest_loguniform has been deprecated in v3.0.0. This feature will be removed in v6.0.0. See https://github.com/optuna/optuna/releases/tag/v3.0.0. Use :func:`~optuna.trial.Trial.suggest_float` instead.\n",
      "suggest_loguniform has been deprecated in v3.0.0. This feature will be removed in v6.0.0. See https://github.com/optuna/optuna/releases/tag/v3.0.0. Use :func:`~optuna.trial.Trial.suggest_float` instead.\n",
      "\u001b[32m[I 2023-05-06 18:47:59,515]\u001b[0m Trial 37 pruned. Trial was pruned at iteration 1.\u001b[0m\n"
     ]
    },
    {
     "name": "stdout",
     "output_type": "stream",
     "text": [
      "Training until validation scores don't improve for 5 rounds\n"
     ]
    },
    {
     "name": "stderr",
     "output_type": "stream",
     "text": [
      "suggest_loguniform has been deprecated in v3.0.0. This feature will be removed in v6.0.0. See https://github.com/optuna/optuna/releases/tag/v3.0.0. Use :func:`~optuna.trial.Trial.suggest_float` instead.\n",
      "suggest_loguniform has been deprecated in v3.0.0. This feature will be removed in v6.0.0. See https://github.com/optuna/optuna/releases/tag/v3.0.0. Use :func:`~optuna.trial.Trial.suggest_float` instead.\n"
     ]
    },
    {
     "name": "stdout",
     "output_type": "stream",
     "text": [
      "Training until validation scores don't improve for 5 rounds\n",
      "Early stopping, best iteration is:\n",
      "[50]\tvalid_0's auc: 0.847075\n",
      "Training until validation scores don't improve for 5 rounds\n",
      "Early stopping, best iteration is:\n",
      "[48]\tvalid_0's auc: 0.844878\n",
      "Training until validation scores don't improve for 5 rounds\n"
     ]
    },
    {
     "name": "stderr",
     "output_type": "stream",
     "text": [
      "\u001b[32m[I 2023-05-06 18:48:15,942]\u001b[0m Trial 38 pruned. Trial was pruned at iteration 60.\u001b[0m\n",
      "suggest_loguniform has been deprecated in v3.0.0. This feature will be removed in v6.0.0. See https://github.com/optuna/optuna/releases/tag/v3.0.0. Use :func:`~optuna.trial.Trial.suggest_float` instead.\n",
      "suggest_loguniform has been deprecated in v3.0.0. This feature will be removed in v6.0.0. See https://github.com/optuna/optuna/releases/tag/v3.0.0. Use :func:`~optuna.trial.Trial.suggest_float` instead.\n",
      "\u001b[32m[I 2023-05-06 18:48:17,278]\u001b[0m Trial 39 pruned. Trial was pruned at iteration 0.\u001b[0m\n",
      "suggest_loguniform has been deprecated in v3.0.0. This feature will be removed in v6.0.0. See https://github.com/optuna/optuna/releases/tag/v3.0.0. Use :func:`~optuna.trial.Trial.suggest_float` instead.\n",
      "suggest_loguniform has been deprecated in v3.0.0. This feature will be removed in v6.0.0. See https://github.com/optuna/optuna/releases/tag/v3.0.0. Use :func:`~optuna.trial.Trial.suggest_float` instead.\n",
      "\u001b[32m[I 2023-05-06 18:48:18,672]\u001b[0m Trial 40 pruned. Trial was pruned at iteration 0.\u001b[0m\n",
      "suggest_loguniform has been deprecated in v3.0.0. This feature will be removed in v6.0.0. See https://github.com/optuna/optuna/releases/tag/v3.0.0. Use :func:`~optuna.trial.Trial.suggest_float` instead.\n",
      "suggest_loguniform has been deprecated in v3.0.0. This feature will be removed in v6.0.0. See https://github.com/optuna/optuna/releases/tag/v3.0.0. Use :func:`~optuna.trial.Trial.suggest_float` instead.\n"
     ]
    },
    {
     "name": "stdout",
     "output_type": "stream",
     "text": [
      "Training until validation scores don't improve for 5 rounds\n",
      "Early stopping, best iteration is:\n",
      "[76]\tvalid_0's auc: 0.849006\n",
      "Training until validation scores don't improve for 5 rounds\n",
      "Early stopping, best iteration is:\n",
      "[113]\tvalid_0's auc: 0.849785\n",
      "Training until validation scores don't improve for 5 rounds\n",
      "Early stopping, best iteration is:\n",
      "[80]\tvalid_0's auc: 0.847453\n",
      "Training until validation scores don't improve for 5 rounds\n",
      "Early stopping, best iteration is:\n",
      "[74]\tvalid_0's auc: 0.848532\n",
      "Training until validation scores don't improve for 5 rounds\n",
      "Early stopping, best iteration is:\n",
      "[110]\tvalid_0's auc: 0.849344\n"
     ]
    },
    {
     "name": "stderr",
     "output_type": "stream",
     "text": [
      "\u001b[32m[I 2023-05-06 18:48:49,041]\u001b[0m Trial 41 finished with value: 0.8488239128663404 and parameters: {'learning_rate': 0.21000000000000002, 'num_leaves': 135, 'max_depth': 19, 'min_data_in_leaf': 500, 'lambda_l1': 3.686082683889833e-08, 'lambda_l2': 3.2298763844279508e-06, 'bagging_fraction': 1.0, 'bagging_freq': 5, 'feature_fraction': 0.9, 'is_unbalance': False}. Best is trial 18 with value: 0.8495583249916011.\u001b[0m\n",
      "suggest_loguniform has been deprecated in v3.0.0. This feature will be removed in v6.0.0. See https://github.com/optuna/optuna/releases/tag/v3.0.0. Use :func:`~optuna.trial.Trial.suggest_float` instead.\n",
      "suggest_loguniform has been deprecated in v3.0.0. This feature will be removed in v6.0.0. See https://github.com/optuna/optuna/releases/tag/v3.0.0. Use :func:`~optuna.trial.Trial.suggest_float` instead.\n"
     ]
    },
    {
     "name": "stdout",
     "output_type": "stream",
     "text": [
      "Training until validation scores don't improve for 5 rounds\n",
      "Early stopping, best iteration is:\n",
      "[77]\tvalid_0's auc: 0.849208\n",
      "Training until validation scores don't improve for 5 rounds\n"
     ]
    },
    {
     "name": "stderr",
     "output_type": "stream",
     "text": [
      "\u001b[32m[I 2023-05-06 18:48:57,685]\u001b[0m Trial 42 pruned. Trial was pruned at iteration 103.\u001b[0m\n",
      "suggest_loguniform has been deprecated in v3.0.0. This feature will be removed in v6.0.0. See https://github.com/optuna/optuna/releases/tag/v3.0.0. Use :func:`~optuna.trial.Trial.suggest_float` instead.\n",
      "suggest_loguniform has been deprecated in v3.0.0. This feature will be removed in v6.0.0. See https://github.com/optuna/optuna/releases/tag/v3.0.0. Use :func:`~optuna.trial.Trial.suggest_float` instead.\n",
      "\u001b[32m[I 2023-05-06 18:48:58,748]\u001b[0m Trial 43 pruned. Trial was pruned at iteration 0.\u001b[0m\n",
      "suggest_loguniform has been deprecated in v3.0.0. This feature will be removed in v6.0.0. See https://github.com/optuna/optuna/releases/tag/v3.0.0. Use :func:`~optuna.trial.Trial.suggest_float` instead.\n",
      "suggest_loguniform has been deprecated in v3.0.0. This feature will be removed in v6.0.0. See https://github.com/optuna/optuna/releases/tag/v3.0.0. Use :func:`~optuna.trial.Trial.suggest_float` instead.\n",
      "\u001b[32m[I 2023-05-06 18:48:59,792]\u001b[0m Trial 44 pruned. Trial was pruned at iteration 0.\u001b[0m\n",
      "suggest_loguniform has been deprecated in v3.0.0. This feature will be removed in v6.0.0. See https://github.com/optuna/optuna/releases/tag/v3.0.0. Use :func:`~optuna.trial.Trial.suggest_float` instead.\n",
      "suggest_loguniform has been deprecated in v3.0.0. This feature will be removed in v6.0.0. See https://github.com/optuna/optuna/releases/tag/v3.0.0. Use :func:`~optuna.trial.Trial.suggest_float` instead.\n",
      "\u001b[32m[I 2023-05-06 18:49:00,785]\u001b[0m Trial 45 pruned. Trial was pruned at iteration 0.\u001b[0m\n",
      "suggest_loguniform has been deprecated in v3.0.0. This feature will be removed in v6.0.0. See https://github.com/optuna/optuna/releases/tag/v3.0.0. Use :func:`~optuna.trial.Trial.suggest_float` instead.\n",
      "suggest_loguniform has been deprecated in v3.0.0. This feature will be removed in v6.0.0. See https://github.com/optuna/optuna/releases/tag/v3.0.0. Use :func:`~optuna.trial.Trial.suggest_float` instead.\n",
      "\u001b[32m[I 2023-05-06 18:49:01,729]\u001b[0m Trial 46 pruned. Trial was pruned at iteration 0.\u001b[0m\n",
      "suggest_loguniform has been deprecated in v3.0.0. This feature will be removed in v6.0.0. See https://github.com/optuna/optuna/releases/tag/v3.0.0. Use :func:`~optuna.trial.Trial.suggest_float` instead.\n",
      "suggest_loguniform has been deprecated in v3.0.0. This feature will be removed in v6.0.0. See https://github.com/optuna/optuna/releases/tag/v3.0.0. Use :func:`~optuna.trial.Trial.suggest_float` instead.\n",
      "\u001b[32m[I 2023-05-06 18:49:02,698]\u001b[0m Trial 47 pruned. Trial was pruned at iteration 0.\u001b[0m\n",
      "suggest_loguniform has been deprecated in v3.0.0. This feature will be removed in v6.0.0. See https://github.com/optuna/optuna/releases/tag/v3.0.0. Use :func:`~optuna.trial.Trial.suggest_float` instead.\n",
      "suggest_loguniform has been deprecated in v3.0.0. This feature will be removed in v6.0.0. See https://github.com/optuna/optuna/releases/tag/v3.0.0. Use :func:`~optuna.trial.Trial.suggest_float` instead.\n",
      "\u001b[32m[I 2023-05-06 18:49:03,701]\u001b[0m Trial 48 pruned. Trial was pruned at iteration 0.\u001b[0m\n",
      "suggest_loguniform has been deprecated in v3.0.0. This feature will be removed in v6.0.0. See https://github.com/optuna/optuna/releases/tag/v3.0.0. Use :func:`~optuna.trial.Trial.suggest_float` instead.\n",
      "suggest_loguniform has been deprecated in v3.0.0. This feature will be removed in v6.0.0. See https://github.com/optuna/optuna/releases/tag/v3.0.0. Use :func:`~optuna.trial.Trial.suggest_float` instead.\n",
      "\u001b[32m[I 2023-05-06 18:49:04,648]\u001b[0m Trial 49 pruned. Trial was pruned at iteration 0.\u001b[0m\n",
      "suggest_loguniform has been deprecated in v3.0.0. This feature will be removed in v6.0.0. See https://github.com/optuna/optuna/releases/tag/v3.0.0. Use :func:`~optuna.trial.Trial.suggest_float` instead.\n",
      "suggest_loguniform has been deprecated in v3.0.0. This feature will be removed in v6.0.0. See https://github.com/optuna/optuna/releases/tag/v3.0.0. Use :func:`~optuna.trial.Trial.suggest_float` instead.\n",
      "\u001b[32m[I 2023-05-06 18:49:05,613]\u001b[0m Trial 50 pruned. Trial was pruned at iteration 0.\u001b[0m\n",
      "suggest_loguniform has been deprecated in v3.0.0. This feature will be removed in v6.0.0. See https://github.com/optuna/optuna/releases/tag/v3.0.0. Use :func:`~optuna.trial.Trial.suggest_float` instead.\n",
      "suggest_loguniform has been deprecated in v3.0.0. This feature will be removed in v6.0.0. See https://github.com/optuna/optuna/releases/tag/v3.0.0. Use :func:`~optuna.trial.Trial.suggest_float` instead.\n"
     ]
    },
    {
     "name": "stdout",
     "output_type": "stream",
     "text": [
      "Training until validation scores don't improve for 5 rounds\n",
      "Early stopping, best iteration is:\n",
      "[76]\tvalid_0's auc: 0.849006\n",
      "Training until validation scores don't improve for 5 rounds\n",
      "Early stopping, best iteration is:\n",
      "[113]\tvalid_0's auc: 0.849785\n",
      "Training until validation scores don't improve for 5 rounds\n",
      "Early stopping, best iteration is:\n",
      "[80]\tvalid_0's auc: 0.847453\n",
      "Training until validation scores don't improve for 5 rounds\n",
      "Early stopping, best iteration is:\n",
      "[74]\tvalid_0's auc: 0.848532\n",
      "Training until validation scores don't improve for 5 rounds\n",
      "Early stopping, best iteration is:\n",
      "[110]\tvalid_0's auc: 0.849344\n"
     ]
    },
    {
     "name": "stderr",
     "output_type": "stream",
     "text": [
      "\u001b[32m[I 2023-05-06 18:49:27,884]\u001b[0m Trial 51 finished with value: 0.8488239133086728 and parameters: {'learning_rate': 0.21000000000000002, 'num_leaves': 135, 'max_depth': 19, 'min_data_in_leaf': 500, 'lambda_l1': 5.0467323500585465e-08, 'lambda_l2': 5.534004968574366e-06, 'bagging_fraction': 1.0, 'bagging_freq': 5, 'feature_fraction': 0.9, 'is_unbalance': False}. Best is trial 18 with value: 0.8495583249916011.\u001b[0m\n",
      "suggest_loguniform has been deprecated in v3.0.0. This feature will be removed in v6.0.0. See https://github.com/optuna/optuna/releases/tag/v3.0.0. Use :func:`~optuna.trial.Trial.suggest_float` instead.\n",
      "suggest_loguniform has been deprecated in v3.0.0. This feature will be removed in v6.0.0. See https://github.com/optuna/optuna/releases/tag/v3.0.0. Use :func:`~optuna.trial.Trial.suggest_float` instead.\n",
      "\u001b[32m[I 2023-05-06 18:49:28,922]\u001b[0m Trial 52 pruned. Trial was pruned at iteration 0.\u001b[0m\n",
      "suggest_loguniform has been deprecated in v3.0.0. This feature will be removed in v6.0.0. See https://github.com/optuna/optuna/releases/tag/v3.0.0. Use :func:`~optuna.trial.Trial.suggest_float` instead.\n",
      "suggest_loguniform has been deprecated in v3.0.0. This feature will be removed in v6.0.0. See https://github.com/optuna/optuna/releases/tag/v3.0.0. Use :func:`~optuna.trial.Trial.suggest_float` instead.\n"
     ]
    },
    {
     "name": "stdout",
     "output_type": "stream",
     "text": [
      "Training until validation scores don't improve for 5 rounds\n",
      "Early stopping, best iteration is:\n",
      "[56]\tvalid_0's auc: 0.848223\n",
      "Training until validation scores don't improve for 5 rounds\n"
     ]
    },
    {
     "name": "stderr",
     "output_type": "stream",
     "text": [
      "\u001b[32m[I 2023-05-06 18:49:35,130]\u001b[0m Trial 53 pruned. Trial was pruned at iteration 66.\u001b[0m\n",
      "suggest_loguniform has been deprecated in v3.0.0. This feature will be removed in v6.0.0. See https://github.com/optuna/optuna/releases/tag/v3.0.0. Use :func:`~optuna.trial.Trial.suggest_float` instead.\n",
      "suggest_loguniform has been deprecated in v3.0.0. This feature will be removed in v6.0.0. See https://github.com/optuna/optuna/releases/tag/v3.0.0. Use :func:`~optuna.trial.Trial.suggest_float` instead.\n"
     ]
    },
    {
     "name": "stdout",
     "output_type": "stream",
     "text": [
      "Training until validation scores don't improve for 5 rounds\n",
      "Early stopping, best iteration is:\n",
      "[92]\tvalid_0's auc: 0.850055\n",
      "Training until validation scores don't improve for 5 rounds\n",
      "Early stopping, best iteration is:\n",
      "[111]\tvalid_0's auc: 0.849724\n",
      "Training until validation scores don't improve for 5 rounds\n",
      "Early stopping, best iteration is:\n",
      "[97]\tvalid_0's auc: 0.848775\n",
      "Training until validation scores don't improve for 5 rounds\n",
      "Early stopping, best iteration is:\n",
      "[55]\tvalid_0's auc: 0.847001\n",
      "Training until validation scores don't improve for 5 rounds\n",
      "Early stopping, best iteration is:\n",
      "[88]\tvalid_0's auc: 0.848644\n"
     ]
    },
    {
     "name": "stderr",
     "output_type": "stream",
     "text": [
      "\u001b[32m[I 2023-05-06 18:49:57,834]\u001b[0m Trial 54 finished with value: 0.848839890665193 and parameters: {'learning_rate': 0.21000000000000002, 'num_leaves': 150, 'max_depth': 17, 'min_data_in_leaf': 500, 'lambda_l1': 5.837403381089823e-07, 'lambda_l2': 2.3374311794160162e-05, 'bagging_fraction': 1.0, 'bagging_freq': 5, 'feature_fraction': 0.9, 'is_unbalance': False}. Best is trial 18 with value: 0.8495583249916011.\u001b[0m\n",
      "suggest_loguniform has been deprecated in v3.0.0. This feature will be removed in v6.0.0. See https://github.com/optuna/optuna/releases/tag/v3.0.0. Use :func:`~optuna.trial.Trial.suggest_float` instead.\n",
      "suggest_loguniform has been deprecated in v3.0.0. This feature will be removed in v6.0.0. See https://github.com/optuna/optuna/releases/tag/v3.0.0. Use :func:`~optuna.trial.Trial.suggest_float` instead.\n",
      "\u001b[32m[I 2023-05-06 18:49:58,981]\u001b[0m Trial 55 pruned. Trial was pruned at iteration 3.\u001b[0m\n"
     ]
    },
    {
     "name": "stdout",
     "output_type": "stream",
     "text": [
      "Training until validation scores don't improve for 5 rounds\n"
     ]
    },
    {
     "name": "stderr",
     "output_type": "stream",
     "text": [
      "suggest_loguniform has been deprecated in v3.0.0. This feature will be removed in v6.0.0. See https://github.com/optuna/optuna/releases/tag/v3.0.0. Use :func:`~optuna.trial.Trial.suggest_float` instead.\n",
      "suggest_loguniform has been deprecated in v3.0.0. This feature will be removed in v6.0.0. See https://github.com/optuna/optuna/releases/tag/v3.0.0. Use :func:`~optuna.trial.Trial.suggest_float` instead.\n"
     ]
    },
    {
     "name": "stdout",
     "output_type": "stream",
     "text": [
      "Training until validation scores don't improve for 5 rounds\n"
     ]
    },
    {
     "name": "stderr",
     "output_type": "stream",
     "text": [
      "\u001b[32m[I 2023-05-06 18:50:00,422]\u001b[0m Trial 56 pruned. Trial was pruned at iteration 7.\u001b[0m\n",
      "suggest_loguniform has been deprecated in v3.0.0. This feature will be removed in v6.0.0. See https://github.com/optuna/optuna/releases/tag/v3.0.0. Use :func:`~optuna.trial.Trial.suggest_float` instead.\n",
      "suggest_loguniform has been deprecated in v3.0.0. This feature will be removed in v6.0.0. See https://github.com/optuna/optuna/releases/tag/v3.0.0. Use :func:`~optuna.trial.Trial.suggest_float` instead.\n",
      "\u001b[32m[I 2023-05-06 18:50:01,461]\u001b[0m Trial 57 pruned. Trial was pruned at iteration 0.\u001b[0m\n",
      "suggest_loguniform has been deprecated in v3.0.0. This feature will be removed in v6.0.0. See https://github.com/optuna/optuna/releases/tag/v3.0.0. Use :func:`~optuna.trial.Trial.suggest_float` instead.\n",
      "suggest_loguniform has been deprecated in v3.0.0. This feature will be removed in v6.0.0. See https://github.com/optuna/optuna/releases/tag/v3.0.0. Use :func:`~optuna.trial.Trial.suggest_float` instead.\n",
      "\u001b[32m[I 2023-05-06 18:50:02,586]\u001b[0m Trial 58 pruned. Trial was pruned at iteration 3.\u001b[0m\n"
     ]
    },
    {
     "name": "stdout",
     "output_type": "stream",
     "text": [
      "Training until validation scores don't improve for 5 rounds\n"
     ]
    },
    {
     "name": "stderr",
     "output_type": "stream",
     "text": [
      "suggest_loguniform has been deprecated in v3.0.0. This feature will be removed in v6.0.0. See https://github.com/optuna/optuna/releases/tag/v3.0.0. Use :func:`~optuna.trial.Trial.suggest_float` instead.\n",
      "suggest_loguniform has been deprecated in v3.0.0. This feature will be removed in v6.0.0. See https://github.com/optuna/optuna/releases/tag/v3.0.0. Use :func:`~optuna.trial.Trial.suggest_float` instead.\n",
      "\u001b[32m[I 2023-05-06 18:50:03,552]\u001b[0m Trial 59 pruned. Trial was pruned at iteration 1.\u001b[0m\n"
     ]
    },
    {
     "name": "stdout",
     "output_type": "stream",
     "text": [
      "Training until validation scores don't improve for 5 rounds\n"
     ]
    },
    {
     "name": "stderr",
     "output_type": "stream",
     "text": [
      "suggest_loguniform has been deprecated in v3.0.0. This feature will be removed in v6.0.0. See https://github.com/optuna/optuna/releases/tag/v3.0.0. Use :func:`~optuna.trial.Trial.suggest_float` instead.\n",
      "suggest_loguniform has been deprecated in v3.0.0. This feature will be removed in v6.0.0. See https://github.com/optuna/optuna/releases/tag/v3.0.0. Use :func:`~optuna.trial.Trial.suggest_float` instead.\n"
     ]
    },
    {
     "name": "stdout",
     "output_type": "stream",
     "text": [
      "Training until validation scores don't improve for 5 rounds\n"
     ]
    },
    {
     "name": "stderr",
     "output_type": "stream",
     "text": [
      "\u001b[32m[I 2023-05-06 18:50:05,673]\u001b[0m Trial 60 pruned. Trial was pruned at iteration 22.\u001b[0m\n",
      "suggest_loguniform has been deprecated in v3.0.0. This feature will be removed in v6.0.0. See https://github.com/optuna/optuna/releases/tag/v3.0.0. Use :func:`~optuna.trial.Trial.suggest_float` instead.\n",
      "suggest_loguniform has been deprecated in v3.0.0. This feature will be removed in v6.0.0. See https://github.com/optuna/optuna/releases/tag/v3.0.0. Use :func:`~optuna.trial.Trial.suggest_float` instead.\n",
      "\u001b[32m[I 2023-05-06 18:50:06,579]\u001b[0m Trial 61 pruned. Trial was pruned at iteration 0.\u001b[0m\n",
      "suggest_loguniform has been deprecated in v3.0.0. This feature will be removed in v6.0.0. See https://github.com/optuna/optuna/releases/tag/v3.0.0. Use :func:`~optuna.trial.Trial.suggest_float` instead.\n",
      "suggest_loguniform has been deprecated in v3.0.0. This feature will be removed in v6.0.0. See https://github.com/optuna/optuna/releases/tag/v3.0.0. Use :func:`~optuna.trial.Trial.suggest_float` instead.\n"
     ]
    },
    {
     "name": "stdout",
     "output_type": "stream",
     "text": [
      "Training until validation scores don't improve for 5 rounds\n"
     ]
    },
    {
     "name": "stderr",
     "output_type": "stream",
     "text": [
      "\u001b[32m[I 2023-05-06 18:50:09,951]\u001b[0m Trial 62 pruned. Trial was pruned at iteration 73.\u001b[0m\n",
      "suggest_loguniform has been deprecated in v3.0.0. This feature will be removed in v6.0.0. See https://github.com/optuna/optuna/releases/tag/v3.0.0. Use :func:`~optuna.trial.Trial.suggest_float` instead.\n",
      "suggest_loguniform has been deprecated in v3.0.0. This feature will be removed in v6.0.0. See https://github.com/optuna/optuna/releases/tag/v3.0.0. Use :func:`~optuna.trial.Trial.suggest_float` instead.\n",
      "\u001b[32m[I 2023-05-06 18:50:11,021]\u001b[0m Trial 63 pruned. Trial was pruned at iteration 0.\u001b[0m\n",
      "suggest_loguniform has been deprecated in v3.0.0. This feature will be removed in v6.0.0. See https://github.com/optuna/optuna/releases/tag/v3.0.0. Use :func:`~optuna.trial.Trial.suggest_float` instead.\n",
      "suggest_loguniform has been deprecated in v3.0.0. This feature will be removed in v6.0.0. See https://github.com/optuna/optuna/releases/tag/v3.0.0. Use :func:`~optuna.trial.Trial.suggest_float` instead.\n",
      "\u001b[32m[I 2023-05-06 18:50:12,076]\u001b[0m Trial 64 pruned. Trial was pruned at iteration 0.\u001b[0m\n",
      "suggest_loguniform has been deprecated in v3.0.0. This feature will be removed in v6.0.0. See https://github.com/optuna/optuna/releases/tag/v3.0.0. Use :func:`~optuna.trial.Trial.suggest_float` instead.\n",
      "suggest_loguniform has been deprecated in v3.0.0. This feature will be removed in v6.0.0. See https://github.com/optuna/optuna/releases/tag/v3.0.0. Use :func:`~optuna.trial.Trial.suggest_float` instead.\n"
     ]
    },
    {
     "name": "stdout",
     "output_type": "stream",
     "text": [
      "Training until validation scores don't improve for 5 rounds\n"
     ]
    },
    {
     "name": "stderr",
     "output_type": "stream",
     "text": [
      "\u001b[32m[I 2023-05-06 18:50:13,574]\u001b[0m Trial 65 pruned. Trial was pruned at iteration 12.\u001b[0m\n",
      "suggest_loguniform has been deprecated in v3.0.0. This feature will be removed in v6.0.0. See https://github.com/optuna/optuna/releases/tag/v3.0.0. Use :func:`~optuna.trial.Trial.suggest_float` instead.\n",
      "suggest_loguniform has been deprecated in v3.0.0. This feature will be removed in v6.0.0. See https://github.com/optuna/optuna/releases/tag/v3.0.0. Use :func:`~optuna.trial.Trial.suggest_float` instead.\n",
      "\u001b[32m[I 2023-05-06 18:50:14,707]\u001b[0m Trial 66 pruned. Trial was pruned at iteration 0.\u001b[0m\n",
      "suggest_loguniform has been deprecated in v3.0.0. This feature will be removed in v6.0.0. See https://github.com/optuna/optuna/releases/tag/v3.0.0. Use :func:`~optuna.trial.Trial.suggest_float` instead.\n",
      "suggest_loguniform has been deprecated in v3.0.0. This feature will be removed in v6.0.0. See https://github.com/optuna/optuna/releases/tag/v3.0.0. Use :func:`~optuna.trial.Trial.suggest_float` instead.\n",
      "\u001b[32m[I 2023-05-06 18:50:15,692]\u001b[0m Trial 67 pruned. Trial was pruned at iteration 0.\u001b[0m\n",
      "suggest_loguniform has been deprecated in v3.0.0. This feature will be removed in v6.0.0. See https://github.com/optuna/optuna/releases/tag/v3.0.0. Use :func:`~optuna.trial.Trial.suggest_float` instead.\n",
      "suggest_loguniform has been deprecated in v3.0.0. This feature will be removed in v6.0.0. See https://github.com/optuna/optuna/releases/tag/v3.0.0. Use :func:`~optuna.trial.Trial.suggest_float` instead.\n",
      "\u001b[32m[I 2023-05-06 18:50:16,708]\u001b[0m Trial 68 pruned. Trial was pruned at iteration 0.\u001b[0m\n",
      "suggest_loguniform has been deprecated in v3.0.0. This feature will be removed in v6.0.0. See https://github.com/optuna/optuna/releases/tag/v3.0.0. Use :func:`~optuna.trial.Trial.suggest_float` instead.\n",
      "suggest_loguniform has been deprecated in v3.0.0. This feature will be removed in v6.0.0. See https://github.com/optuna/optuna/releases/tag/v3.0.0. Use :func:`~optuna.trial.Trial.suggest_float` instead.\n",
      "\u001b[32m[I 2023-05-06 18:50:17,701]\u001b[0m Trial 69 pruned. Trial was pruned at iteration 0.\u001b[0m\n",
      "suggest_loguniform has been deprecated in v3.0.0. This feature will be removed in v6.0.0. See https://github.com/optuna/optuna/releases/tag/v3.0.0. Use :func:`~optuna.trial.Trial.suggest_float` instead.\n",
      "suggest_loguniform has been deprecated in v3.0.0. This feature will be removed in v6.0.0. See https://github.com/optuna/optuna/releases/tag/v3.0.0. Use :func:`~optuna.trial.Trial.suggest_float` instead.\n",
      "\u001b[32m[I 2023-05-06 18:50:18,771]\u001b[0m Trial 70 pruned. Trial was pruned at iteration 2.\u001b[0m\n"
     ]
    },
    {
     "name": "stdout",
     "output_type": "stream",
     "text": [
      "Training until validation scores don't improve for 5 rounds\n"
     ]
    },
    {
     "name": "stderr",
     "output_type": "stream",
     "text": [
      "suggest_loguniform has been deprecated in v3.0.0. This feature will be removed in v6.0.0. See https://github.com/optuna/optuna/releases/tag/v3.0.0. Use :func:`~optuna.trial.Trial.suggest_float` instead.\n",
      "suggest_loguniform has been deprecated in v3.0.0. This feature will be removed in v6.0.0. See https://github.com/optuna/optuna/releases/tag/v3.0.0. Use :func:`~optuna.trial.Trial.suggest_float` instead.\n"
     ]
    },
    {
     "name": "stdout",
     "output_type": "stream",
     "text": [
      "Training until validation scores don't improve for 5 rounds\n",
      "Early stopping, best iteration is:\n",
      "[76]\tvalid_0's auc: 0.849006\n",
      "Training until validation scores don't improve for 5 rounds\n"
     ]
    },
    {
     "name": "stderr",
     "output_type": "stream",
     "text": [
      "\u001b[32m[I 2023-05-06 18:50:27,301]\u001b[0m Trial 71 pruned. Trial was pruned at iteration 93.\u001b[0m\n",
      "suggest_loguniform has been deprecated in v3.0.0. This feature will be removed in v6.0.0. See https://github.com/optuna/optuna/releases/tag/v3.0.0. Use :func:`~optuna.trial.Trial.suggest_float` instead.\n",
      "suggest_loguniform has been deprecated in v3.0.0. This feature will be removed in v6.0.0. See https://github.com/optuna/optuna/releases/tag/v3.0.0. Use :func:`~optuna.trial.Trial.suggest_float` instead.\n",
      "\u001b[32m[I 2023-05-06 18:50:28,325]\u001b[0m Trial 72 pruned. Trial was pruned at iteration 0.\u001b[0m\n",
      "suggest_loguniform has been deprecated in v3.0.0. This feature will be removed in v6.0.0. See https://github.com/optuna/optuna/releases/tag/v3.0.0. Use :func:`~optuna.trial.Trial.suggest_float` instead.\n",
      "suggest_loguniform has been deprecated in v3.0.0. This feature will be removed in v6.0.0. See https://github.com/optuna/optuna/releases/tag/v3.0.0. Use :func:`~optuna.trial.Trial.suggest_float` instead.\n",
      "\u001b[32m[I 2023-05-06 18:50:29,371]\u001b[0m Trial 73 pruned. Trial was pruned at iteration 1.\u001b[0m\n"
     ]
    },
    {
     "name": "stdout",
     "output_type": "stream",
     "text": [
      "Training until validation scores don't improve for 5 rounds\n"
     ]
    },
    {
     "name": "stderr",
     "output_type": "stream",
     "text": [
      "suggest_loguniform has been deprecated in v3.0.0. This feature will be removed in v6.0.0. See https://github.com/optuna/optuna/releases/tag/v3.0.0. Use :func:`~optuna.trial.Trial.suggest_float` instead.\n",
      "suggest_loguniform has been deprecated in v3.0.0. This feature will be removed in v6.0.0. See https://github.com/optuna/optuna/releases/tag/v3.0.0. Use :func:`~optuna.trial.Trial.suggest_float` instead.\n",
      "\u001b[32m[I 2023-05-06 18:50:30,388]\u001b[0m Trial 74 pruned. Trial was pruned at iteration 0.\u001b[0m\n",
      "suggest_loguniform has been deprecated in v3.0.0. This feature will be removed in v6.0.0. See https://github.com/optuna/optuna/releases/tag/v3.0.0. Use :func:`~optuna.trial.Trial.suggest_float` instead.\n",
      "suggest_loguniform has been deprecated in v3.0.0. This feature will be removed in v6.0.0. See https://github.com/optuna/optuna/releases/tag/v3.0.0. Use :func:`~optuna.trial.Trial.suggest_float` instead.\n",
      "\u001b[32m[I 2023-05-06 18:50:31,313]\u001b[0m Trial 75 pruned. Trial was pruned at iteration 0.\u001b[0m\n",
      "suggest_loguniform has been deprecated in v3.0.0. This feature will be removed in v6.0.0. See https://github.com/optuna/optuna/releases/tag/v3.0.0. Use :func:`~optuna.trial.Trial.suggest_float` instead.\n",
      "suggest_loguniform has been deprecated in v3.0.0. This feature will be removed in v6.0.0. See https://github.com/optuna/optuna/releases/tag/v3.0.0. Use :func:`~optuna.trial.Trial.suggest_float` instead.\n"
     ]
    },
    {
     "name": "stdout",
     "output_type": "stream",
     "text": [
      "Training until validation scores don't improve for 5 rounds\n",
      "Early stopping, best iteration is:\n",
      "[130]\tvalid_0's auc: 0.851242\n",
      "Training until validation scores don't improve for 5 rounds\n",
      "Early stopping, best iteration is:\n",
      "[76]\tvalid_0's auc: 0.848421\n",
      "Training until validation scores don't improve for 5 rounds\n",
      "Early stopping, best iteration is:\n",
      "[93]\tvalid_0's auc: 0.847583\n",
      "Training until validation scores don't improve for 5 rounds\n",
      "Early stopping, best iteration is:\n",
      "[80]\tvalid_0's auc: 0.848459\n",
      "Training until validation scores don't improve for 5 rounds\n",
      "Early stopping, best iteration is:\n",
      "[80]\tvalid_0's auc: 0.848236\n"
     ]
    },
    {
     "name": "stderr",
     "output_type": "stream",
     "text": [
      "\u001b[32m[I 2023-05-06 18:50:55,976]\u001b[0m Trial 76 finished with value: 0.8487879413113693 and parameters: {'learning_rate': 0.21000000000000002, 'num_leaves': 140, 'max_depth': 19, 'min_data_in_leaf': 600, 'lambda_l1': 1.6231693265953818e-08, 'lambda_l2': 1.2667203399805343e-05, 'bagging_fraction': 1.0, 'bagging_freq': 5, 'feature_fraction': 0.9, 'is_unbalance': False}. Best is trial 18 with value: 0.8495583249916011.\u001b[0m\n",
      "suggest_loguniform has been deprecated in v3.0.0. This feature will be removed in v6.0.0. See https://github.com/optuna/optuna/releases/tag/v3.0.0. Use :func:`~optuna.trial.Trial.suggest_float` instead.\n",
      "suggest_loguniform has been deprecated in v3.0.0. This feature will be removed in v6.0.0. See https://github.com/optuna/optuna/releases/tag/v3.0.0. Use :func:`~optuna.trial.Trial.suggest_float` instead.\n"
     ]
    },
    {
     "name": "stdout",
     "output_type": "stream",
     "text": [
      "Training until validation scores don't improve for 5 rounds\n"
     ]
    },
    {
     "name": "stderr",
     "output_type": "stream",
     "text": [
      "\u001b[32m[I 2023-05-06 18:51:00,427]\u001b[0m Trial 77 pruned. Trial was pruned at iteration 69.\u001b[0m\n",
      "suggest_loguniform has been deprecated in v3.0.0. This feature will be removed in v6.0.0. See https://github.com/optuna/optuna/releases/tag/v3.0.0. Use :func:`~optuna.trial.Trial.suggest_float` instead.\n",
      "suggest_loguniform has been deprecated in v3.0.0. This feature will be removed in v6.0.0. See https://github.com/optuna/optuna/releases/tag/v3.0.0. Use :func:`~optuna.trial.Trial.suggest_float` instead.\n"
     ]
    },
    {
     "name": "stdout",
     "output_type": "stream",
     "text": [
      "Training until validation scores don't improve for 5 rounds\n"
     ]
    },
    {
     "name": "stderr",
     "output_type": "stream",
     "text": [
      "\u001b[32m[I 2023-05-06 18:51:03,940]\u001b[0m Trial 78 pruned. Trial was pruned at iteration 53.\u001b[0m\n",
      "suggest_loguniform has been deprecated in v3.0.0. This feature will be removed in v6.0.0. See https://github.com/optuna/optuna/releases/tag/v3.0.0. Use :func:`~optuna.trial.Trial.suggest_float` instead.\n",
      "suggest_loguniform has been deprecated in v3.0.0. This feature will be removed in v6.0.0. See https://github.com/optuna/optuna/releases/tag/v3.0.0. Use :func:`~optuna.trial.Trial.suggest_float` instead.\n",
      "\u001b[32m[I 2023-05-06 18:51:04,951]\u001b[0m Trial 79 pruned. Trial was pruned at iteration 0.\u001b[0m\n",
      "suggest_loguniform has been deprecated in v3.0.0. This feature will be removed in v6.0.0. See https://github.com/optuna/optuna/releases/tag/v3.0.0. Use :func:`~optuna.trial.Trial.suggest_float` instead.\n",
      "suggest_loguniform has been deprecated in v3.0.0. This feature will be removed in v6.0.0. See https://github.com/optuna/optuna/releases/tag/v3.0.0. Use :func:`~optuna.trial.Trial.suggest_float` instead.\n",
      "\u001b[32m[I 2023-05-06 18:51:05,997]\u001b[0m Trial 80 pruned. Trial was pruned at iteration 0.\u001b[0m\n",
      "suggest_loguniform has been deprecated in v3.0.0. This feature will be removed in v6.0.0. See https://github.com/optuna/optuna/releases/tag/v3.0.0. Use :func:`~optuna.trial.Trial.suggest_float` instead.\n",
      "suggest_loguniform has been deprecated in v3.0.0. This feature will be removed in v6.0.0. See https://github.com/optuna/optuna/releases/tag/v3.0.0. Use :func:`~optuna.trial.Trial.suggest_float` instead.\n"
     ]
    },
    {
     "name": "stdout",
     "output_type": "stream",
     "text": [
      "Training until validation scores don't improve for 5 rounds\n"
     ]
    },
    {
     "name": "stderr",
     "output_type": "stream",
     "text": [
      "\u001b[32m[I 2023-05-06 18:51:07,438]\u001b[0m Trial 81 pruned. Trial was pruned at iteration 9.\u001b[0m\n",
      "suggest_loguniform has been deprecated in v3.0.0. This feature will be removed in v6.0.0. See https://github.com/optuna/optuna/releases/tag/v3.0.0. Use :func:`~optuna.trial.Trial.suggest_float` instead.\n",
      "suggest_loguniform has been deprecated in v3.0.0. This feature will be removed in v6.0.0. See https://github.com/optuna/optuna/releases/tag/v3.0.0. Use :func:`~optuna.trial.Trial.suggest_float` instead.\n",
      "\u001b[32m[I 2023-05-06 18:51:08,406]\u001b[0m Trial 82 pruned. Trial was pruned at iteration 0.\u001b[0m\n",
      "suggest_loguniform has been deprecated in v3.0.0. This feature will be removed in v6.0.0. See https://github.com/optuna/optuna/releases/tag/v3.0.0. Use :func:`~optuna.trial.Trial.suggest_float` instead.\n",
      "suggest_loguniform has been deprecated in v3.0.0. This feature will be removed in v6.0.0. See https://github.com/optuna/optuna/releases/tag/v3.0.0. Use :func:`~optuna.trial.Trial.suggest_float` instead.\n",
      "\u001b[32m[I 2023-05-06 18:51:09,349]\u001b[0m Trial 83 pruned. Trial was pruned at iteration 0.\u001b[0m\n",
      "suggest_loguniform has been deprecated in v3.0.0. This feature will be removed in v6.0.0. See https://github.com/optuna/optuna/releases/tag/v3.0.0. Use :func:`~optuna.trial.Trial.suggest_float` instead.\n",
      "suggest_loguniform has been deprecated in v3.0.0. This feature will be removed in v6.0.0. See https://github.com/optuna/optuna/releases/tag/v3.0.0. Use :func:`~optuna.trial.Trial.suggest_float` instead.\n"
     ]
    },
    {
     "name": "stdout",
     "output_type": "stream",
     "text": [
      "Training until validation scores don't improve for 5 rounds\n",
      "Early stopping, best iteration is:\n",
      "[99]\tvalid_0's auc: 0.850753\n",
      "Training until validation scores don't improve for 5 rounds\n",
      "Early stopping, best iteration is:\n",
      "[75]\tvalid_0's auc: 0.848129\n",
      "Training until validation scores don't improve for 5 rounds\n",
      "Early stopping, best iteration is:\n",
      "[93]\tvalid_0's auc: 0.848708\n",
      "Training until validation scores don't improve for 5 rounds\n",
      "Early stopping, best iteration is:\n",
      "[88]\tvalid_0's auc: 0.848932\n",
      "Training until validation scores don't improve for 5 rounds\n",
      "Early stopping, best iteration is:\n",
      "[111]\tvalid_0's auc: 0.849046\n"
     ]
    },
    {
     "name": "stderr",
     "output_type": "stream",
     "text": [
      "\u001b[32m[I 2023-05-06 18:51:33,919]\u001b[0m Trial 84 finished with value: 0.8491135404282787 and parameters: {'learning_rate': 0.21000000000000002, 'num_leaves': 150, 'max_depth': 17, 'min_data_in_leaf': 600, 'lambda_l1': 3.535993860014241e-08, 'lambda_l2': 1.569321927926766e-06, 'bagging_fraction': 1.0, 'bagging_freq': 5, 'feature_fraction': 0.9, 'is_unbalance': False}. Best is trial 18 with value: 0.8495583249916011.\u001b[0m\n",
      "suggest_loguniform has been deprecated in v3.0.0. This feature will be removed in v6.0.0. See https://github.com/optuna/optuna/releases/tag/v3.0.0. Use :func:`~optuna.trial.Trial.suggest_float` instead.\n",
      "suggest_loguniform has been deprecated in v3.0.0. This feature will be removed in v6.0.0. See https://github.com/optuna/optuna/releases/tag/v3.0.0. Use :func:`~optuna.trial.Trial.suggest_float` instead.\n"
     ]
    },
    {
     "name": "stdout",
     "output_type": "stream",
     "text": [
      "Training until validation scores don't improve for 5 rounds\n",
      "Early stopping, best iteration is:\n",
      "[53]\tvalid_0's auc: 0.848074\n",
      "Training until validation scores don't improve for 5 rounds\n"
     ]
    },
    {
     "name": "stderr",
     "output_type": "stream",
     "text": [
      "\u001b[32m[I 2023-05-06 18:51:40,461]\u001b[0m Trial 85 pruned. Trial was pruned at iteration 66.\u001b[0m\n",
      "suggest_loguniform has been deprecated in v3.0.0. This feature will be removed in v6.0.0. See https://github.com/optuna/optuna/releases/tag/v3.0.0. Use :func:`~optuna.trial.Trial.suggest_float` instead.\n",
      "suggest_loguniform has been deprecated in v3.0.0. This feature will be removed in v6.0.0. See https://github.com/optuna/optuna/releases/tag/v3.0.0. Use :func:`~optuna.trial.Trial.suggest_float` instead.\n",
      "\u001b[32m[I 2023-05-06 18:51:41,526]\u001b[0m Trial 86 pruned. Trial was pruned at iteration 0.\u001b[0m\n",
      "suggest_loguniform has been deprecated in v3.0.0. This feature will be removed in v6.0.0. See https://github.com/optuna/optuna/releases/tag/v3.0.0. Use :func:`~optuna.trial.Trial.suggest_float` instead.\n",
      "suggest_loguniform has been deprecated in v3.0.0. This feature will be removed in v6.0.0. See https://github.com/optuna/optuna/releases/tag/v3.0.0. Use :func:`~optuna.trial.Trial.suggest_float` instead.\n",
      "\u001b[32m[I 2023-05-06 18:51:42,524]\u001b[0m Trial 87 pruned. Trial was pruned at iteration 0.\u001b[0m\n",
      "suggest_loguniform has been deprecated in v3.0.0. This feature will be removed in v6.0.0. See https://github.com/optuna/optuna/releases/tag/v3.0.0. Use :func:`~optuna.trial.Trial.suggest_float` instead.\n",
      "suggest_loguniform has been deprecated in v3.0.0. This feature will be removed in v6.0.0. See https://github.com/optuna/optuna/releases/tag/v3.0.0. Use :func:`~optuna.trial.Trial.suggest_float` instead.\n",
      "\u001b[32m[I 2023-05-06 18:51:43,617]\u001b[0m Trial 88 pruned. Trial was pruned at iteration 4.\u001b[0m\n"
     ]
    },
    {
     "name": "stdout",
     "output_type": "stream",
     "text": [
      "Training until validation scores don't improve for 5 rounds\n"
     ]
    },
    {
     "name": "stderr",
     "output_type": "stream",
     "text": [
      "suggest_loguniform has been deprecated in v3.0.0. This feature will be removed in v6.0.0. See https://github.com/optuna/optuna/releases/tag/v3.0.0. Use :func:`~optuna.trial.Trial.suggest_float` instead.\n",
      "suggest_loguniform has been deprecated in v3.0.0. This feature will be removed in v6.0.0. See https://github.com/optuna/optuna/releases/tag/v3.0.0. Use :func:`~optuna.trial.Trial.suggest_float` instead.\n"
     ]
    },
    {
     "name": "stdout",
     "output_type": "stream",
     "text": [
      "Training until validation scores don't improve for 5 rounds\n"
     ]
    },
    {
     "name": "stderr",
     "output_type": "stream",
     "text": [
      "\u001b[32m[I 2023-05-06 18:51:45,366]\u001b[0m Trial 89 pruned. Trial was pruned at iteration 14.\u001b[0m\n",
      "suggest_loguniform has been deprecated in v3.0.0. This feature will be removed in v6.0.0. See https://github.com/optuna/optuna/releases/tag/v3.0.0. Use :func:`~optuna.trial.Trial.suggest_float` instead.\n",
      "suggest_loguniform has been deprecated in v3.0.0. This feature will be removed in v6.0.0. See https://github.com/optuna/optuna/releases/tag/v3.0.0. Use :func:`~optuna.trial.Trial.suggest_float` instead.\n",
      "\u001b[32m[I 2023-05-06 18:51:46,340]\u001b[0m Trial 90 pruned. Trial was pruned at iteration 0.\u001b[0m\n",
      "suggest_loguniform has been deprecated in v3.0.0. This feature will be removed in v6.0.0. See https://github.com/optuna/optuna/releases/tag/v3.0.0. Use :func:`~optuna.trial.Trial.suggest_float` instead.\n",
      "suggest_loguniform has been deprecated in v3.0.0. This feature will be removed in v6.0.0. See https://github.com/optuna/optuna/releases/tag/v3.0.0. Use :func:`~optuna.trial.Trial.suggest_float` instead.\n"
     ]
    },
    {
     "name": "stdout",
     "output_type": "stream",
     "text": [
      "Training until validation scores don't improve for 5 rounds\n"
     ]
    },
    {
     "name": "stderr",
     "output_type": "stream",
     "text": [
      "\u001b[32m[I 2023-05-06 18:51:47,739]\u001b[0m Trial 91 pruned. Trial was pruned at iteration 12.\u001b[0m\n",
      "suggest_loguniform has been deprecated in v3.0.0. This feature will be removed in v6.0.0. See https://github.com/optuna/optuna/releases/tag/v3.0.0. Use :func:`~optuna.trial.Trial.suggest_float` instead.\n",
      "suggest_loguniform has been deprecated in v3.0.0. This feature will be removed in v6.0.0. See https://github.com/optuna/optuna/releases/tag/v3.0.0. Use :func:`~optuna.trial.Trial.suggest_float` instead.\n"
     ]
    },
    {
     "name": "stdout",
     "output_type": "stream",
     "text": [
      "Training until validation scores don't improve for 5 rounds\n"
     ]
    },
    {
     "name": "stderr",
     "output_type": "stream",
     "text": [
      "\u001b[32m[I 2023-05-06 18:51:49,225]\u001b[0m Trial 92 pruned. Trial was pruned at iteration 12.\u001b[0m\n",
      "suggest_loguniform has been deprecated in v3.0.0. This feature will be removed in v6.0.0. See https://github.com/optuna/optuna/releases/tag/v3.0.0. Use :func:`~optuna.trial.Trial.suggest_float` instead.\n",
      "suggest_loguniform has been deprecated in v3.0.0. This feature will be removed in v6.0.0. See https://github.com/optuna/optuna/releases/tag/v3.0.0. Use :func:`~optuna.trial.Trial.suggest_float` instead.\n",
      "\u001b[32m[I 2023-05-06 18:51:50,191]\u001b[0m Trial 93 pruned. Trial was pruned at iteration 0.\u001b[0m\n",
      "suggest_loguniform has been deprecated in v3.0.0. This feature will be removed in v6.0.0. See https://github.com/optuna/optuna/releases/tag/v3.0.0. Use :func:`~optuna.trial.Trial.suggest_float` instead.\n",
      "suggest_loguniform has been deprecated in v3.0.0. This feature will be removed in v6.0.0. See https://github.com/optuna/optuna/releases/tag/v3.0.0. Use :func:`~optuna.trial.Trial.suggest_float` instead.\n",
      "\u001b[32m[I 2023-05-06 18:51:51,157]\u001b[0m Trial 94 pruned. Trial was pruned at iteration 0.\u001b[0m\n",
      "suggest_loguniform has been deprecated in v3.0.0. This feature will be removed in v6.0.0. See https://github.com/optuna/optuna/releases/tag/v3.0.0. Use :func:`~optuna.trial.Trial.suggest_float` instead.\n",
      "suggest_loguniform has been deprecated in v3.0.0. This feature will be removed in v6.0.0. See https://github.com/optuna/optuna/releases/tag/v3.0.0. Use :func:`~optuna.trial.Trial.suggest_float` instead.\n",
      "\u001b[32m[I 2023-05-06 18:51:52,203]\u001b[0m Trial 95 pruned. Trial was pruned at iteration 0.\u001b[0m\n",
      "suggest_loguniform has been deprecated in v3.0.0. This feature will be removed in v6.0.0. See https://github.com/optuna/optuna/releases/tag/v3.0.0. Use :func:`~optuna.trial.Trial.suggest_float` instead.\n",
      "suggest_loguniform has been deprecated in v3.0.0. This feature will be removed in v6.0.0. See https://github.com/optuna/optuna/releases/tag/v3.0.0. Use :func:`~optuna.trial.Trial.suggest_float` instead.\n"
     ]
    },
    {
     "name": "stdout",
     "output_type": "stream",
     "text": [
      "Training until validation scores don't improve for 5 rounds\n"
     ]
    },
    {
     "name": "stderr",
     "output_type": "stream",
     "text": [
      "\u001b[32m[I 2023-05-06 18:51:55,566]\u001b[0m Trial 96 pruned. Trial was pruned at iteration 68.\u001b[0m\n",
      "suggest_loguniform has been deprecated in v3.0.0. This feature will be removed in v6.0.0. See https://github.com/optuna/optuna/releases/tag/v3.0.0. Use :func:`~optuna.trial.Trial.suggest_float` instead.\n",
      "suggest_loguniform has been deprecated in v3.0.0. This feature will be removed in v6.0.0. See https://github.com/optuna/optuna/releases/tag/v3.0.0. Use :func:`~optuna.trial.Trial.suggest_float` instead.\n"
     ]
    },
    {
     "name": "stdout",
     "output_type": "stream",
     "text": [
      "Training until validation scores don't improve for 5 rounds\n"
     ]
    },
    {
     "name": "stderr",
     "output_type": "stream",
     "text": [
      "\u001b[32m[I 2023-05-06 18:52:00,360]\u001b[0m Trial 97 pruned. Trial was pruned at iteration 69.\u001b[0m\n",
      "suggest_loguniform has been deprecated in v3.0.0. This feature will be removed in v6.0.0. See https://github.com/optuna/optuna/releases/tag/v3.0.0. Use :func:`~optuna.trial.Trial.suggest_float` instead.\n",
      "suggest_loguniform has been deprecated in v3.0.0. This feature will be removed in v6.0.0. See https://github.com/optuna/optuna/releases/tag/v3.0.0. Use :func:`~optuna.trial.Trial.suggest_float` instead.\n",
      "\u001b[32m[I 2023-05-06 18:52:01,405]\u001b[0m Trial 98 pruned. Trial was pruned at iteration 0.\u001b[0m\n",
      "suggest_loguniform has been deprecated in v3.0.0. This feature will be removed in v6.0.0. See https://github.com/optuna/optuna/releases/tag/v3.0.0. Use :func:`~optuna.trial.Trial.suggest_float` instead.\n",
      "suggest_loguniform has been deprecated in v3.0.0. This feature will be removed in v6.0.0. See https://github.com/optuna/optuna/releases/tag/v3.0.0. Use :func:`~optuna.trial.Trial.suggest_float` instead.\n",
      "\u001b[32m[I 2023-05-06 18:52:02,430]\u001b[0m Trial 99 pruned. Trial was pruned at iteration 0.\u001b[0m\n",
      "suggest_loguniform has been deprecated in v3.0.0. This feature will be removed in v6.0.0. See https://github.com/optuna/optuna/releases/tag/v3.0.0. Use :func:`~optuna.trial.Trial.suggest_float` instead.\n",
      "suggest_loguniform has been deprecated in v3.0.0. This feature will be removed in v6.0.0. See https://github.com/optuna/optuna/releases/tag/v3.0.0. Use :func:`~optuna.trial.Trial.suggest_float` instead.\n",
      "\u001b[32m[I 2023-05-06 18:52:03,424]\u001b[0m Trial 100 pruned. Trial was pruned at iteration 0.\u001b[0m\n",
      "suggest_loguniform has been deprecated in v3.0.0. This feature will be removed in v6.0.0. See https://github.com/optuna/optuna/releases/tag/v3.0.0. Use :func:`~optuna.trial.Trial.suggest_float` instead.\n",
      "suggest_loguniform has been deprecated in v3.0.0. This feature will be removed in v6.0.0. See https://github.com/optuna/optuna/releases/tag/v3.0.0. Use :func:`~optuna.trial.Trial.suggest_float` instead.\n"
     ]
    },
    {
     "name": "stdout",
     "output_type": "stream",
     "text": [
      "Training until validation scores don't improve for 5 rounds\n",
      "Early stopping, best iteration is:\n",
      "[80]\tvalid_0's auc: 0.849871\n",
      "Training until validation scores don't improve for 5 rounds\n",
      "Early stopping, best iteration is:\n",
      "[75]\tvalid_0's auc: 0.847504\n",
      "Training until validation scores don't improve for 5 rounds\n",
      "Early stopping, best iteration is:\n",
      "[104]\tvalid_0's auc: 0.848338\n",
      "Training until validation scores don't improve for 5 rounds\n",
      "Early stopping, best iteration is:\n",
      "[77]\tvalid_0's auc: 0.848261\n",
      "Training until validation scores don't improve for 5 rounds\n",
      "Early stopping, best iteration is:\n",
      "[86]\tvalid_0's auc: 0.848605\n"
     ]
    },
    {
     "name": "stderr",
     "output_type": "stream",
     "text": [
      "\u001b[32m[I 2023-05-06 18:52:25,365]\u001b[0m Trial 101 finished with value: 0.8485156801950602 and parameters: {'learning_rate': 0.21000000000000002, 'num_leaves': 140, 'max_depth': 19, 'min_data_in_leaf': 400, 'lambda_l1': 2.557260059299836e-08, 'lambda_l2': 2.2024154345962224e-06, 'bagging_fraction': 1.0, 'bagging_freq': 5, 'feature_fraction': 0.9, 'is_unbalance': False}. Best is trial 18 with value: 0.8495583249916011.\u001b[0m\n",
      "suggest_loguniform has been deprecated in v3.0.0. This feature will be removed in v6.0.0. See https://github.com/optuna/optuna/releases/tag/v3.0.0. Use :func:`~optuna.trial.Trial.suggest_float` instead.\n",
      "suggest_loguniform has been deprecated in v3.0.0. This feature will be removed in v6.0.0. See https://github.com/optuna/optuna/releases/tag/v3.0.0. Use :func:`~optuna.trial.Trial.suggest_float` instead.\n"
     ]
    },
    {
     "name": "stdout",
     "output_type": "stream",
     "text": [
      "Training until validation scores don't improve for 5 rounds\n"
     ]
    },
    {
     "name": "stderr",
     "output_type": "stream",
     "text": [
      "\u001b[32m[I 2023-05-06 18:52:26,874]\u001b[0m Trial 102 pruned. Trial was pruned at iteration 11.\u001b[0m\n",
      "suggest_loguniform has been deprecated in v3.0.0. This feature will be removed in v6.0.0. See https://github.com/optuna/optuna/releases/tag/v3.0.0. Use :func:`~optuna.trial.Trial.suggest_float` instead.\n",
      "suggest_loguniform has been deprecated in v3.0.0. This feature will be removed in v6.0.0. See https://github.com/optuna/optuna/releases/tag/v3.0.0. Use :func:`~optuna.trial.Trial.suggest_float` instead.\n",
      "\u001b[32m[I 2023-05-06 18:52:27,860]\u001b[0m Trial 103 pruned. Trial was pruned at iteration 0.\u001b[0m\n",
      "suggest_loguniform has been deprecated in v3.0.0. This feature will be removed in v6.0.0. See https://github.com/optuna/optuna/releases/tag/v3.0.0. Use :func:`~optuna.trial.Trial.suggest_float` instead.\n",
      "suggest_loguniform has been deprecated in v3.0.0. This feature will be removed in v6.0.0. See https://github.com/optuna/optuna/releases/tag/v3.0.0. Use :func:`~optuna.trial.Trial.suggest_float` instead.\n"
     ]
    },
    {
     "name": "stdout",
     "output_type": "stream",
     "text": [
      "Training until validation scores don't improve for 5 rounds\n",
      "Early stopping, best iteration is:\n",
      "[101]\tvalid_0's auc: 0.850586\n",
      "Training until validation scores don't improve for 5 rounds\n",
      "Early stopping, best iteration is:\n",
      "[111]\tvalid_0's auc: 0.849724\n",
      "Training until validation scores don't improve for 5 rounds\n",
      "Early stopping, best iteration is:\n",
      "[97]\tvalid_0's auc: 0.848775\n",
      "Training until validation scores don't improve for 5 rounds\n",
      "Early stopping, best iteration is:\n",
      "[55]\tvalid_0's auc: 0.847001\n",
      "Training until validation scores don't improve for 5 rounds\n",
      "Early stopping, best iteration is:\n",
      "[88]\tvalid_0's auc: 0.848644\n"
     ]
    },
    {
     "name": "stderr",
     "output_type": "stream",
     "text": [
      "\u001b[32m[I 2023-05-06 18:52:51,418]\u001b[0m Trial 104 finished with value: 0.8489459998664767 and parameters: {'learning_rate': 0.21000000000000002, 'num_leaves': 150, 'max_depth': 17, 'min_data_in_leaf': 500, 'lambda_l1': 3.9626535644052356e-08, 'lambda_l2': 5.859367950392053e-07, 'bagging_fraction': 1.0, 'bagging_freq': 5, 'feature_fraction': 0.9, 'is_unbalance': False}. Best is trial 18 with value: 0.8495583249916011.\u001b[0m\n",
      "suggest_loguniform has been deprecated in v3.0.0. This feature will be removed in v6.0.0. See https://github.com/optuna/optuna/releases/tag/v3.0.0. Use :func:`~optuna.trial.Trial.suggest_float` instead.\n",
      "suggest_loguniform has been deprecated in v3.0.0. This feature will be removed in v6.0.0. See https://github.com/optuna/optuna/releases/tag/v3.0.0. Use :func:`~optuna.trial.Trial.suggest_float` instead.\n"
     ]
    },
    {
     "name": "stdout",
     "output_type": "stream",
     "text": [
      "Training until validation scores don't improve for 5 rounds\n",
      "Early stopping, best iteration is:\n",
      "[99]\tvalid_0's auc: 0.850753\n",
      "Training until validation scores don't improve for 5 rounds\n",
      "Early stopping, best iteration is:\n",
      "[75]\tvalid_0's auc: 0.848129\n",
      "Training until validation scores don't improve for 5 rounds\n",
      "Early stopping, best iteration is:\n",
      "[93]\tvalid_0's auc: 0.848708\n",
      "Training until validation scores don't improve for 5 rounds\n",
      "Early stopping, best iteration is:\n",
      "[88]\tvalid_0's auc: 0.848932\n",
      "Training until validation scores don't improve for 5 rounds\n",
      "Early stopping, best iteration is:\n",
      "[102]\tvalid_0's auc: 0.848912\n"
     ]
    },
    {
     "name": "stderr",
     "output_type": "stream",
     "text": [
      "\u001b[32m[I 2023-05-06 18:53:15,228]\u001b[0m Trial 105 finished with value: 0.8490866779919836 and parameters: {'learning_rate': 0.21000000000000002, 'num_leaves': 150, 'max_depth': 17, 'min_data_in_leaf': 600, 'lambda_l1': 1.1308979205819847e-07, 'lambda_l2': 6.212346266627487e-07, 'bagging_fraction': 1.0, 'bagging_freq': 5, 'feature_fraction': 0.9, 'is_unbalance': False}. Best is trial 18 with value: 0.8495583249916011.\u001b[0m\n",
      "suggest_loguniform has been deprecated in v3.0.0. This feature will be removed in v6.0.0. See https://github.com/optuna/optuna/releases/tag/v3.0.0. Use :func:`~optuna.trial.Trial.suggest_float` instead.\n",
      "suggest_loguniform has been deprecated in v3.0.0. This feature will be removed in v6.0.0. See https://github.com/optuna/optuna/releases/tag/v3.0.0. Use :func:`~optuna.trial.Trial.suggest_float` instead.\n"
     ]
    },
    {
     "name": "stdout",
     "output_type": "stream",
     "text": [
      "Training until validation scores don't improve for 5 rounds\n",
      "Early stopping, best iteration is:\n",
      "[50]\tvalid_0's auc: 0.848418\n",
      "Training until validation scores don't improve for 5 rounds\n"
     ]
    },
    {
     "name": "stderr",
     "output_type": "stream",
     "text": [
      "\u001b[32m[I 2023-05-06 18:53:22,130]\u001b[0m Trial 106 pruned. Trial was pruned at iteration 68.\u001b[0m\n",
      "suggest_loguniform has been deprecated in v3.0.0. This feature will be removed in v6.0.0. See https://github.com/optuna/optuna/releases/tag/v3.0.0. Use :func:`~optuna.trial.Trial.suggest_float` instead.\n",
      "suggest_loguniform has been deprecated in v3.0.0. This feature will be removed in v6.0.0. See https://github.com/optuna/optuna/releases/tag/v3.0.0. Use :func:`~optuna.trial.Trial.suggest_float` instead.\n",
      "\u001b[32m[I 2023-05-06 18:53:23,245]\u001b[0m Trial 107 pruned. Trial was pruned at iteration 1.\u001b[0m\n"
     ]
    },
    {
     "name": "stdout",
     "output_type": "stream",
     "text": [
      "Training until validation scores don't improve for 5 rounds\n"
     ]
    },
    {
     "name": "stderr",
     "output_type": "stream",
     "text": [
      "suggest_loguniform has been deprecated in v3.0.0. This feature will be removed in v6.0.0. See https://github.com/optuna/optuna/releases/tag/v3.0.0. Use :func:`~optuna.trial.Trial.suggest_float` instead.\n",
      "suggest_loguniform has been deprecated in v3.0.0. This feature will be removed in v6.0.0. See https://github.com/optuna/optuna/releases/tag/v3.0.0. Use :func:`~optuna.trial.Trial.suggest_float` instead.\n"
     ]
    },
    {
     "name": "stdout",
     "output_type": "stream",
     "text": [
      "Training until validation scores don't improve for 5 rounds\n"
     ]
    },
    {
     "name": "stderr",
     "output_type": "stream",
     "text": [
      "\u001b[32m[I 2023-05-06 18:53:24,722]\u001b[0m Trial 108 pruned. Trial was pruned at iteration 8.\u001b[0m\n",
      "suggest_loguniform has been deprecated in v3.0.0. This feature will be removed in v6.0.0. See https://github.com/optuna/optuna/releases/tag/v3.0.0. Use :func:`~optuna.trial.Trial.suggest_float` instead.\n",
      "suggest_loguniform has been deprecated in v3.0.0. This feature will be removed in v6.0.0. See https://github.com/optuna/optuna/releases/tag/v3.0.0. Use :func:`~optuna.trial.Trial.suggest_float` instead.\n"
     ]
    },
    {
     "name": "stdout",
     "output_type": "stream",
     "text": [
      "Training until validation scores don't improve for 5 rounds\n"
     ]
    },
    {
     "name": "stderr",
     "output_type": "stream",
     "text": [
      "\u001b[32m[I 2023-05-06 18:53:26,497]\u001b[0m Trial 109 pruned. Trial was pruned at iteration 18.\u001b[0m\n",
      "suggest_loguniform has been deprecated in v3.0.0. This feature will be removed in v6.0.0. See https://github.com/optuna/optuna/releases/tag/v3.0.0. Use :func:`~optuna.trial.Trial.suggest_float` instead.\n",
      "suggest_loguniform has been deprecated in v3.0.0. This feature will be removed in v6.0.0. See https://github.com/optuna/optuna/releases/tag/v3.0.0. Use :func:`~optuna.trial.Trial.suggest_float` instead.\n",
      "\u001b[32m[I 2023-05-06 18:53:27,441]\u001b[0m Trial 110 pruned. Trial was pruned at iteration 0.\u001b[0m\n",
      "suggest_loguniform has been deprecated in v3.0.0. This feature will be removed in v6.0.0. See https://github.com/optuna/optuna/releases/tag/v3.0.0. Use :func:`~optuna.trial.Trial.suggest_float` instead.\n",
      "suggest_loguniform has been deprecated in v3.0.0. This feature will be removed in v6.0.0. See https://github.com/optuna/optuna/releases/tag/v3.0.0. Use :func:`~optuna.trial.Trial.suggest_float` instead.\n"
     ]
    },
    {
     "name": "stdout",
     "output_type": "stream",
     "text": [
      "Training until validation scores don't improve for 5 rounds\n"
     ]
    },
    {
     "name": "stderr",
     "output_type": "stream",
     "text": [
      "\u001b[32m[I 2023-05-06 18:53:28,794]\u001b[0m Trial 111 pruned. Trial was pruned at iteration 9.\u001b[0m\n",
      "suggest_loguniform has been deprecated in v3.0.0. This feature will be removed in v6.0.0. See https://github.com/optuna/optuna/releases/tag/v3.0.0. Use :func:`~optuna.trial.Trial.suggest_float` instead.\n",
      "suggest_loguniform has been deprecated in v3.0.0. This feature will be removed in v6.0.0. See https://github.com/optuna/optuna/releases/tag/v3.0.0. Use :func:`~optuna.trial.Trial.suggest_float` instead.\n"
     ]
    },
    {
     "name": "stdout",
     "output_type": "stream",
     "text": [
      "Training until validation scores don't improve for 5 rounds\n"
     ]
    },
    {
     "name": "stderr",
     "output_type": "stream",
     "text": [
      "\u001b[32m[I 2023-05-06 18:53:30,632]\u001b[0m Trial 112 pruned. Trial was pruned at iteration 21.\u001b[0m\n",
      "suggest_loguniform has been deprecated in v3.0.0. This feature will be removed in v6.0.0. See https://github.com/optuna/optuna/releases/tag/v3.0.0. Use :func:`~optuna.trial.Trial.suggest_float` instead.\n",
      "suggest_loguniform has been deprecated in v3.0.0. This feature will be removed in v6.0.0. See https://github.com/optuna/optuna/releases/tag/v3.0.0. Use :func:`~optuna.trial.Trial.suggest_float` instead.\n"
     ]
    },
    {
     "name": "stdout",
     "output_type": "stream",
     "text": [
      "Training until validation scores don't improve for 5 rounds\n"
     ]
    },
    {
     "name": "stderr",
     "output_type": "stream",
     "text": [
      "\u001b[32m[I 2023-05-06 18:53:31,938]\u001b[0m Trial 113 pruned. Trial was pruned at iteration 9.\u001b[0m\n",
      "suggest_loguniform has been deprecated in v3.0.0. This feature will be removed in v6.0.0. See https://github.com/optuna/optuna/releases/tag/v3.0.0. Use :func:`~optuna.trial.Trial.suggest_float` instead.\n",
      "suggest_loguniform has been deprecated in v3.0.0. This feature will be removed in v6.0.0. See https://github.com/optuna/optuna/releases/tag/v3.0.0. Use :func:`~optuna.trial.Trial.suggest_float` instead.\n"
     ]
    },
    {
     "name": "stdout",
     "output_type": "stream",
     "text": [
      "Training until validation scores don't improve for 5 rounds\n"
     ]
    },
    {
     "name": "stderr",
     "output_type": "stream",
     "text": [
      "\u001b[32m[I 2023-05-06 18:53:33,447]\u001b[0m Trial 114 pruned. Trial was pruned at iteration 14.\u001b[0m\n",
      "suggest_loguniform has been deprecated in v3.0.0. This feature will be removed in v6.0.0. See https://github.com/optuna/optuna/releases/tag/v3.0.0. Use :func:`~optuna.trial.Trial.suggest_float` instead.\n",
      "suggest_loguniform has been deprecated in v3.0.0. This feature will be removed in v6.0.0. See https://github.com/optuna/optuna/releases/tag/v3.0.0. Use :func:`~optuna.trial.Trial.suggest_float` instead.\n",
      "\u001b[32m[I 2023-05-06 18:53:34,534]\u001b[0m Trial 115 pruned. Trial was pruned at iteration 0.\u001b[0m\n",
      "suggest_loguniform has been deprecated in v3.0.0. This feature will be removed in v6.0.0. See https://github.com/optuna/optuna/releases/tag/v3.0.0. Use :func:`~optuna.trial.Trial.suggest_float` instead.\n",
      "suggest_loguniform has been deprecated in v3.0.0. This feature will be removed in v6.0.0. See https://github.com/optuna/optuna/releases/tag/v3.0.0. Use :func:`~optuna.trial.Trial.suggest_float` instead.\n",
      "\u001b[32m[I 2023-05-06 18:53:35,535]\u001b[0m Trial 116 pruned. Trial was pruned at iteration 0.\u001b[0m\n",
      "suggest_loguniform has been deprecated in v3.0.0. This feature will be removed in v6.0.0. See https://github.com/optuna/optuna/releases/tag/v3.0.0. Use :func:`~optuna.trial.Trial.suggest_float` instead.\n",
      "suggest_loguniform has been deprecated in v3.0.0. This feature will be removed in v6.0.0. See https://github.com/optuna/optuna/releases/tag/v3.0.0. Use :func:`~optuna.trial.Trial.suggest_float` instead.\n",
      "\u001b[32m[I 2023-05-06 18:53:36,489]\u001b[0m Trial 117 pruned. Trial was pruned at iteration 0.\u001b[0m\n",
      "suggest_loguniform has been deprecated in v3.0.0. This feature will be removed in v6.0.0. See https://github.com/optuna/optuna/releases/tag/v3.0.0. Use :func:`~optuna.trial.Trial.suggest_float` instead.\n",
      "suggest_loguniform has been deprecated in v3.0.0. This feature will be removed in v6.0.0. See https://github.com/optuna/optuna/releases/tag/v3.0.0. Use :func:`~optuna.trial.Trial.suggest_float` instead.\n"
     ]
    },
    {
     "name": "stdout",
     "output_type": "stream",
     "text": [
      "Training until validation scores don't improve for 5 rounds\n"
     ]
    },
    {
     "name": "stderr",
     "output_type": "stream",
     "text": [
      "\u001b[32m[I 2023-05-06 18:53:37,746]\u001b[0m Trial 118 pruned. Trial was pruned at iteration 8.\u001b[0m\n",
      "suggest_loguniform has been deprecated in v3.0.0. This feature will be removed in v6.0.0. See https://github.com/optuna/optuna/releases/tag/v3.0.0. Use :func:`~optuna.trial.Trial.suggest_float` instead.\n",
      "suggest_loguniform has been deprecated in v3.0.0. This feature will be removed in v6.0.0. See https://github.com/optuna/optuna/releases/tag/v3.0.0. Use :func:`~optuna.trial.Trial.suggest_float` instead.\n",
      "\u001b[32m[I 2023-05-06 18:53:38,900]\u001b[0m Trial 119 pruned. Trial was pruned at iteration 3.\u001b[0m\n"
     ]
    },
    {
     "name": "stdout",
     "output_type": "stream",
     "text": [
      "Training until validation scores don't improve for 5 rounds\n"
     ]
    },
    {
     "name": "stderr",
     "output_type": "stream",
     "text": [
      "suggest_loguniform has been deprecated in v3.0.0. This feature will be removed in v6.0.0. See https://github.com/optuna/optuna/releases/tag/v3.0.0. Use :func:`~optuna.trial.Trial.suggest_float` instead.\n",
      "suggest_loguniform has been deprecated in v3.0.0. This feature will be removed in v6.0.0. See https://github.com/optuna/optuna/releases/tag/v3.0.0. Use :func:`~optuna.trial.Trial.suggest_float` instead.\n",
      "\u001b[32m[I 2023-05-06 18:53:39,870]\u001b[0m Trial 120 pruned. Trial was pruned at iteration 1.\u001b[0m\n"
     ]
    },
    {
     "name": "stdout",
     "output_type": "stream",
     "text": [
      "Training until validation scores don't improve for 5 rounds\n"
     ]
    },
    {
     "name": "stderr",
     "output_type": "stream",
     "text": [
      "suggest_loguniform has been deprecated in v3.0.0. This feature will be removed in v6.0.0. See https://github.com/optuna/optuna/releases/tag/v3.0.0. Use :func:`~optuna.trial.Trial.suggest_float` instead.\n",
      "suggest_loguniform has been deprecated in v3.0.0. This feature will be removed in v6.0.0. See https://github.com/optuna/optuna/releases/tag/v3.0.0. Use :func:`~optuna.trial.Trial.suggest_float` instead.\n"
     ]
    },
    {
     "name": "stdout",
     "output_type": "stream",
     "text": [
      "Training until validation scores don't improve for 5 rounds\n"
     ]
    },
    {
     "name": "stderr",
     "output_type": "stream",
     "text": [
      "\u001b[32m[I 2023-05-06 18:53:41,364]\u001b[0m Trial 121 pruned. Trial was pruned at iteration 14.\u001b[0m\n",
      "suggest_loguniform has been deprecated in v3.0.0. This feature will be removed in v6.0.0. See https://github.com/optuna/optuna/releases/tag/v3.0.0. Use :func:`~optuna.trial.Trial.suggest_float` instead.\n",
      "suggest_loguniform has been deprecated in v3.0.0. This feature will be removed in v6.0.0. See https://github.com/optuna/optuna/releases/tag/v3.0.0. Use :func:`~optuna.trial.Trial.suggest_float` instead.\n"
     ]
    },
    {
     "name": "stdout",
     "output_type": "stream",
     "text": [
      "Training until validation scores don't improve for 5 rounds\n",
      "Early stopping, best iteration is:\n",
      "[77]\tvalid_0's auc: 0.849208\n",
      "Training until validation scores don't improve for 5 rounds\n"
     ]
    },
    {
     "name": "stderr",
     "output_type": "stream",
     "text": [
      "\u001b[32m[I 2023-05-06 18:53:51,616]\u001b[0m Trial 122 pruned. Trial was pruned at iteration 96.\u001b[0m\n",
      "suggest_loguniform has been deprecated in v3.0.0. This feature will be removed in v6.0.0. See https://github.com/optuna/optuna/releases/tag/v3.0.0. Use :func:`~optuna.trial.Trial.suggest_float` instead.\n",
      "suggest_loguniform has been deprecated in v3.0.0. This feature will be removed in v6.0.0. See https://github.com/optuna/optuna/releases/tag/v3.0.0. Use :func:`~optuna.trial.Trial.suggest_float` instead.\n"
     ]
    },
    {
     "name": "stdout",
     "output_type": "stream",
     "text": [
      "Training until validation scores don't improve for 5 rounds\n"
     ]
    },
    {
     "name": "stderr",
     "output_type": "stream",
     "text": [
      "\u001b[32m[I 2023-05-06 18:53:53,841]\u001b[0m Trial 123 pruned. Trial was pruned at iteration 11.\u001b[0m\n",
      "suggest_loguniform has been deprecated in v3.0.0. This feature will be removed in v6.0.0. See https://github.com/optuna/optuna/releases/tag/v3.0.0. Use :func:`~optuna.trial.Trial.suggest_float` instead.\n",
      "suggest_loguniform has been deprecated in v3.0.0. This feature will be removed in v6.0.0. See https://github.com/optuna/optuna/releases/tag/v3.0.0. Use :func:`~optuna.trial.Trial.suggest_float` instead.\n",
      "\u001b[32m[I 2023-05-06 18:53:55,128]\u001b[0m Trial 124 pruned. Trial was pruned at iteration 0.\u001b[0m\n",
      "suggest_loguniform has been deprecated in v3.0.0. This feature will be removed in v6.0.0. See https://github.com/optuna/optuna/releases/tag/v3.0.0. Use :func:`~optuna.trial.Trial.suggest_float` instead.\n",
      "suggest_loguniform has been deprecated in v3.0.0. This feature will be removed in v6.0.0. See https://github.com/optuna/optuna/releases/tag/v3.0.0. Use :func:`~optuna.trial.Trial.suggest_float` instead.\n"
     ]
    },
    {
     "name": "stdout",
     "output_type": "stream",
     "text": [
      "Training until validation scores don't improve for 5 rounds\n"
     ]
    },
    {
     "name": "stderr",
     "output_type": "stream",
     "text": [
      "\u001b[32m[I 2023-05-06 18:54:01,718]\u001b[0m Trial 125 pruned. Trial was pruned at iteration 68.\u001b[0m\n",
      "suggest_loguniform has been deprecated in v3.0.0. This feature will be removed in v6.0.0. See https://github.com/optuna/optuna/releases/tag/v3.0.0. Use :func:`~optuna.trial.Trial.suggest_float` instead.\n",
      "suggest_loguniform has been deprecated in v3.0.0. This feature will be removed in v6.0.0. See https://github.com/optuna/optuna/releases/tag/v3.0.0. Use :func:`~optuna.trial.Trial.suggest_float` instead.\n",
      "\u001b[32m[I 2023-05-06 18:54:03,110]\u001b[0m Trial 126 pruned. Trial was pruned at iteration 0.\u001b[0m\n",
      "suggest_loguniform has been deprecated in v3.0.0. This feature will be removed in v6.0.0. See https://github.com/optuna/optuna/releases/tag/v3.0.0. Use :func:`~optuna.trial.Trial.suggest_float` instead.\n",
      "suggest_loguniform has been deprecated in v3.0.0. This feature will be removed in v6.0.0. See https://github.com/optuna/optuna/releases/tag/v3.0.0. Use :func:`~optuna.trial.Trial.suggest_float` instead.\n"
     ]
    },
    {
     "name": "stdout",
     "output_type": "stream",
     "text": [
      "Training until validation scores don't improve for 5 rounds\n"
     ]
    },
    {
     "name": "stderr",
     "output_type": "stream",
     "text": [
      "\u001b[32m[I 2023-05-06 18:54:07,062]\u001b[0m Trial 127 pruned. Trial was pruned at iteration 27.\u001b[0m\n",
      "suggest_loguniform has been deprecated in v3.0.0. This feature will be removed in v6.0.0. See https://github.com/optuna/optuna/releases/tag/v3.0.0. Use :func:`~optuna.trial.Trial.suggest_float` instead.\n",
      "suggest_loguniform has been deprecated in v3.0.0. This feature will be removed in v6.0.0. See https://github.com/optuna/optuna/releases/tag/v3.0.0. Use :func:`~optuna.trial.Trial.suggest_float` instead.\n"
     ]
    },
    {
     "name": "stdout",
     "output_type": "stream",
     "text": [
      "Training until validation scores don't improve for 5 rounds\n"
     ]
    },
    {
     "name": "stderr",
     "output_type": "stream",
     "text": [
      "\u001b[32m[I 2023-05-06 18:54:09,325]\u001b[0m Trial 128 pruned. Trial was pruned at iteration 14.\u001b[0m\n",
      "suggest_loguniform has been deprecated in v3.0.0. This feature will be removed in v6.0.0. See https://github.com/optuna/optuna/releases/tag/v3.0.0. Use :func:`~optuna.trial.Trial.suggest_float` instead.\n",
      "suggest_loguniform has been deprecated in v3.0.0. This feature will be removed in v6.0.0. See https://github.com/optuna/optuna/releases/tag/v3.0.0. Use :func:`~optuna.trial.Trial.suggest_float` instead.\n",
      "\u001b[32m[I 2023-05-06 18:54:10,731]\u001b[0m Trial 129 pruned. Trial was pruned at iteration 1.\u001b[0m\n"
     ]
    },
    {
     "name": "stdout",
     "output_type": "stream",
     "text": [
      "Training until validation scores don't improve for 5 rounds\n"
     ]
    },
    {
     "name": "stderr",
     "output_type": "stream",
     "text": [
      "suggest_loguniform has been deprecated in v3.0.0. This feature will be removed in v6.0.0. See https://github.com/optuna/optuna/releases/tag/v3.0.0. Use :func:`~optuna.trial.Trial.suggest_float` instead.\n",
      "suggest_loguniform has been deprecated in v3.0.0. This feature will be removed in v6.0.0. See https://github.com/optuna/optuna/releases/tag/v3.0.0. Use :func:`~optuna.trial.Trial.suggest_float` instead.\n",
      "\u001b[32m[I 2023-05-06 18:54:11,973]\u001b[0m Trial 130 pruned. Trial was pruned at iteration 1.\u001b[0m\n"
     ]
    },
    {
     "name": "stdout",
     "output_type": "stream",
     "text": [
      "Training until validation scores don't improve for 5 rounds\n"
     ]
    },
    {
     "name": "stderr",
     "output_type": "stream",
     "text": [
      "suggest_loguniform has been deprecated in v3.0.0. This feature will be removed in v6.0.0. See https://github.com/optuna/optuna/releases/tag/v3.0.0. Use :func:`~optuna.trial.Trial.suggest_float` instead.\n",
      "suggest_loguniform has been deprecated in v3.0.0. This feature will be removed in v6.0.0. See https://github.com/optuna/optuna/releases/tag/v3.0.0. Use :func:`~optuna.trial.Trial.suggest_float` instead.\n"
     ]
    },
    {
     "name": "stdout",
     "output_type": "stream",
     "text": [
      "Training until validation scores don't improve for 5 rounds\n",
      "Early stopping, best iteration is:\n",
      "[80]\tvalid_0's auc: 0.849871\n",
      "Training until validation scores don't improve for 5 rounds\n",
      "Early stopping, best iteration is:\n",
      "[75]\tvalid_0's auc: 0.847504\n",
      "Training until validation scores don't improve for 5 rounds\n",
      "Early stopping, best iteration is:\n",
      "[104]\tvalid_0's auc: 0.848338\n",
      "Training until validation scores don't improve for 5 rounds\n",
      "Early stopping, best iteration is:\n",
      "[77]\tvalid_0's auc: 0.848261\n",
      "Training until validation scores don't improve for 5 rounds\n",
      "Early stopping, best iteration is:\n",
      "[86]\tvalid_0's auc: 0.848605\n"
     ]
    },
    {
     "name": "stderr",
     "output_type": "stream",
     "text": [
      "\u001b[32m[I 2023-05-06 18:54:41,936]\u001b[0m Trial 131 finished with value: 0.8485156803056426 and parameters: {'learning_rate': 0.21000000000000002, 'num_leaves': 140, 'max_depth': 19, 'min_data_in_leaf': 400, 'lambda_l1': 1.9409288198625667e-08, 'lambda_l2': 1.971042687687978e-06, 'bagging_fraction': 1.0, 'bagging_freq': 5, 'feature_fraction': 0.9, 'is_unbalance': False}. Best is trial 18 with value: 0.8495583249916011.\u001b[0m\n",
      "suggest_loguniform has been deprecated in v3.0.0. This feature will be removed in v6.0.0. See https://github.com/optuna/optuna/releases/tag/v3.0.0. Use :func:`~optuna.trial.Trial.suggest_float` instead.\n",
      "suggest_loguniform has been deprecated in v3.0.0. This feature will be removed in v6.0.0. See https://github.com/optuna/optuna/releases/tag/v3.0.0. Use :func:`~optuna.trial.Trial.suggest_float` instead.\n"
     ]
    },
    {
     "name": "stdout",
     "output_type": "stream",
     "text": [
      "Training until validation scores don't improve for 5 rounds\n",
      "Early stopping, best iteration is:\n",
      "[80]\tvalid_0's auc: 0.849871\n",
      "Training until validation scores don't improve for 5 rounds\n",
      "Early stopping, best iteration is:\n",
      "[75]\tvalid_0's auc: 0.847504\n",
      "Training until validation scores don't improve for 5 rounds\n",
      "Early stopping, best iteration is:\n",
      "[104]\tvalid_0's auc: 0.848338\n",
      "Training until validation scores don't improve for 5 rounds\n",
      "Early stopping, best iteration is:\n",
      "[77]\tvalid_0's auc: 0.848261\n",
      "Training until validation scores don't improve for 5 rounds\n",
      "Early stopping, best iteration is:\n",
      "[86]\tvalid_0's auc: 0.848605\n"
     ]
    },
    {
     "name": "stderr",
     "output_type": "stream",
     "text": [
      "\u001b[32m[I 2023-05-06 18:55:03,246]\u001b[0m Trial 132 finished with value: 0.8485156804162287 and parameters: {'learning_rate': 0.21000000000000002, 'num_leaves': 140, 'max_depth': 19, 'min_data_in_leaf': 400, 'lambda_l1': 1.6721377327550462e-08, 'lambda_l2': 8.333130107215016e-07, 'bagging_fraction': 1.0, 'bagging_freq': 5, 'feature_fraction': 0.9, 'is_unbalance': False}. Best is trial 18 with value: 0.8495583249916011.\u001b[0m\n",
      "suggest_loguniform has been deprecated in v3.0.0. This feature will be removed in v6.0.0. See https://github.com/optuna/optuna/releases/tag/v3.0.0. Use :func:`~optuna.trial.Trial.suggest_float` instead.\n",
      "suggest_loguniform has been deprecated in v3.0.0. This feature will be removed in v6.0.0. See https://github.com/optuna/optuna/releases/tag/v3.0.0. Use :func:`~optuna.trial.Trial.suggest_float` instead.\n",
      "\u001b[32m[I 2023-05-06 18:55:04,290]\u001b[0m Trial 133 pruned. Trial was pruned at iteration 0.\u001b[0m\n",
      "suggest_loguniform has been deprecated in v3.0.0. This feature will be removed in v6.0.0. See https://github.com/optuna/optuna/releases/tag/v3.0.0. Use :func:`~optuna.trial.Trial.suggest_float` instead.\n",
      "suggest_loguniform has been deprecated in v3.0.0. This feature will be removed in v6.0.0. See https://github.com/optuna/optuna/releases/tag/v3.0.0. Use :func:`~optuna.trial.Trial.suggest_float` instead.\n",
      "\u001b[32m[I 2023-05-06 18:55:05,285]\u001b[0m Trial 134 pruned. Trial was pruned at iteration 0.\u001b[0m\n",
      "suggest_loguniform has been deprecated in v3.0.0. This feature will be removed in v6.0.0. See https://github.com/optuna/optuna/releases/tag/v3.0.0. Use :func:`~optuna.trial.Trial.suggest_float` instead.\n",
      "suggest_loguniform has been deprecated in v3.0.0. This feature will be removed in v6.0.0. See https://github.com/optuna/optuna/releases/tag/v3.0.0. Use :func:`~optuna.trial.Trial.suggest_float` instead.\n"
     ]
    },
    {
     "name": "stdout",
     "output_type": "stream",
     "text": [
      "Training until validation scores don't improve for 5 rounds\n"
     ]
    },
    {
     "name": "stderr",
     "output_type": "stream",
     "text": [
      "\u001b[32m[I 2023-05-06 18:55:08,979]\u001b[0m Trial 135 pruned. Trial was pruned at iteration 77.\u001b[0m\n",
      "suggest_loguniform has been deprecated in v3.0.0. This feature will be removed in v6.0.0. See https://github.com/optuna/optuna/releases/tag/v3.0.0. Use :func:`~optuna.trial.Trial.suggest_float` instead.\n",
      "suggest_loguniform has been deprecated in v3.0.0. This feature will be removed in v6.0.0. See https://github.com/optuna/optuna/releases/tag/v3.0.0. Use :func:`~optuna.trial.Trial.suggest_float` instead.\n"
     ]
    },
    {
     "name": "stdout",
     "output_type": "stream",
     "text": [
      "Training until validation scores don't improve for 5 rounds\n"
     ]
    },
    {
     "name": "stderr",
     "output_type": "stream",
     "text": [
      "\u001b[32m[I 2023-05-06 18:55:12,388]\u001b[0m Trial 136 pruned. Trial was pruned at iteration 66.\u001b[0m\n",
      "suggest_loguniform has been deprecated in v3.0.0. This feature will be removed in v6.0.0. See https://github.com/optuna/optuna/releases/tag/v3.0.0. Use :func:`~optuna.trial.Trial.suggest_float` instead.\n",
      "suggest_loguniform has been deprecated in v3.0.0. This feature will be removed in v6.0.0. See https://github.com/optuna/optuna/releases/tag/v3.0.0. Use :func:`~optuna.trial.Trial.suggest_float` instead.\n",
      "\u001b[32m[I 2023-05-06 18:55:13,484]\u001b[0m Trial 137 pruned. Trial was pruned at iteration 0.\u001b[0m\n",
      "suggest_loguniform has been deprecated in v3.0.0. This feature will be removed in v6.0.0. See https://github.com/optuna/optuna/releases/tag/v3.0.0. Use :func:`~optuna.trial.Trial.suggest_float` instead.\n",
      "suggest_loguniform has been deprecated in v3.0.0. This feature will be removed in v6.0.0. See https://github.com/optuna/optuna/releases/tag/v3.0.0. Use :func:`~optuna.trial.Trial.suggest_float` instead.\n"
     ]
    },
    {
     "name": "stdout",
     "output_type": "stream",
     "text": [
      "Training until validation scores don't improve for 5 rounds\n"
     ]
    },
    {
     "name": "stderr",
     "output_type": "stream",
     "text": [
      "\u001b[32m[I 2023-05-06 18:55:16,908]\u001b[0m Trial 138 pruned. Trial was pruned at iteration 47.\u001b[0m\n",
      "suggest_loguniform has been deprecated in v3.0.0. This feature will be removed in v6.0.0. See https://github.com/optuna/optuna/releases/tag/v3.0.0. Use :func:`~optuna.trial.Trial.suggest_float` instead.\n",
      "suggest_loguniform has been deprecated in v3.0.0. This feature will be removed in v6.0.0. See https://github.com/optuna/optuna/releases/tag/v3.0.0. Use :func:`~optuna.trial.Trial.suggest_float` instead.\n"
     ]
    },
    {
     "name": "stdout",
     "output_type": "stream",
     "text": [
      "Training until validation scores don't improve for 5 rounds\n"
     ]
    },
    {
     "name": "stderr",
     "output_type": "stream",
     "text": [
      "\u001b[32m[I 2023-05-06 18:55:18,601]\u001b[0m Trial 139 pruned. Trial was pruned at iteration 14.\u001b[0m\n",
      "suggest_loguniform has been deprecated in v3.0.0. This feature will be removed in v6.0.0. See https://github.com/optuna/optuna/releases/tag/v3.0.0. Use :func:`~optuna.trial.Trial.suggest_float` instead.\n",
      "suggest_loguniform has been deprecated in v3.0.0. This feature will be removed in v6.0.0. See https://github.com/optuna/optuna/releases/tag/v3.0.0. Use :func:`~optuna.trial.Trial.suggest_float` instead.\n",
      "\u001b[32m[I 2023-05-06 18:55:19,653]\u001b[0m Trial 140 pruned. Trial was pruned at iteration 1.\u001b[0m\n"
     ]
    },
    {
     "name": "stdout",
     "output_type": "stream",
     "text": [
      "Training until validation scores don't improve for 5 rounds\n"
     ]
    },
    {
     "name": "stderr",
     "output_type": "stream",
     "text": [
      "suggest_loguniform has been deprecated in v3.0.0. This feature will be removed in v6.0.0. See https://github.com/optuna/optuna/releases/tag/v3.0.0. Use :func:`~optuna.trial.Trial.suggest_float` instead.\n",
      "suggest_loguniform has been deprecated in v3.0.0. This feature will be removed in v6.0.0. See https://github.com/optuna/optuna/releases/tag/v3.0.0. Use :func:`~optuna.trial.Trial.suggest_float` instead.\n"
     ]
    },
    {
     "name": "stdout",
     "output_type": "stream",
     "text": [
      "Training until validation scores don't improve for 5 rounds\n",
      "Early stopping, best iteration is:\n",
      "[80]\tvalid_0's auc: 0.849871\n",
      "Training until validation scores don't improve for 5 rounds\n",
      "Early stopping, best iteration is:\n",
      "[75]\tvalid_0's auc: 0.847504\n",
      "Training until validation scores don't improve for 5 rounds\n",
      "Early stopping, best iteration is:\n",
      "[104]\tvalid_0's auc: 0.848338\n",
      "Training until validation scores don't improve for 5 rounds\n",
      "Early stopping, best iteration is:\n",
      "[77]\tvalid_0's auc: 0.848261\n",
      "Training until validation scores don't improve for 5 rounds\n",
      "Early stopping, best iteration is:\n",
      "[86]\tvalid_0's auc: 0.848605\n"
     ]
    },
    {
     "name": "stderr",
     "output_type": "stream",
     "text": [
      "\u001b[32m[I 2023-05-06 18:55:48,626]\u001b[0m Trial 141 finished with value: 0.8485156803056426 and parameters: {'learning_rate': 0.21000000000000002, 'num_leaves': 140, 'max_depth': 19, 'min_data_in_leaf': 400, 'lambda_l1': 1.995551538598276e-08, 'lambda_l2': 2.109114600302048e-06, 'bagging_fraction': 1.0, 'bagging_freq': 5, 'feature_fraction': 0.9, 'is_unbalance': False}. Best is trial 18 with value: 0.8495583249916011.\u001b[0m\n",
      "suggest_loguniform has been deprecated in v3.0.0. This feature will be removed in v6.0.0. See https://github.com/optuna/optuna/releases/tag/v3.0.0. Use :func:`~optuna.trial.Trial.suggest_float` instead.\n",
      "suggest_loguniform has been deprecated in v3.0.0. This feature will be removed in v6.0.0. See https://github.com/optuna/optuna/releases/tag/v3.0.0. Use :func:`~optuna.trial.Trial.suggest_float` instead.\n"
     ]
    },
    {
     "name": "stdout",
     "output_type": "stream",
     "text": [
      "Training until validation scores don't improve for 5 rounds\n"
     ]
    },
    {
     "name": "stderr",
     "output_type": "stream",
     "text": [
      "\u001b[32m[I 2023-05-06 18:55:50,087]\u001b[0m Trial 142 pruned. Trial was pruned at iteration 8.\u001b[0m\n",
      "suggest_loguniform has been deprecated in v3.0.0. This feature will be removed in v6.0.0. See https://github.com/optuna/optuna/releases/tag/v3.0.0. Use :func:`~optuna.trial.Trial.suggest_float` instead.\n",
      "suggest_loguniform has been deprecated in v3.0.0. This feature will be removed in v6.0.0. See https://github.com/optuna/optuna/releases/tag/v3.0.0. Use :func:`~optuna.trial.Trial.suggest_float` instead.\n"
     ]
    },
    {
     "name": "stdout",
     "output_type": "stream",
     "text": [
      "Training until validation scores don't improve for 5 rounds\n"
     ]
    },
    {
     "name": "stderr",
     "output_type": "stream",
     "text": [
      "\u001b[32m[I 2023-05-06 18:55:51,672]\u001b[0m Trial 143 pruned. Trial was pruned at iteration 14.\u001b[0m\n",
      "suggest_loguniform has been deprecated in v3.0.0. This feature will be removed in v6.0.0. See https://github.com/optuna/optuna/releases/tag/v3.0.0. Use :func:`~optuna.trial.Trial.suggest_float` instead.\n",
      "suggest_loguniform has been deprecated in v3.0.0. This feature will be removed in v6.0.0. See https://github.com/optuna/optuna/releases/tag/v3.0.0. Use :func:`~optuna.trial.Trial.suggest_float` instead.\n",
      "\u001b[32m[I 2023-05-06 18:55:52,687]\u001b[0m Trial 144 pruned. Trial was pruned at iteration 1.\u001b[0m\n"
     ]
    },
    {
     "name": "stdout",
     "output_type": "stream",
     "text": [
      "Training until validation scores don't improve for 5 rounds\n"
     ]
    },
    {
     "name": "stderr",
     "output_type": "stream",
     "text": [
      "suggest_loguniform has been deprecated in v3.0.0. This feature will be removed in v6.0.0. See https://github.com/optuna/optuna/releases/tag/v3.0.0. Use :func:`~optuna.trial.Trial.suggest_float` instead.\n",
      "suggest_loguniform has been deprecated in v3.0.0. This feature will be removed in v6.0.0. See https://github.com/optuna/optuna/releases/tag/v3.0.0. Use :func:`~optuna.trial.Trial.suggest_float` instead.\n"
     ]
    },
    {
     "name": "stdout",
     "output_type": "stream",
     "text": [
      "Training until validation scores don't improve for 5 rounds\n"
     ]
    },
    {
     "name": "stderr",
     "output_type": "stream",
     "text": [
      "\u001b[32m[I 2023-05-06 18:55:55,962]\u001b[0m Trial 145 pruned. Trial was pruned at iteration 66.\u001b[0m\n",
      "suggest_loguniform has been deprecated in v3.0.0. This feature will be removed in v6.0.0. See https://github.com/optuna/optuna/releases/tag/v3.0.0. Use :func:`~optuna.trial.Trial.suggest_float` instead.\n",
      "suggest_loguniform has been deprecated in v3.0.0. This feature will be removed in v6.0.0. See https://github.com/optuna/optuna/releases/tag/v3.0.0. Use :func:`~optuna.trial.Trial.suggest_float` instead.\n",
      "\u001b[32m[I 2023-05-06 18:55:57,160]\u001b[0m Trial 146 pruned. Trial was pruned at iteration 0.\u001b[0m\n",
      "suggest_loguniform has been deprecated in v3.0.0. This feature will be removed in v6.0.0. See https://github.com/optuna/optuna/releases/tag/v3.0.0. Use :func:`~optuna.trial.Trial.suggest_float` instead.\n",
      "suggest_loguniform has been deprecated in v3.0.0. This feature will be removed in v6.0.0. See https://github.com/optuna/optuna/releases/tag/v3.0.0. Use :func:`~optuna.trial.Trial.suggest_float` instead.\n",
      "\u001b[32m[I 2023-05-06 18:55:58,233]\u001b[0m Trial 147 pruned. Trial was pruned at iteration 0.\u001b[0m\n",
      "suggest_loguniform has been deprecated in v3.0.0. This feature will be removed in v6.0.0. See https://github.com/optuna/optuna/releases/tag/v3.0.0. Use :func:`~optuna.trial.Trial.suggest_float` instead.\n",
      "suggest_loguniform has been deprecated in v3.0.0. This feature will be removed in v6.0.0. See https://github.com/optuna/optuna/releases/tag/v3.0.0. Use :func:`~optuna.trial.Trial.suggest_float` instead.\n",
      "\u001b[32m[I 2023-05-06 18:55:59,281]\u001b[0m Trial 148 pruned. Trial was pruned at iteration 1.\u001b[0m\n"
     ]
    },
    {
     "name": "stdout",
     "output_type": "stream",
     "text": [
      "Training until validation scores don't improve for 5 rounds\n"
     ]
    },
    {
     "name": "stderr",
     "output_type": "stream",
     "text": [
      "suggest_loguniform has been deprecated in v3.0.0. This feature will be removed in v6.0.0. See https://github.com/optuna/optuna/releases/tag/v3.0.0. Use :func:`~optuna.trial.Trial.suggest_float` instead.\n",
      "suggest_loguniform has been deprecated in v3.0.0. This feature will be removed in v6.0.0. See https://github.com/optuna/optuna/releases/tag/v3.0.0. Use :func:`~optuna.trial.Trial.suggest_float` instead.\n",
      "\u001b[32m[I 2023-05-06 18:56:00,377]\u001b[0m Trial 149 pruned. Trial was pruned at iteration 3.\u001b[0m\n"
     ]
    },
    {
     "name": "stdout",
     "output_type": "stream",
     "text": [
      "Training until validation scores don't improve for 5 rounds\n"
     ]
    }
   ],
   "source": [
    "study = optuna.create_study(direction=\"maximize\", study_name=\"LGBM Classifier\")\n",
    "func = lambda trial: objective(trial, X_train, y_train)\n",
    "study.optimize(func, n_trials=150)"
   ]
  },
  {
   "cell_type": "code",
   "execution_count": 95,
   "id": "df9f1fcf",
   "metadata": {},
   "outputs": [
    {
     "name": "stdout",
     "output_type": "stream",
     "text": [
      "\tBest value (AUC): 0.84956\n",
      "\tBest params:\n",
      "\t\tlearning_rate: 0.16000000000000003\n",
      "\t\tnum_leaves: 130\n",
      "\t\tmax_depth: 19\n",
      "\t\tmin_data_in_leaf: 300\n",
      "\t\tlambda_l1: 1.5020891216285552e-07\n",
      "\t\tlambda_l2: 1.1409964892619912e-08\n",
      "\t\tbagging_fraction: 0.9\n",
      "\t\tbagging_freq: 5\n",
      "\t\tfeature_fraction: 0.9\n",
      "\t\tis_unbalance: True\n",
      "Best model best_iteration: 117.4\n"
     ]
    }
   ],
   "source": [
    "print(f\"\\tBest value (AUC): {study.best_value:.5f}\")\n",
    "print(f\"\\tBest params:\")\n",
    "\n",
    "for key, value in study.best_params.items():\n",
    "    print(f\"\\t\\t{key}: {value}\")\n",
    "\n",
    "print(\"Best model best_iteration:\", study_model_iteractions[study.best_trial.number])"
   ]
  },
  {
   "cell_type": "code",
   "execution_count": 35,
   "id": "22e60aa7",
   "metadata": {},
   "outputs": [],
   "source": [
    "#dill.dump(study, open(\"study.p\", \"wb\"))"
   ]
  },
  {
   "cell_type": "code",
   "execution_count": 36,
   "id": "5efbde6d",
   "metadata": {},
   "outputs": [],
   "source": [
    "#study = dill.load(open(\"study.p\", \"rb\"))"
   ]
  },
  {
   "cell_type": "code",
   "execution_count": 97,
   "id": "2bc41828",
   "metadata": {
    "scrolled": true
   },
   "outputs": [
    {
     "data": {
      "text/plain": [
       "{'verbose': -1,\n",
       " 'objective': 'binary',\n",
       " 'metric': 'auc',\n",
       " 'learning_rate': 0.16000000000000003,\n",
       " 'num_leaves': 130,\n",
       " 'max_depth': 19,\n",
       " 'min_data_in_leaf': 300,\n",
       " 'lambda_l1': 1.5020891216285552e-07,\n",
       " 'lambda_l2': 1.1409964892619912e-08,\n",
       " 'bagging_fraction': 0.9,\n",
       " 'bagging_freq': 5,\n",
       " 'feature_fraction': 0.9,\n",
       " 'is_unbalance': True,\n",
       " 'num_iterations': 117}"
      ]
     },
     "execution_count": 97,
     "metadata": {},
     "output_type": "execute_result"
    }
   ],
   "source": [
    "best_params = {\"verbose\": -1,\n",
    "                \"objective\":\"binary\",\n",
    "                \"metric\":\"auc\"\n",
    "            }\n",
    "for key,val in study.best_params.items():\n",
    "    best_params[key] = val\n",
    "\n",
    "best_params[\"num_iterations\"] = int(study_model_iteractions[study.best_trial.number])\n",
    "best_params"
   ]
  },
  {
   "cell_type": "code",
   "execution_count": null,
   "id": "8e67a27b",
   "metadata": {},
   "outputs": [],
   "source": []
  },
  {
   "cell_type": "code",
   "execution_count": 98,
   "id": "5ce3130e",
   "metadata": {},
   "outputs": [],
   "source": [
    "# Train Model with parameters found using Optuna\n",
    "train_data = lgb.Dataset(data=X_train, label=y_train, params={\"verbose\":-1})\n",
    "test_data = lgb.Dataset(data=X_test, label=y_test, params={\"verbose\":-1})\n",
    "best_lgb = lgb.train(params=best_params,\n",
    "                    train_set=train_data) "
   ]
  },
  {
   "cell_type": "code",
   "execution_count": 99,
   "id": "a587e001",
   "metadata": {
    "scrolled": true
   },
   "outputs": [
    {
     "name": "stdout",
     "output_type": "stream",
     "text": [
      "AUC score on Test dataset: 0.8154708935324201\n",
      "AUC score on Train dataset: 0.8784514565125926\n"
     ]
    }
   ],
   "source": [
    "print(\"AUC score on Test dataset:\", roc_auc_score(y_test, best_lgb.predict(X_test)))\n",
    "print(\"AUC score on Train dataset:\", roc_auc_score(y_train, best_lgb.predict(X_train)))"
   ]
  },
  {
   "cell_type": "code",
   "execution_count": 153,
   "id": "6124cc0b",
   "metadata": {
    "scrolled": true
   },
   "outputs": [
    {
     "name": "stdout",
     "output_type": "stream",
     "text": [
      "F1 score: 0.6732648119195948\n",
      "Accuracy: 0.758844191686878\n"
     ]
    }
   ],
   "source": [
    "import numpy as np\n",
    "from sklearn.metrics import f1_score, accuracy_score\n",
    "\n",
    "# Make predictions on the test data\n",
    "y_pred = best_lgb.predict(X_test)\n",
    "y_pred_binary = np.round(y_pred)  # Convert probabilities to binary predictions (0 or 1)\n",
    "\n",
    "# Calculate F1 score\n",
    "f1 = f1_score(y_test, y_pred_binary,average='macro')\n",
    "\n",
    "# Calculate accuracy\n",
    "accuracy = accuracy_score(y_test, y_pred_binary)\n",
    "\n",
    "# Print the F1 score and accuracy\n",
    "print(\"F1 score:\", f1)\n",
    "print(\"Accuracy:\", accuracy)"
   ]
  },
  {
   "cell_type": "code",
   "execution_count": 158,
   "id": "1c22195d",
   "metadata": {
    "scrolled": false
   },
   "outputs": [
    {
     "name": "stdout",
     "output_type": "stream",
     "text": [
      "Logreg Confusion matrix:\n",
      "[[151929  45339]\n",
      " [ 12331  29541]]\n"
     ]
    }
   ],
   "source": [
    "# predict probabilities\n",
    "yhat = best_lgb.predict(X_test)\n",
    "from sklearn.metrics import confusion_matrix\n",
    "\n",
    "confusion = confusion_matrix(y_test, y_pred_binary)\n",
    "print(\"Logreg Confusion matrix:\\n{}\".format(confusion))"
   ]
  },
  {
   "cell_type": "code",
   "execution_count": 163,
   "id": "f15c2d01",
   "metadata": {
    "scrolled": false
   },
   "outputs": [
    {
     "name": "stdout",
     "output_type": "stream",
     "text": [
      "Best f1: 0.5216649971227008\n",
      "Index of threshold: 187105\n",
      "Threshold for best F1: 0.6235965796613808\n"
     ]
    }
   ],
   "source": [
    "from sklearn.metrics import precision_recall_curve\n",
    "precision, recall, thresholds = precision_recall_curve(y_test, y_pred)\n",
    "# Calculate index for the best probability threshold\n",
    "best_f1 = 0\n",
    "best_f1_id = 0\n",
    "for id, (pr, rc, threshold) in enumerate(zip(precision, recall, thresholds)):\n",
    "    f1 = 2*(pr*rc)/(pr+rc)\n",
    "    if f1 > best_f1:\n",
    "        best_f1 = f1\n",
    "        best_f1_id = id\n",
    "\n",
    "print(\"Best f1:\", best_f1)\n",
    "print(\"Index of threshold:\",best_f1_id)\n",
    "best_threshold = thresholds[best_f1_id]\n",
    "print(\"Threshold for best F1:\", best_threshold)\n"
   ]
  },
  {
   "cell_type": "code",
   "execution_count": 172,
   "id": "ec268ece",
   "metadata": {},
   "outputs": [],
   "source": [
    "#the best threshold came out to be .62,and best F1 is .52."
   ]
  },
  {
   "cell_type": "code",
   "execution_count": null,
   "id": "5f7a436a",
   "metadata": {},
   "outputs": [],
   "source": []
  },
  {
   "cell_type": "code",
   "execution_count": 119,
   "id": "91d3c143",
   "metadata": {
    "scrolled": false
   },
   "outputs": [
    {
     "data": {
      "text/plain": [
       "<AxesSubplot:title={'center':'Feature importance'}, xlabel='Feature importance', ylabel='Features'>"
      ]
     },
     "execution_count": 119,
     "metadata": {},
     "output_type": "execute_result"
    },
    {
     "data": {
      "image/png": "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\n",
      "text/plain": [
       "<Figure size 1800x1440 with 1 Axes>"
      ]
     },
     "metadata": {
      "needs_background": "light"
     },
     "output_type": "display_data"
    }
   ],
   "source": [
    "lgb.plot_importance(best_lgb,figsize=(25,20),max_num_features = 10)"
   ]
  },
  {
   "cell_type": "code",
   "execution_count": 127,
   "id": "6cee4e12",
   "metadata": {},
   "outputs": [],
   "source": [
    "import shap\n",
    "\n",
    "shap_values = shap.TreeExplainer(best_lgb).shap_values(X_test)"
   ]
  },
  {
   "cell_type": "code",
   "execution_count": 128,
   "id": "a981205b",
   "metadata": {
    "scrolled": true
   },
   "outputs": [
    {
     "data": {
      "image/png": "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\n",
      "text/plain": [
       "<Figure size 576x684 with 1 Axes>"
      ]
     },
     "metadata": {
      "needs_background": "light"
     },
     "output_type": "display_data"
    }
   ],
   "source": [
    "shap.summary_plot(shap_values, X_test)"
   ]
  },
  {
   "cell_type": "code",
   "execution_count": null,
   "id": "a6abfebb",
   "metadata": {
    "scrolled": true
   },
   "outputs": [],
   "source": [
    "# SHAP is based on magnitude of feature attributions.\n",
    "#Here,from above shapely values we can see that Bank_trg feature has the most importance on prediction and \n",
    "#the Revline feature has the lowest importance.\n",
    "#We can also see that the impact of features on each class are equal."
   ]
  },
  {
   "cell_type": "code",
   "execution_count": 129,
   "id": "98517210",
   "metadata": {
    "scrolled": true
   },
   "outputs": [
    {
     "data": {
      "image/png": "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\n",
      "text/plain": [
       "<Figure size 576x684 with 2 Axes>"
      ]
     },
     "metadata": {
      "needs_background": "light"
     },
     "output_type": "display_data"
    }
   ],
   "source": [
    "len(shap_values) == 2\n",
    "shap.summary_plot(shap_values[1], X_test)"
   ]
  },
  {
   "cell_type": "code",
   "execution_count": 132,
   "id": "7cb8d405",
   "metadata": {
    "scrolled": false
   },
   "outputs": [
    {
     "data": {
      "image/png": "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\n",
      "text/plain": [
       "<Figure size 576x684 with 2 Axes>"
      ]
     },
     "metadata": {
      "needs_background": "light"
     },
     "output_type": "display_data"
    }
   ],
   "source": [
    "len(shap_values) == 2\n",
    "shap.summary_plot(shap_values[0], X_test)"
   ]
  },
  {
   "cell_type": "code",
   "execution_count": null,
   "id": "a72f5087",
   "metadata": {},
   "outputs": [],
   "source": []
  },
  {
   "cell_type": "code",
   "execution_count": 42,
   "id": "277c0f8d",
   "metadata": {
    "scrolled": true
   },
   "outputs": [
    {
     "name": "stdout",
     "output_type": "stream",
     "text": [
      "Checking whether there is an H2O instance running at http://localhost:54321 ..... not found.\n",
      "Attempting to start a local H2O server...\n",
      "  Java Version: openjdk version \"19.0.1\" 2022-10-18; OpenJDK Runtime Environment Homebrew (build 19.0.1); OpenJDK 64-Bit Server VM Homebrew (build 19.0.1, mixed mode, sharing)\n",
      "  Starting server from /opt/anaconda3/lib/python3.9/site-packages/h2o/backend/bin/h2o.jar\n",
      "  Ice root: /var/folders/w2/7hzc4bvs0z1_cq00ckmggvgm0000gn/T/tmpwlyk3ge5\n",
      "  JVM stdout: /var/folders/w2/7hzc4bvs0z1_cq00ckmggvgm0000gn/T/tmpwlyk3ge5/h2o_ankitasaikia_started_from_python.out\n",
      "  JVM stderr: /var/folders/w2/7hzc4bvs0z1_cq00ckmggvgm0000gn/T/tmpwlyk3ge5/h2o_ankitasaikia_started_from_python.err\n",
      "  Server is running at http://127.0.0.1:54321\n",
      "Connecting to H2O server at http://127.0.0.1:54321 ... successful.\n",
      "Warning: Your H2O cluster version is too old (3 months and 28 days)!Please download and install the latest version from http://h2o.ai/download/\n"
     ]
    },
    {
     "data": {
      "text/html": [
       "\n",
       "<style>\n",
       "\n",
       "#h2o-table-2.h2o-container {\n",
       "  overflow-x: auto;\n",
       "}\n",
       "#h2o-table-2 .h2o-table {\n",
       "  /* width: 100%; */\n",
       "  margin-top: 1em;\n",
       "  margin-bottom: 1em;\n",
       "}\n",
       "#h2o-table-2 .h2o-table caption {\n",
       "  white-space: nowrap;\n",
       "  caption-side: top;\n",
       "  text-align: left;\n",
       "  /* margin-left: 1em; */\n",
       "  margin: 0;\n",
       "  font-size: larger;\n",
       "}\n",
       "#h2o-table-2 .h2o-table thead {\n",
       "  white-space: nowrap; \n",
       "  position: sticky;\n",
       "  top: 0;\n",
       "  box-shadow: 0 -1px inset;\n",
       "}\n",
       "#h2o-table-2 .h2o-table tbody {\n",
       "  overflow: auto;\n",
       "}\n",
       "#h2o-table-2 .h2o-table th,\n",
       "#h2o-table-2 .h2o-table td {\n",
       "  text-align: right;\n",
       "  /* border: 1px solid; */\n",
       "}\n",
       "#h2o-table-2 .h2o-table tr:nth-child(even) {\n",
       "  /* background: #F5F5F5 */\n",
       "}\n",
       "\n",
       "</style>      \n",
       "<div id=\"h2o-table-2\" class=\"h2o-container\">\n",
       "  <table class=\"h2o-table\">\n",
       "    <caption></caption>\n",
       "    <thead></thead>\n",
       "    <tbody><tr><td>H2O_cluster_uptime:</td>\n",
       "<td>01 secs</td></tr>\n",
       "<tr><td>H2O_cluster_timezone:</td>\n",
       "<td>America/Chicago</td></tr>\n",
       "<tr><td>H2O_data_parsing_timezone:</td>\n",
       "<td>UTC</td></tr>\n",
       "<tr><td>H2O_cluster_version:</td>\n",
       "<td>3.38.0.4</td></tr>\n",
       "<tr><td>H2O_cluster_version_age:</td>\n",
       "<td>3 months and 28 days !!!</td></tr>\n",
       "<tr><td>H2O_cluster_name:</td>\n",
       "<td>H2O_from_python_ankitasaikia_qknora</td></tr>\n",
       "<tr><td>H2O_cluster_total_nodes:</td>\n",
       "<td>1</td></tr>\n",
       "<tr><td>H2O_cluster_free_memory:</td>\n",
       "<td>4 Gb</td></tr>\n",
       "<tr><td>H2O_cluster_total_cores:</td>\n",
       "<td>8</td></tr>\n",
       "<tr><td>H2O_cluster_allowed_cores:</td>\n",
       "<td>8</td></tr>\n",
       "<tr><td>H2O_cluster_status:</td>\n",
       "<td>locked, healthy</td></tr>\n",
       "<tr><td>H2O_connection_url:</td>\n",
       "<td>http://127.0.0.1:54321</td></tr>\n",
       "<tr><td>H2O_connection_proxy:</td>\n",
       "<td>{\"http\": null, \"https\": null}</td></tr>\n",
       "<tr><td>H2O_internal_security:</td>\n",
       "<td>False</td></tr>\n",
       "<tr><td>Python_version:</td>\n",
       "<td>3.9.7 final</td></tr></tbody>\n",
       "  </table>\n",
       "</div>\n"
      ],
      "text/plain": [
       "--------------------------  -----------------------------------\n",
       "H2O_cluster_uptime:         01 secs\n",
       "H2O_cluster_timezone:       America/Chicago\n",
       "H2O_data_parsing_timezone:  UTC\n",
       "H2O_cluster_version:        3.38.0.4\n",
       "H2O_cluster_version_age:    3 months and 28 days !!!\n",
       "H2O_cluster_name:           H2O_from_python_ankitasaikia_qknora\n",
       "H2O_cluster_total_nodes:    1\n",
       "H2O_cluster_free_memory:    4 Gb\n",
       "H2O_cluster_total_cores:    8\n",
       "H2O_cluster_allowed_cores:  8\n",
       "H2O_cluster_status:         locked, healthy\n",
       "H2O_connection_url:         http://127.0.0.1:54321\n",
       "H2O_connection_proxy:       {\"http\": null, \"https\": null}\n",
       "H2O_internal_security:      False\n",
       "Python_version:             3.9.7 final\n",
       "--------------------------  -----------------------------------"
      ]
     },
     "metadata": {},
     "output_type": "display_data"
    }
   ],
   "source": [
    "#h2o GLM\n",
    "import shap\n",
    "\n",
    "import h2o\n",
    "h2o.init(max_mem_size = \"4G\")           \n",
    "h2o.remove_all() \n"
   ]
  },
  {
   "cell_type": "code",
   "execution_count": 43,
   "id": "67207c50",
   "metadata": {
    "scrolled": true
   },
   "outputs": [
    {
     "name": "stdout",
     "output_type": "stream",
     "text": [
      "Parse progress: |████████████████████████████████████████████████████████████████| (done) 100%\n",
      "Parse progress: |████████████████████████████████████████████████████████████████| (done) 100%\n"
     ]
    }
   ],
   "source": [
    "X_train_h2o = pd.concat([X_train, y_train], axis=1)\n",
    "X_test_h2o = pd.concat([X_test, y_test], axis=1)\n",
    "h2o_train = h2o.H2OFrame(X_train_h2o)\n",
    "h2o_test = h2o.H2OFrame(X_test_h2o)\n",
    "h2o_train['MIS_Status'] = h2o_train['MIS_Status'].asfactor()\n",
    "h2o_test['MIS_Status'] = h2o_test['MIS_Status'].asfactor()"
   ]
  },
  {
   "cell_type": "code",
   "execution_count": 44,
   "id": "65f97ecf",
   "metadata": {},
   "outputs": [
    {
     "name": "stdout",
     "output_type": "stream",
     "text": [
      "Export File progress: |██████████████████████████████████████████████████████████| (done) 100%\n",
      "Export File progress: |██████████████████████████████████████████████████████████| (done) 100%\n"
     ]
    }
   ],
   "source": [
    "h2o.export_file(h2o_train, path = \"./h2o_train.csv\", force = True)\n",
    "h2o.export_file(h2o_test, path = \"./h2o_test.csv\", force = True)"
   ]
  },
  {
   "cell_type": "code",
   "execution_count": 47,
   "id": "ae0ffca2",
   "metadata": {
    "scrolled": true
   },
   "outputs": [
    {
     "name": "stdout",
     "output_type": "stream",
     "text": [
      "gbm Model Build progress: |██████████████████████████████████████████████████████| (done) 100%\n"
     ]
    },
    {
     "data": {
      "text/html": [
       "<pre style='margin: 1em 0 1em 0;'>Model Details\n",
       "=============\n",
       "H2OGradientBoostingEstimator : Gradient Boosting Machine\n",
       "Model Key: GBM_model_python_1683212234496_1\n",
       "</pre>\n",
       "<div style='margin: 1em 0 1em 0;'>\n",
       "<style>\n",
       "\n",
       "#h2o-table-3.h2o-container {\n",
       "  overflow-x: auto;\n",
       "}\n",
       "#h2o-table-3 .h2o-table {\n",
       "  /* width: 100%; */\n",
       "  margin-top: 1em;\n",
       "  margin-bottom: 1em;\n",
       "}\n",
       "#h2o-table-3 .h2o-table caption {\n",
       "  white-space: nowrap;\n",
       "  caption-side: top;\n",
       "  text-align: left;\n",
       "  /* margin-left: 1em; */\n",
       "  margin: 0;\n",
       "  font-size: larger;\n",
       "}\n",
       "#h2o-table-3 .h2o-table thead {\n",
       "  white-space: nowrap; \n",
       "  position: sticky;\n",
       "  top: 0;\n",
       "  box-shadow: 0 -1px inset;\n",
       "}\n",
       "#h2o-table-3 .h2o-table tbody {\n",
       "  overflow: auto;\n",
       "}\n",
       "#h2o-table-3 .h2o-table th,\n",
       "#h2o-table-3 .h2o-table td {\n",
       "  text-align: right;\n",
       "  /* border: 1px solid; */\n",
       "}\n",
       "#h2o-table-3 .h2o-table tr:nth-child(even) {\n",
       "  /* background: #F5F5F5 */\n",
       "}\n",
       "\n",
       "</style>      \n",
       "<div id=\"h2o-table-3\" class=\"h2o-container\">\n",
       "  <table class=\"h2o-table\">\n",
       "    <caption>Model Summary: </caption>\n",
       "    <thead><tr><th></th>\n",
       "<th>number_of_trees</th>\n",
       "<th>number_of_internal_trees</th>\n",
       "<th>model_size_in_bytes</th>\n",
       "<th>min_depth</th>\n",
       "<th>max_depth</th>\n",
       "<th>mean_depth</th>\n",
       "<th>min_leaves</th>\n",
       "<th>max_leaves</th>\n",
       "<th>mean_leaves</th></tr></thead>\n",
       "    <tbody><tr><td></td>\n",
       "<td>50.0</td>\n",
       "<td>50.0</td>\n",
       "<td>22769.0</td>\n",
       "<td>5.0</td>\n",
       "<td>5.0</td>\n",
       "<td>5.0</td>\n",
       "<td>27.0</td>\n",
       "<td>32.0</td>\n",
       "<td>31.58</td></tr></tbody>\n",
       "  </table>\n",
       "</div>\n",
       "</div>\n",
       "<div style='margin: 1em 0 1em 0;'><pre style='margin: 1em 0 1em 0;'>ModelMetricsBinomial: gbm\n",
       "** Reported on train data. **\n",
       "\n",
       "MSE: 0.1110640752114234\n",
       "RMSE: 0.3332627720154524\n",
       "LogLoss: 0.3594832288973458\n",
       "Mean Per-Class Error: 0.27500269768747704\n",
       "AUC: 0.8187931772282289\n",
       "AUCPR: 0.5418353881023935\n",
       "Gini: 0.6375863544564577</pre>\n",
       "<div style='margin: 1em 0 1em 0;'>\n",
       "<style>\n",
       "\n",
       "#h2o-table-4.h2o-container {\n",
       "  overflow-x: auto;\n",
       "}\n",
       "#h2o-table-4 .h2o-table {\n",
       "  /* width: 100%; */\n",
       "  margin-top: 1em;\n",
       "  margin-bottom: 1em;\n",
       "}\n",
       "#h2o-table-4 .h2o-table caption {\n",
       "  white-space: nowrap;\n",
       "  caption-side: top;\n",
       "  text-align: left;\n",
       "  /* margin-left: 1em; */\n",
       "  margin: 0;\n",
       "  font-size: larger;\n",
       "}\n",
       "#h2o-table-4 .h2o-table thead {\n",
       "  white-space: nowrap; \n",
       "  position: sticky;\n",
       "  top: 0;\n",
       "  box-shadow: 0 -1px inset;\n",
       "}\n",
       "#h2o-table-4 .h2o-table tbody {\n",
       "  overflow: auto;\n",
       "}\n",
       "#h2o-table-4 .h2o-table th,\n",
       "#h2o-table-4 .h2o-table td {\n",
       "  text-align: right;\n",
       "  /* border: 1px solid; */\n",
       "}\n",
       "#h2o-table-4 .h2o-table tr:nth-child(even) {\n",
       "  /* background: #F5F5F5 */\n",
       "}\n",
       "\n",
       "</style>      \n",
       "<div id=\"h2o-table-4\" class=\"h2o-container\">\n",
       "  <table class=\"h2o-table\">\n",
       "    <caption>Confusion Matrix (Act/Pred) for max f1 @ threshold = 0.259336580190338</caption>\n",
       "    <thead><tr><th></th>\n",
       "<th>0</th>\n",
       "<th>1</th>\n",
       "<th>Error</th>\n",
       "<th>Rate</th></tr></thead>\n",
       "    <tbody><tr><td>0</td>\n",
       "<td>394347.0</td>\n",
       "<td>65270.0</td>\n",
       "<td>0.142</td>\n",
       "<td> (65270.0/459617.0)</td></tr>\n",
       "<tr><td>1</td>\n",
       "<td>40137.0</td>\n",
       "<td>58239.0</td>\n",
       "<td>0.408</td>\n",
       "<td> (40137.0/98376.0)</td></tr>\n",
       "<tr><td>Total</td>\n",
       "<td>434484.0</td>\n",
       "<td>123509.0</td>\n",
       "<td>0.1889</td>\n",
       "<td> (105407.0/557993.0)</td></tr></tbody>\n",
       "  </table>\n",
       "</div>\n",
       "</div>\n",
       "<div style='margin: 1em 0 1em 0;'>\n",
       "<style>\n",
       "\n",
       "#h2o-table-5.h2o-container {\n",
       "  overflow-x: auto;\n",
       "}\n",
       "#h2o-table-5 .h2o-table {\n",
       "  /* width: 100%; */\n",
       "  margin-top: 1em;\n",
       "  margin-bottom: 1em;\n",
       "}\n",
       "#h2o-table-5 .h2o-table caption {\n",
       "  white-space: nowrap;\n",
       "  caption-side: top;\n",
       "  text-align: left;\n",
       "  /* margin-left: 1em; */\n",
       "  margin: 0;\n",
       "  font-size: larger;\n",
       "}\n",
       "#h2o-table-5 .h2o-table thead {\n",
       "  white-space: nowrap; \n",
       "  position: sticky;\n",
       "  top: 0;\n",
       "  box-shadow: 0 -1px inset;\n",
       "}\n",
       "#h2o-table-5 .h2o-table tbody {\n",
       "  overflow: auto;\n",
       "}\n",
       "#h2o-table-5 .h2o-table th,\n",
       "#h2o-table-5 .h2o-table td {\n",
       "  text-align: right;\n",
       "  /* border: 1px solid; */\n",
       "}\n",
       "#h2o-table-5 .h2o-table tr:nth-child(even) {\n",
       "  /* background: #F5F5F5 */\n",
       "}\n",
       "\n",
       "</style>      \n",
       "<div id=\"h2o-table-5\" class=\"h2o-container\">\n",
       "  <table class=\"h2o-table\">\n",
       "    <caption>Maximum Metrics: Maximum metrics at their respective thresholds</caption>\n",
       "    <thead><tr><th>metric</th>\n",
       "<th>threshold</th>\n",
       "<th>value</th>\n",
       "<th>idx</th></tr></thead>\n",
       "    <tbody><tr><td>max f1</td>\n",
       "<td>0.2593366</td>\n",
       "<td>0.5249476</td>\n",
       "<td>215.0</td></tr>\n",
       "<tr><td>max f2</td>\n",
       "<td>0.1358133</td>\n",
       "<td>0.6266308</td>\n",
       "<td>293.0</td></tr>\n",
       "<tr><td>max f0point5</td>\n",
       "<td>0.4032148</td>\n",
       "<td>0.5439411</td>\n",
       "<td>143.0</td></tr>\n",
       "<tr><td>max accuracy</td>\n",
       "<td>0.4657953</td>\n",
       "<td>0.8503673</td>\n",
       "<td>119.0</td></tr>\n",
       "<tr><td>max precision</td>\n",
       "<td>0.9341164</td>\n",
       "<td>1.0</td>\n",
       "<td>0.0</td></tr>\n",
       "<tr><td>max recall</td>\n",
       "<td>0.0106037</td>\n",
       "<td>1.0</td>\n",
       "<td>398.0</td></tr>\n",
       "<tr><td>max specificity</td>\n",
       "<td>0.9341164</td>\n",
       "<td>1.0</td>\n",
       "<td>0.0</td></tr>\n",
       "<tr><td>max absolute_mcc</td>\n",
       "<td>0.2967149</td>\n",
       "<td>0.4158295</td>\n",
       "<td>194.0</td></tr>\n",
       "<tr><td>max min_per_class_accuracy</td>\n",
       "<td>0.1798671</td>\n",
       "<td>0.7357791</td>\n",
       "<td>264.0</td></tr>\n",
       "<tr><td>max mean_per_class_accuracy</td>\n",
       "<td>0.1978928</td>\n",
       "<td>0.7377408</td>\n",
       "<td>253.0</td></tr>\n",
       "<tr><td>max tns</td>\n",
       "<td>0.9341164</td>\n",
       "<td>459617.0</td>\n",
       "<td>0.0</td></tr>\n",
       "<tr><td>max fns</td>\n",
       "<td>0.9341164</td>\n",
       "<td>98353.0</td>\n",
       "<td>0.0</td></tr>\n",
       "<tr><td>max fps</td>\n",
       "<td>0.0093000</td>\n",
       "<td>459617.0</td>\n",
       "<td>399.0</td></tr>\n",
       "<tr><td>max tps</td>\n",
       "<td>0.0106037</td>\n",
       "<td>98376.0</td>\n",
       "<td>398.0</td></tr>\n",
       "<tr><td>max tnr</td>\n",
       "<td>0.9341164</td>\n",
       "<td>1.0</td>\n",
       "<td>0.0</td></tr>\n",
       "<tr><td>max fnr</td>\n",
       "<td>0.9341164</td>\n",
       "<td>0.9997662</td>\n",
       "<td>0.0</td></tr>\n",
       "<tr><td>max fpr</td>\n",
       "<td>0.0093000</td>\n",
       "<td>1.0</td>\n",
       "<td>399.0</td></tr>\n",
       "<tr><td>max tpr</td>\n",
       "<td>0.0106037</td>\n",
       "<td>1.0</td>\n",
       "<td>398.0</td></tr></tbody>\n",
       "  </table>\n",
       "</div>\n",
       "</div>\n",
       "<div style='margin: 1em 0 1em 0;'>\n",
       "<style>\n",
       "\n",
       "#h2o-table-6.h2o-container {\n",
       "  overflow-x: auto;\n",
       "}\n",
       "#h2o-table-6 .h2o-table {\n",
       "  /* width: 100%; */\n",
       "  margin-top: 1em;\n",
       "  margin-bottom: 1em;\n",
       "}\n",
       "#h2o-table-6 .h2o-table caption {\n",
       "  white-space: nowrap;\n",
       "  caption-side: top;\n",
       "  text-align: left;\n",
       "  /* margin-left: 1em; */\n",
       "  margin: 0;\n",
       "  font-size: larger;\n",
       "}\n",
       "#h2o-table-6 .h2o-table thead {\n",
       "  white-space: nowrap; \n",
       "  position: sticky;\n",
       "  top: 0;\n",
       "  box-shadow: 0 -1px inset;\n",
       "}\n",
       "#h2o-table-6 .h2o-table tbody {\n",
       "  overflow: auto;\n",
       "}\n",
       "#h2o-table-6 .h2o-table th,\n",
       "#h2o-table-6 .h2o-table td {\n",
       "  text-align: right;\n",
       "  /* border: 1px solid; */\n",
       "}\n",
       "#h2o-table-6 .h2o-table tr:nth-child(even) {\n",
       "  /* background: #F5F5F5 */\n",
       "}\n",
       "\n",
       "</style>      \n",
       "<div id=\"h2o-table-6\" class=\"h2o-container\">\n",
       "  <table class=\"h2o-table\">\n",
       "    <caption>Gains/Lift Table: Avg response rate: 17.63 %, avg score: 17.64 %</caption>\n",
       "    <thead><tr><th>group</th>\n",
       "<th>cumulative_data_fraction</th>\n",
       "<th>lower_threshold</th>\n",
       "<th>lift</th>\n",
       "<th>cumulative_lift</th>\n",
       "<th>response_rate</th>\n",
       "<th>score</th>\n",
       "<th>cumulative_response_rate</th>\n",
       "<th>cumulative_score</th>\n",
       "<th>capture_rate</th>\n",
       "<th>cumulative_capture_rate</th>\n",
       "<th>gain</th>\n",
       "<th>cumulative_gain</th>\n",
       "<th>kolmogorov_smirnov</th></tr></thead>\n",
       "    <tbody><tr><td>1</td>\n",
       "<td>0.0100001</td>\n",
       "<td>0.7463646</td>\n",
       "<td>4.9716787</td>\n",
       "<td>4.9716787</td>\n",
       "<td>0.8765233</td>\n",
       "<td>0.7953338</td>\n",
       "<td>0.8765233</td>\n",
       "<td>0.7953338</td>\n",
       "<td>0.0497174</td>\n",
       "<td>0.0497174</td>\n",
       "<td>397.1678706</td>\n",
       "<td>397.1678706</td>\n",
       "<td>0.0482183</td></tr>\n",
       "<tr><td>2</td>\n",
       "<td>0.0200003</td>\n",
       "<td>0.6746534</td>\n",
       "<td>4.4817280</td>\n",
       "<td>4.7267033</td>\n",
       "<td>0.7901434</td>\n",
       "<td>0.7091413</td>\n",
       "<td>0.8333333</td>\n",
       "<td>0.7522375</td>\n",
       "<td>0.0448178</td>\n",
       "<td>0.0945353</td>\n",
       "<td>348.1727952</td>\n",
       "<td>372.6703329</td>\n",
       "<td>0.0904884</td></tr>\n",
       "<tr><td>3</td>\n",
       "<td>0.0300004</td>\n",
       "<td>0.6253722</td>\n",
       "<td>4.1351030</td>\n",
       "<td>4.5295032</td>\n",
       "<td>0.7290323</td>\n",
       "<td>0.6486808</td>\n",
       "<td>0.7985663</td>\n",
       "<td>0.7177186</td>\n",
       "<td>0.0413515</td>\n",
       "<td>0.1358868</td>\n",
       "<td>313.5103041</td>\n",
       "<td>352.9503233</td>\n",
       "<td>0.1285503</td></tr>\n",
       "<tr><td>4</td>\n",
       "<td>0.0400023</td>\n",
       "<td>0.5855362</td>\n",
       "<td>3.8101582</td>\n",
       "<td>4.3496428</td>\n",
       "<td>0.6717434</td>\n",
       "<td>0.6046742</td>\n",
       "<td>0.7668563</td>\n",
       "<td>0.6894537</td>\n",
       "<td>0.0381089</td>\n",
       "<td>0.1739957</td>\n",
       "<td>281.0158204</td>\n",
       "<td>334.9642805</td>\n",
       "<td>0.1626732</td></tr>\n",
       "<tr><td>5</td>\n",
       "<td>0.0500006</td>\n",
       "<td>0.5521322</td>\n",
       "<td>3.5146543</td>\n",
       "<td>4.1826750</td>\n",
       "<td>0.6196451</td>\n",
       "<td>0.5695149</td>\n",
       "<td>0.7374194</td>\n",
       "<td>0.6654702</td>\n",
       "<td>0.0351407</td>\n",
       "<td>0.2091364</td>\n",
       "<td>251.4654255</td>\n",
       "<td>318.2675023</td>\n",
       "<td>0.1931970</td></tr>\n",
       "<tr><td>6</td>\n",
       "<td>0.1000013</td>\n",
       "<td>0.4121670</td>\n",
       "<td>2.9260835</td>\n",
       "<td>3.5543793</td>\n",
       "<td>0.5158781</td>\n",
       "<td>0.4780363</td>\n",
       "<td>0.6266487</td>\n",
       "<td>0.5717533</td>\n",
       "<td>0.1463060</td>\n",
       "<td>0.3554424</td>\n",
       "<td>192.6083484</td>\n",
       "<td>255.4379254</td>\n",
       "<td>0.3101155</td></tr>\n",
       "<tr><td>7</td>\n",
       "<td>0.1500091</td>\n",
       "<td>0.3302628</td>\n",
       "<td>2.2542635</td>\n",
       "<td>3.1209659</td>\n",
       "<td>0.3974341</td>\n",
       "<td>0.3685741</td>\n",
       "<td>0.5502365</td>\n",
       "<td>0.5040204</td>\n",
       "<td>0.1127307</td>\n",
       "<td>0.4681731</td>\n",
       "<td>125.4263471</td>\n",
       "<td>212.0965907</td>\n",
       "<td>0.3862636</td></tr>\n",
       "<tr><td>8</td>\n",
       "<td>0.2000007</td>\n",
       "<td>0.2764089</td>\n",
       "<td>1.8137527</td>\n",
       "<td>2.7942183</td>\n",
       "<td>0.3197706</td>\n",
       "<td>0.3014667</td>\n",
       "<td>0.4926299</td>\n",
       "<td>0.4533906</td>\n",
       "<td>0.0906725</td>\n",
       "<td>0.5588457</td>\n",
       "<td>81.3752731</td>\n",
       "<td>179.4218252</td>\n",
       "<td>0.4356518</td></tr>\n",
       "<tr><td>9</td>\n",
       "<td>0.3000002</td>\n",
       "<td>0.2048234</td>\n",
       "<td>1.3179098</td>\n",
       "<td>2.3021184</td>\n",
       "<td>0.2323518</td>\n",
       "<td>0.2384716</td>\n",
       "<td>0.4058710</td>\n",
       "<td>0.3817514</td>\n",
       "<td>0.1317903</td>\n",
       "<td>0.6906359</td>\n",
       "<td>31.7909826</td>\n",
       "<td>130.2118383</td>\n",
       "<td>0.4742471</td></tr>\n",
       "<tr><td>10</td>\n",
       "<td>0.3999996</td>\n",
       "<td>0.1526196</td>\n",
       "<td>0.9265521</td>\n",
       "<td>1.9582284</td>\n",
       "<td>0.1633542</td>\n",
       "<td>0.1776403</td>\n",
       "<td>0.3452421</td>\n",
       "<td>0.3307238</td>\n",
       "<td>0.0926547</td>\n",
       "<td>0.7832906</td>\n",
       "<td>-7.3447893</td>\n",
       "<td>95.8228355</td>\n",
       "<td>0.4653303</td></tr>\n",
       "<tr><td>11</td>\n",
       "<td>0.5000027</td>\n",
       "<td>0.1140603</td>\n",
       "<td>0.7104159</td>\n",
       "<td>1.7086596</td>\n",
       "<td>0.1252487</td>\n",
       "<td>0.1321579</td>\n",
       "<td>0.3012423</td>\n",
       "<td>0.2910097</td>\n",
       "<td>0.0710438</td>\n",
       "<td>0.8543344</td>\n",
       "<td>-28.9584139</td>\n",
       "<td>70.8659595</td>\n",
       "<td>0.4301725</td></tr>\n",
       "<tr><td>12</td>\n",
       "<td>0.6000004</td>\n",
       "<td>0.0896983</td>\n",
       "<td>0.5592958</td>\n",
       "<td>1.5171035</td>\n",
       "<td>0.0986057</td>\n",
       "<td>0.1010340</td>\n",
       "<td>0.2674703</td>\n",
       "<td>0.2593478</td>\n",
       "<td>0.0559283</td>\n",
       "<td>0.9102627</td>\n",
       "<td>-44.0704218</td>\n",
       "<td>51.7103537</td>\n",
       "<td>0.3766706</td></tr>\n",
       "<tr><td>13</td>\n",
       "<td>0.6999998</td>\n",
       "<td>0.0716863</td>\n",
       "<td>0.4112814</td>\n",
       "<td>1.3591298</td>\n",
       "<td>0.0725103</td>\n",
       "<td>0.0804161</td>\n",
       "<td>0.2396190</td>\n",
       "<td>0.2337863</td>\n",
       "<td>0.0411279</td>\n",
       "<td>0.9513906</td>\n",
       "<td>-58.8718615</td>\n",
       "<td>35.9129752</td>\n",
       "<td>0.3051982</td></tr>\n",
       "<tr><td>14</td>\n",
       "<td>0.7999993</td>\n",
       "<td>0.0556826</td>\n",
       "<td>0.2985500</td>\n",
       "<td>1.2265579</td>\n",
       "<td>0.0526354</td>\n",
       "<td>0.0634941</td>\n",
       "<td>0.2162462</td>\n",
       "<td>0.2124998</td>\n",
       "<td>0.0298548</td>\n",
       "<td>0.9812454</td>\n",
       "<td>-70.1449968</td>\n",
       "<td>22.6557881</td>\n",
       "<td>0.2200399</td></tr>\n",
       "<tr><td>15</td>\n",
       "<td>0.8999987</td>\n",
       "<td>0.0345033</td>\n",
       "<td>0.1742304</td>\n",
       "<td>1.1096331</td>\n",
       "<td>0.0307174</td>\n",
       "<td>0.0467244</td>\n",
       "<td>0.1956320</td>\n",
       "<td>0.1940804</td>\n",
       "<td>0.0174229</td>\n",
       "<td>0.9986684</td>\n",
       "<td>-82.5769576</td>\n",
       "<td>10.9633074</td>\n",
       "<td>0.1197888</td></tr>\n",
       "<tr><td>16</td>\n",
       "<td>1.0</td>\n",
       "<td>0.0062342</td>\n",
       "<td>0.0133161</td>\n",
       "<td>1.0</td>\n",
       "<td>0.0023477</td>\n",
       "<td>0.0174964</td>\n",
       "<td>0.1763033</td>\n",
       "<td>0.1764218</td>\n",
       "<td>0.0013316</td>\n",
       "<td>1.0</td>\n",
       "<td>-98.6683911</td>\n",
       "<td>0.0</td>\n",
       "<td>0.0</td></tr></tbody>\n",
       "  </table>\n",
       "</div>\n",
       "</div></div>\n",
       "<div style='margin: 1em 0 1em 0;'>\n",
       "<style>\n",
       "\n",
       "#h2o-table-7.h2o-container {\n",
       "  overflow-x: auto;\n",
       "}\n",
       "#h2o-table-7 .h2o-table {\n",
       "  /* width: 100%; */\n",
       "  margin-top: 1em;\n",
       "  margin-bottom: 1em;\n",
       "}\n",
       "#h2o-table-7 .h2o-table caption {\n",
       "  white-space: nowrap;\n",
       "  caption-side: top;\n",
       "  text-align: left;\n",
       "  /* margin-left: 1em; */\n",
       "  margin: 0;\n",
       "  font-size: larger;\n",
       "}\n",
       "#h2o-table-7 .h2o-table thead {\n",
       "  white-space: nowrap; \n",
       "  position: sticky;\n",
       "  top: 0;\n",
       "  box-shadow: 0 -1px inset;\n",
       "}\n",
       "#h2o-table-7 .h2o-table tbody {\n",
       "  overflow: auto;\n",
       "}\n",
       "#h2o-table-7 .h2o-table th,\n",
       "#h2o-table-7 .h2o-table td {\n",
       "  text-align: right;\n",
       "  /* border: 1px solid; */\n",
       "}\n",
       "#h2o-table-7 .h2o-table tr:nth-child(even) {\n",
       "  /* background: #F5F5F5 */\n",
       "}\n",
       "\n",
       "</style>      \n",
       "<div id=\"h2o-table-7\" class=\"h2o-container\">\n",
       "  <table class=\"h2o-table\">\n",
       "    <caption>Scoring History: </caption>\n",
       "    <thead><tr><th></th>\n",
       "<th>timestamp</th>\n",
       "<th>duration</th>\n",
       "<th>number_of_trees</th>\n",
       "<th>training_rmse</th>\n",
       "<th>training_logloss</th>\n",
       "<th>training_auc</th>\n",
       "<th>training_pr_auc</th>\n",
       "<th>training_lift</th>\n",
       "<th>training_classification_error</th></tr></thead>\n",
       "    <tbody><tr><td></td>\n",
       "<td>2023-05-04 10:03:36</td>\n",
       "<td> 0.033 sec</td>\n",
       "<td>0.0</td>\n",
       "<td>0.3810780</td>\n",
       "<td>0.4657414</td>\n",
       "<td>0.5</td>\n",
       "<td>0.1763033</td>\n",
       "<td>1.0</td>\n",
       "<td>0.8236967</td></tr>\n",
       "<tr><td></td>\n",
       "<td>2023-05-04 10:03:38</td>\n",
       "<td> 1.315 sec</td>\n",
       "<td>1.0</td>\n",
       "<td>0.3748033</td>\n",
       "<td>0.4501693</td>\n",
       "<td>0.7773666</td>\n",
       "<td>0.4443694</td>\n",
       "<td>4.1052971</td>\n",
       "<td>0.2221551</td></tr>\n",
       "<tr><td></td>\n",
       "<td>2023-05-04 10:03:38</td>\n",
       "<td> 1.704 sec</td>\n",
       "<td>2.0</td>\n",
       "<td>0.3697560</td>\n",
       "<td>0.4385101</td>\n",
       "<td>0.7812321</td>\n",
       "<td>0.4553619</td>\n",
       "<td>4.4137977</td>\n",
       "<td>0.2418597</td></tr>\n",
       "<tr><td></td>\n",
       "<td>2023-05-04 10:03:38</td>\n",
       "<td> 2.062 sec</td>\n",
       "<td>3.0</td>\n",
       "<td>0.3654331</td>\n",
       "<td>0.4289347</td>\n",
       "<td>0.7840913</td>\n",
       "<td>0.4662178</td>\n",
       "<td>4.4551752</td>\n",
       "<td>0.2458490</td></tr>\n",
       "<tr><td></td>\n",
       "<td>2023-05-04 10:03:39</td>\n",
       "<td> 2.314 sec</td>\n",
       "<td>4.0</td>\n",
       "<td>0.3617959</td>\n",
       "<td>0.4210146</td>\n",
       "<td>0.7869788</td>\n",
       "<td>0.4696087</td>\n",
       "<td>4.4651143</td>\n",
       "<td>0.2161443</td></tr>\n",
       "<tr><td></td>\n",
       "<td>2023-05-04 10:03:39</td>\n",
       "<td> 2.607 sec</td>\n",
       "<td>5.0</td>\n",
       "<td>0.3587472</td>\n",
       "<td>0.4144640</td>\n",
       "<td>0.7888905</td>\n",
       "<td>0.4735798</td>\n",
       "<td>4.4699595</td>\n",
       "<td>0.2204454</td></tr>\n",
       "<tr><td></td>\n",
       "<td>2023-05-04 10:03:39</td>\n",
       "<td> 2.848 sec</td>\n",
       "<td>6.0</td>\n",
       "<td>0.3559870</td>\n",
       "<td>0.4086421</td>\n",
       "<td>0.7904084</td>\n",
       "<td>0.4780822</td>\n",
       "<td>4.5085231</td>\n",
       "<td>0.2192572</td></tr>\n",
       "<tr><td></td>\n",
       "<td>2023-05-04 10:03:39</td>\n",
       "<td> 3.151 sec</td>\n",
       "<td>7.0</td>\n",
       "<td>0.3537793</td>\n",
       "<td>0.4039102</td>\n",
       "<td>0.7919410</td>\n",
       "<td>0.4799519</td>\n",
       "<td>4.5085231</td>\n",
       "<td>0.2202160</td></tr>\n",
       "<tr><td></td>\n",
       "<td>2023-05-04 10:03:40</td>\n",
       "<td> 3.372 sec</td>\n",
       "<td>8.0</td>\n",
       "<td>0.3516807</td>\n",
       "<td>0.3995233</td>\n",
       "<td>0.7935813</td>\n",
       "<td>0.4844461</td>\n",
       "<td>4.5131043</td>\n",
       "<td>0.2026083</td></tr>\n",
       "<tr><td></td>\n",
       "<td>2023-05-04 10:03:40</td>\n",
       "<td> 3.590 sec</td>\n",
       "<td>9.0</td>\n",
       "<td>0.3500444</td>\n",
       "<td>0.3959652</td>\n",
       "<td>0.7951831</td>\n",
       "<td>0.4866410</td>\n",
       "<td>4.5127095</td>\n",
       "<td>0.2250727</td></tr>\n",
       "<tr><td></td>\n",
       "<td>2023-05-04 10:03:40</td>\n",
       "<td> 3.812 sec</td>\n",
       "<td>10.0</td>\n",
       "<td>0.3486049</td>\n",
       "<td>0.3928928</td>\n",
       "<td>0.7960677</td>\n",
       "<td>0.4886270</td>\n",
       "<td>4.4997827</td>\n",
       "<td>0.2210637</td></tr>\n",
       "<tr><td></td>\n",
       "<td>2023-05-04 10:03:40</td>\n",
       "<td> 4.119 sec</td>\n",
       "<td>11.0</td>\n",
       "<td>0.3472422</td>\n",
       "<td>0.3899155</td>\n",
       "<td>0.7974511</td>\n",
       "<td>0.4927564</td>\n",
       "<td>4.6120094</td>\n",
       "<td>0.2233308</td></tr>\n",
       "<tr><td></td>\n",
       "<td>2023-05-04 10:03:44</td>\n",
       "<td> 8.143 sec</td>\n",
       "<td>40.0</td>\n",
       "<td>0.3349485</td>\n",
       "<td>0.3630971</td>\n",
       "<td>0.8149907</td>\n",
       "<td>0.5344234</td>\n",
       "<td>4.9433474</td>\n",
       "<td>0.1916870</td></tr>\n",
       "<tr><td></td>\n",
       "<td>2023-05-04 10:03:46</td>\n",
       "<td> 9.623 sec</td>\n",
       "<td>50.0</td>\n",
       "<td>0.3332628</td>\n",
       "<td>0.3594832</td>\n",
       "<td>0.8187932</td>\n",
       "<td>0.5418354</td>\n",
       "<td>4.9716787</td>\n",
       "<td>0.1889038</td></tr></tbody>\n",
       "  </table>\n",
       "</div>\n",
       "</div>\n",
       "<div style='margin: 1em 0 1em 0;'>\n",
       "<style>\n",
       "\n",
       "#h2o-table-8.h2o-container {\n",
       "  overflow-x: auto;\n",
       "}\n",
       "#h2o-table-8 .h2o-table {\n",
       "  /* width: 100%; */\n",
       "  margin-top: 1em;\n",
       "  margin-bottom: 1em;\n",
       "}\n",
       "#h2o-table-8 .h2o-table caption {\n",
       "  white-space: nowrap;\n",
       "  caption-side: top;\n",
       "  text-align: left;\n",
       "  /* margin-left: 1em; */\n",
       "  margin: 0;\n",
       "  font-size: larger;\n",
       "}\n",
       "#h2o-table-8 .h2o-table thead {\n",
       "  white-space: nowrap; \n",
       "  position: sticky;\n",
       "  top: 0;\n",
       "  box-shadow: 0 -1px inset;\n",
       "}\n",
       "#h2o-table-8 .h2o-table tbody {\n",
       "  overflow: auto;\n",
       "}\n",
       "#h2o-table-8 .h2o-table th,\n",
       "#h2o-table-8 .h2o-table td {\n",
       "  text-align: right;\n",
       "  /* border: 1px solid; */\n",
       "}\n",
       "#h2o-table-8 .h2o-table tr:nth-child(even) {\n",
       "  /* background: #F5F5F5 */\n",
       "}\n",
       "\n",
       "</style>      \n",
       "<div id=\"h2o-table-8\" class=\"h2o-container\">\n",
       "  <table class=\"h2o-table\">\n",
       "    <caption>Variable Importances: </caption>\n",
       "    <thead><tr><th>variable</th>\n",
       "<th>relative_importance</th>\n",
       "<th>scaled_importance</th>\n",
       "<th>percentage</th></tr></thead>\n",
       "    <tbody><tr><td>Bank_trg</td>\n",
       "<td>44742.6914062</td>\n",
       "<td>1.0</td>\n",
       "<td>0.4626047</td></tr>\n",
       "<tr><td>City_trg</td>\n",
       "<td>18026.1015625</td>\n",
       "<td>0.4028837</td>\n",
       "<td>0.1863759</td></tr>\n",
       "<tr><td>UrbanRural</td>\n",
       "<td>8046.4775391</td>\n",
       "<td>0.1798389</td>\n",
       "<td>0.0831943</td></tr>\n",
       "<tr><td>SBA_Appv</td>\n",
       "<td>4433.2294922</td>\n",
       "<td>0.0990828</td>\n",
       "<td>0.0458361</td></tr>\n",
       "<tr><td>RevLineCr_T</td>\n",
       "<td>2628.7624512</td>\n",
       "<td>0.0587529</td>\n",
       "<td>0.0271794</td></tr>\n",
       "<tr><td>RevLineCr_N</td>\n",
       "<td>2622.0249023</td>\n",
       "<td>0.0586023</td>\n",
       "<td>0.0271097</td></tr>\n",
       "<tr><td>diff_loan_amt2</td>\n",
       "<td>2480.9572754</td>\n",
       "<td>0.0554494</td>\n",
       "<td>0.0256512</td></tr>\n",
       "<tr><td>BankState_trg</td>\n",
       "<td>2133.0541992</td>\n",
       "<td>0.0476738</td>\n",
       "<td>0.0220541</td></tr>\n",
       "<tr><td>NAICS</td>\n",
       "<td>1972.2287598</td>\n",
       "<td>0.0440794</td>\n",
       "<td>0.0203913</td></tr>\n",
       "<tr><td>RevLineCr_Y</td>\n",
       "<td>1933.0522461</td>\n",
       "<td>0.0432038</td>\n",
       "<td>0.0199863</td></tr>\n",
       "<tr><td>---</td>\n",
       "<td>---</td>\n",
       "<td>---</td>\n",
       "<td>---</td></tr>\n",
       "<tr><td>State_trg</td>\n",
       "<td>404.8980408</td>\n",
       "<td>0.0090495</td>\n",
       "<td>0.0041863</td></tr>\n",
       "<tr><td>LowDoc_N</td>\n",
       "<td>382.0490417</td>\n",
       "<td>0.0085388</td>\n",
       "<td>0.0039501</td></tr>\n",
       "<tr><td>RetainedJob</td>\n",
       "<td>181.5606232</td>\n",
       "<td>0.0040579</td>\n",
       "<td>0.0018772</td></tr>\n",
       "<tr><td>CreateJob</td>\n",
       "<td>150.6424866</td>\n",
       "<td>0.0033669</td>\n",
       "<td>0.0015575</td></tr>\n",
       "<tr><td>NoEmp</td>\n",
       "<td>113.6556473</td>\n",
       "<td>0.0025402</td>\n",
       "<td>0.0011751</td></tr>\n",
       "<tr><td>total_job</td>\n",
       "<td>52.1843300</td>\n",
       "<td>0.0011663</td>\n",
       "<td>0.0005395</td></tr>\n",
       "<tr><td>FranchiseCode</td>\n",
       "<td>3.4082637</td>\n",
       "<td>0.0000762</td>\n",
       "<td>0.0000352</td></tr>\n",
       "<tr><td>LoanInd</td>\n",
       "<td>2.8831232</td>\n",
       "<td>0.0000644</td>\n",
       "<td>0.0000298</td></tr>\n",
       "<tr><td>BalanceGross</td>\n",
       "<td>0.0</td>\n",
       "<td>0.0</td>\n",
       "<td>0.0</td></tr>\n",
       "<tr><td>LowDoc_Y</td>\n",
       "<td>0.0</td>\n",
       "<td>0.0</td>\n",
       "<td>0.0</td></tr></tbody>\n",
       "  </table>\n",
       "</div>\n",
       "<pre style='font-size: smaller; margin-bottom: 1em;'>[27 rows x 4 columns]</pre></div><pre style=\"font-size: smaller; margin: 1em 0 0 0;\">\n",
       "\n",
       "[tips]\n",
       "Use `model.explain()` to inspect the model.\n",
       "--\n",
       "Use `h2o.display.toggle_user_tips()` to switch on/off this section.</pre>"
      ],
      "text/plain": [
       "Model Details\n",
       "=============\n",
       "H2OGradientBoostingEstimator : Gradient Boosting Machine\n",
       "Model Key: GBM_model_python_1683212234496_1\n",
       "\n",
       "\n",
       "Model Summary: \n",
       "    number_of_trees    number_of_internal_trees    model_size_in_bytes    min_depth    max_depth    mean_depth    min_leaves    max_leaves    mean_leaves\n",
       "--  -----------------  --------------------------  ---------------------  -----------  -----------  ------------  ------------  ------------  -------------\n",
       "    50                 50                          22769                  5            5            5             27            32            31.58\n",
       "\n",
       "ModelMetricsBinomial: gbm\n",
       "** Reported on train data. **\n",
       "\n",
       "MSE: 0.1110640752114234\n",
       "RMSE: 0.3332627720154524\n",
       "LogLoss: 0.3594832288973458\n",
       "Mean Per-Class Error: 0.27500269768747704\n",
       "AUC: 0.8187931772282289\n",
       "AUCPR: 0.5418353881023935\n",
       "Gini: 0.6375863544564577\n",
       "\n",
       "Confusion Matrix (Act/Pred) for max f1 @ threshold = 0.259336580190338\n",
       "       0       1       Error    Rate\n",
       "-----  ------  ------  -------  -------------------\n",
       "0      394347  65270   0.142    (65270.0/459617.0)\n",
       "1      40137   58239   0.408    (40137.0/98376.0)\n",
       "Total  434484  123509  0.1889   (105407.0/557993.0)\n",
       "\n",
       "Maximum Metrics: Maximum metrics at their respective thresholds\n",
       "metric                       threshold    value     idx\n",
       "---------------------------  -----------  --------  -----\n",
       "max f1                       0.259337     0.524948  215\n",
       "max f2                       0.135813     0.626631  293\n",
       "max f0point5                 0.403215     0.543941  143\n",
       "max accuracy                 0.465795     0.850367  119\n",
       "max precision                0.934116     1         0\n",
       "max recall                   0.0106037    1         398\n",
       "max specificity              0.934116     1         0\n",
       "max absolute_mcc             0.296715     0.415829  194\n",
       "max min_per_class_accuracy   0.179867     0.735779  264\n",
       "max mean_per_class_accuracy  0.197893     0.737741  253\n",
       "max tns                      0.934116     459617    0\n",
       "max fns                      0.934116     98353     0\n",
       "max fps                      0.0093       459617    399\n",
       "max tps                      0.0106037    98376     398\n",
       "max tnr                      0.934116     1         0\n",
       "max fnr                      0.934116     0.999766  0\n",
       "max fpr                      0.0093       1         399\n",
       "max tpr                      0.0106037    1         398\n",
       "\n",
       "Gains/Lift Table: Avg response rate: 17.63 %, avg score: 17.64 %\n",
       "group    cumulative_data_fraction    lower_threshold    lift       cumulative_lift    response_rate    score      cumulative_response_rate    cumulative_score    capture_rate    cumulative_capture_rate    gain      cumulative_gain    kolmogorov_smirnov\n",
       "-------  --------------------------  -----------------  ---------  -----------------  ---------------  ---------  --------------------------  ------------------  --------------  -------------------------  --------  -----------------  --------------------\n",
       "1        0.0100001                   0.746365           4.97168    4.97168            0.876523         0.795334   0.876523                    0.795334            0.0497174       0.0497174                  397.168   397.168            0.0482183\n",
       "2        0.0200003                   0.674653           4.48173    4.7267             0.790143         0.709141   0.833333                    0.752238            0.0448178       0.0945353                  348.173   372.67             0.0904884\n",
       "3        0.0300004                   0.625372           4.1351     4.5295             0.729032         0.648681   0.798566                    0.717719            0.0413515       0.135887                   313.51    352.95             0.12855\n",
       "4        0.0400023                   0.585536           3.81016    4.34964            0.671743         0.604674   0.766856                    0.689454            0.0381089       0.173996                   281.016   334.964            0.162673\n",
       "5        0.0500006                   0.552132           3.51465    4.18268            0.619645         0.569515   0.737419                    0.66547             0.0351407       0.209136                   251.465   318.268            0.193197\n",
       "6        0.100001                    0.412167           2.92608    3.55438            0.515878         0.478036   0.626649                    0.571753            0.146306        0.355442                   192.608   255.438            0.310116\n",
       "7        0.150009                    0.330263           2.25426    3.12097            0.397434         0.368574   0.550237                    0.50402             0.112731        0.468173                   125.426   212.097            0.386264\n",
       "8        0.200001                    0.276409           1.81375    2.79422            0.319771         0.301467   0.49263                     0.453391            0.0906725       0.558846                   81.3753   179.422            0.435652\n",
       "9        0.3                         0.204823           1.31791    2.30212            0.232352         0.238472   0.405871                    0.381751            0.13179         0.690636                   31.791    130.212            0.474247\n",
       "10       0.4                         0.15262            0.926552   1.95823            0.163354         0.17764    0.345242                    0.330724            0.0926547       0.783291                   -7.34479  95.8228            0.46533\n",
       "11       0.500003                    0.11406            0.710416   1.70866            0.125249         0.132158   0.301242                    0.29101             0.0710438       0.854334                   -28.9584  70.866             0.430173\n",
       "12       0.6                         0.0896983          0.559296   1.5171             0.0986057        0.101034   0.26747                     0.259348            0.0559283       0.910263                   -44.0704  51.7104            0.376671\n",
       "13       0.7                         0.0716863          0.411281   1.35913            0.0725103        0.0804161  0.239619                    0.233786            0.0411279       0.951391                   -58.8719  35.913             0.305198\n",
       "14       0.799999                    0.0556826          0.29855    1.22656            0.0526354        0.0634941  0.216246                    0.2125              0.0298548       0.981245                   -70.145   22.6558            0.22004\n",
       "15       0.899999                    0.0345033          0.17423    1.10963            0.0307174        0.0467244  0.195632                    0.19408             0.0174229       0.998668                   -82.577   10.9633            0.119789\n",
       "16       1                           0.00623421         0.0133161  1                  0.00234767       0.0174964  0.176303                    0.176422            0.00133163      1                          -98.6684  0                  0\n",
       "\n",
       "Scoring History: \n",
       "    timestamp            duration    number_of_trees    training_rmse    training_logloss    training_auc    training_pr_auc    training_lift    training_classification_error\n",
       "--  -------------------  ----------  -----------------  ---------------  ------------------  --------------  -----------------  ---------------  -------------------------------\n",
       "    2023-05-04 10:03:36  0.033 sec   0                  0.381078         0.465741            0.5             0.176303           1                0.823697\n",
       "    2023-05-04 10:03:38  1.315 sec   1                  0.374803         0.450169            0.777367        0.444369           4.1053           0.222155\n",
       "    2023-05-04 10:03:38  1.704 sec   2                  0.369756         0.43851             0.781232        0.455362           4.4138           0.24186\n",
       "    2023-05-04 10:03:38  2.062 sec   3                  0.365433         0.428935            0.784091        0.466218           4.45518          0.245849\n",
       "    2023-05-04 10:03:39  2.314 sec   4                  0.361796         0.421015            0.786979        0.469609           4.46511          0.216144\n",
       "    2023-05-04 10:03:39  2.607 sec   5                  0.358747         0.414464            0.788891        0.47358            4.46996          0.220445\n",
       "    2023-05-04 10:03:39  2.848 sec   6                  0.355987         0.408642            0.790408        0.478082           4.50852          0.219257\n",
       "    2023-05-04 10:03:39  3.151 sec   7                  0.353779         0.40391             0.791941        0.479952           4.50852          0.220216\n",
       "    2023-05-04 10:03:40  3.372 sec   8                  0.351681         0.399523            0.793581        0.484446           4.5131           0.202608\n",
       "    2023-05-04 10:03:40  3.590 sec   9                  0.350044         0.395965            0.795183        0.486641           4.51271          0.225073\n",
       "    2023-05-04 10:03:40  3.812 sec   10                 0.348605         0.392893            0.796068        0.488627           4.49978          0.221064\n",
       "    2023-05-04 10:03:40  4.119 sec   11                 0.347242         0.389916            0.797451        0.492756           4.61201          0.223331\n",
       "    2023-05-04 10:03:44  8.143 sec   40                 0.334949         0.363097            0.814991        0.534423           4.94335          0.191687\n",
       "    2023-05-04 10:03:46  9.623 sec   50                 0.333263         0.359483            0.818793        0.541835           4.97168          0.188904\n",
       "\n",
       "Variable Importances: \n",
       "variable        relative_importance    scaled_importance      percentage\n",
       "--------------  ---------------------  ---------------------  ----------------------\n",
       "Bank_trg        44742.69140625         1.0                    0.4626046573364195\n",
       "City_trg        18026.1015625          0.40288371119270616    0.1863758811627268\n",
       "UrbanRural      8046.4775390625        0.17983892533426155    0.08319432443000599\n",
       "SBA_Appv        4433.2294921875        0.09908276308045771    0.045836147662780775\n",
       "RevLineCr_T     2628.762451171875      0.05875289055152077    0.02717936080111042\n",
       "RevLineCr_N     2622.02490234375       0.05860230620765664    0.027109699782316928\n",
       "diff_loan_amt2  2480.957275390625      0.055449442074556696   0.02565117015039594\n",
       "BankState_trg   2133.05419921875       0.0476738017356012     0.022054122715822192\n",
       "NAICS           1972.228759765625      0.0440793501190706     0.020391312657444715\n",
       "RevLineCr_Y     1933.05224609375       0.04320375429681297    0.019986257952124022\n",
       "---             ---                    ---                    ---\n",
       "State_trg       404.8980407714844      0.009049478876787576   0.004186331074869483\n",
       "LowDoc_N        382.0490417480469      0.008538803316035641   0.003950090182077749\n",
       "RetainedJob     181.5606231689453      0.004057883365138458   0.001877195743641033\n",
       "CreateJob       150.64248657226562     0.0033668624268593447  0.0015575262392761328\n",
       "NoEmp           113.65564727783203     0.002540205868392525   0.0011751110653116857\n",
       "total_job       52.184329986572266     0.0011663207631555834  0.0005395454169839399\n",
       "FranchiseCode   3.408263683319092      7.617475784755764e-05  3.523879775175413e-05\n",
       "LoanInd         2.8831231594085693     6.443785719617735e-05  2.9809252847730758e-05\n",
       "BalanceGross    0.0                    0.0                    0.0\n",
       "LowDoc_Y        0.0                    0.0                    0.0\n",
       "[27 rows x 4 columns]\n",
       "\n",
       "\n",
       "[tips]\n",
       "Use `model.explain()` to inspect the model.\n",
       "--\n",
       "Use `h2o.display.toggle_user_tips()` to switch on/off this section."
      ]
     },
     "execution_count": 47,
     "metadata": {},
     "output_type": "execute_result"
    }
   ],
   "source": [
    "from h2o.estimators.gbm import H2OGradientBoostingEstimator\n",
    "predictors_gbm = h2o_train.columns\n",
    "predictors_gbm.remove('MIS_Status')\n",
    "response=\"MIS_Status\"\n",
    "from h2o.estimators import H2OGradientBoostingEstimator\n",
    "\n",
    "gbm_model = H2OGradientBoostingEstimator()\n",
    "\n",
    "gbm_model.train(x=predictors_gbm, y=response, training_frame=h2o_train)"
   ]
  },
  {
   "cell_type": "markdown",
   "id": "326fe479",
   "metadata": {},
   "source": [
    "perf_train = gbm_model.model_performance(h2o_train)\n",
    "perf_test = gbm_model.model_performance(h2o_test)"
   ]
  },
  {
   "cell_type": "code",
   "execution_count": 50,
   "id": "77990198",
   "metadata": {},
   "outputs": [
    {
     "name": "stdout",
     "output_type": "stream",
     "text": [
      "0.8187940287213148\n",
      "0.7841465506660106\n"
     ]
    }
   ],
   "source": [
    "perf_train = gbm_model.model_performance(h2o_train)\n",
    "perf_test = gbm_model.model_performance(h2o_test)\n",
    "print(perf_train.auc())\n",
    "print(perf_test.auc())"
   ]
  },
  {
   "cell_type": "code",
   "execution_count": 51,
   "id": "19cc7d55",
   "metadata": {},
   "outputs": [
    {
     "name": "stdout",
     "output_type": "stream",
     "text": [
      "gbm Grid Build progress: |███████████████████████████████████████████████████████| (done) 100%\n"
     ]
    },
    {
     "data": {
      "text/html": [
       "\n",
       "<style>\n",
       "\n",
       "#h2o-table-9.h2o-container {\n",
       "  overflow-x: auto;\n",
       "}\n",
       "#h2o-table-9 .h2o-table {\n",
       "  /* width: 100%; */\n",
       "  margin-top: 1em;\n",
       "  margin-bottom: 1em;\n",
       "}\n",
       "#h2o-table-9 .h2o-table caption {\n",
       "  white-space: nowrap;\n",
       "  caption-side: top;\n",
       "  text-align: left;\n",
       "  /* margin-left: 1em; */\n",
       "  margin: 0;\n",
       "  font-size: larger;\n",
       "}\n",
       "#h2o-table-9 .h2o-table thead {\n",
       "  white-space: nowrap; \n",
       "  position: sticky;\n",
       "  top: 0;\n",
       "  box-shadow: 0 -1px inset;\n",
       "}\n",
       "#h2o-table-9 .h2o-table tbody {\n",
       "  overflow: auto;\n",
       "}\n",
       "#h2o-table-9 .h2o-table th,\n",
       "#h2o-table-9 .h2o-table td {\n",
       "  text-align: right;\n",
       "  /* border: 1px solid; */\n",
       "}\n",
       "#h2o-table-9 .h2o-table tr:nth-child(even) {\n",
       "  /* background: #F5F5F5 */\n",
       "}\n",
       "\n",
       "</style>      \n",
       "<div id=\"h2o-table-9\" class=\"h2o-container\">\n",
       "  <table class=\"h2o-table\">\n",
       "    <caption>Hyper-Parameter Search Summary: ordered by increasing logloss</caption>\n",
       "    <thead><tr><th></th>\n",
       "<th>col_sample_rate</th>\n",
       "<th>learn_rate</th>\n",
       "<th>max_depth</th>\n",
       "<th>sample_rate</th>\n",
       "<th>model_ids</th>\n",
       "<th>logloss</th></tr></thead>\n",
       "    <tbody><tr><td></td>\n",
       "<td>0.9</td>\n",
       "<td>0.09</td>\n",
       "<td>9.0</td>\n",
       "<td>0.6000000</td>\n",
       "<td>gbm_grid_model_3</td>\n",
       "<td>0.3222433</td></tr>\n",
       "<tr><td></td>\n",
       "<td>0.5</td>\n",
       "<td>0.1</td>\n",
       "<td>9.0</td>\n",
       "<td>1.0</td>\n",
       "<td>gbm_grid_model_7</td>\n",
       "<td>0.3250331</td></tr>\n",
       "<tr><td></td>\n",
       "<td>0.8</td>\n",
       "<td>0.06</td>\n",
       "<td>9.0</td>\n",
       "<td>0.6000000</td>\n",
       "<td>gbm_grid_model_30</td>\n",
       "<td>0.3295852</td></tr>\n",
       "<tr><td></td>\n",
       "<td>0.9</td>\n",
       "<td>0.09</td>\n",
       "<td>8.0</td>\n",
       "<td>0.9</td>\n",
       "<td>gbm_grid_model_36</td>\n",
       "<td>0.3307668</td></tr>\n",
       "<tr><td></td>\n",
       "<td>0.9</td>\n",
       "<td>0.03</td>\n",
       "<td>10.0</td>\n",
       "<td>0.5</td>\n",
       "<td>gbm_grid_model_21</td>\n",
       "<td>0.3361264</td></tr>\n",
       "<tr><td></td>\n",
       "<td>0.8</td>\n",
       "<td>0.03</td>\n",
       "<td>9.0</td>\n",
       "<td>0.9</td>\n",
       "<td>gbm_grid_model_8</td>\n",
       "<td>0.3434098</td></tr>\n",
       "<tr><td></td>\n",
       "<td>0.5</td>\n",
       "<td>0.05</td>\n",
       "<td>7.0</td>\n",
       "<td>0.9</td>\n",
       "<td>gbm_grid_model_2</td>\n",
       "<td>0.3495234</td></tr>\n",
       "<tr><td></td>\n",
       "<td>0.4</td>\n",
       "<td>0.08</td>\n",
       "<td>6.0</td>\n",
       "<td>0.9</td>\n",
       "<td>gbm_grid_model_28</td>\n",
       "<td>0.3496663</td></tr>\n",
       "<tr><td></td>\n",
       "<td>0.3000000</td>\n",
       "<td>0.03</td>\n",
       "<td>8.0</td>\n",
       "<td>1.0</td>\n",
       "<td>gbm_grid_model_5</td>\n",
       "<td>0.3551961</td></tr>\n",
       "<tr><td></td>\n",
       "<td>0.7000000</td>\n",
       "<td>0.06</td>\n",
       "<td>5.0</td>\n",
       "<td>0.6000000</td>\n",
       "<td>gbm_grid_model_14</td>\n",
       "<td>0.3578560</td></tr>\n",
       "<tr><td>---</td>\n",
       "<td>---</td>\n",
       "<td>---</td>\n",
       "<td>---</td>\n",
       "<td>---</td>\n",
       "<td>---</td>\n",
       "<td>---</td></tr>\n",
       "<tr><td></td>\n",
       "<td>0.1</td>\n",
       "<td>0.02</td>\n",
       "<td>9.0</td>\n",
       "<td>0.8</td>\n",
       "<td>gbm_grid_model_16</td>\n",
       "<td>0.3779733</td></tr>\n",
       "<tr><td></td>\n",
       "<td>0.1</td>\n",
       "<td>0.08</td>\n",
       "<td>3.0</td>\n",
       "<td>0.8</td>\n",
       "<td>gbm_grid_model_13</td>\n",
       "<td>0.3790148</td></tr>\n",
       "<tr><td></td>\n",
       "<td>0.7000000</td>\n",
       "<td>0.07</td>\n",
       "<td>2.0</td>\n",
       "<td>0.6000000</td>\n",
       "<td>gbm_grid_model_32</td>\n",
       "<td>0.3791129</td></tr>\n",
       "<tr><td></td>\n",
       "<td>0.5</td>\n",
       "<td>0.05</td>\n",
       "<td>2.0</td>\n",
       "<td>0.8</td>\n",
       "<td>gbm_grid_model_27</td>\n",
       "<td>0.3834678</td></tr>\n",
       "<tr><td></td>\n",
       "<td>0.8</td>\n",
       "<td>0.04</td>\n",
       "<td>2.0</td>\n",
       "<td>0.9</td>\n",
       "<td>gbm_grid_model_4</td>\n",
       "<td>0.3860950</td></tr>\n",
       "<tr><td></td>\n",
       "<td>0.5</td>\n",
       "<td>0.03</td>\n",
       "<td>2.0</td>\n",
       "<td>0.6000000</td>\n",
       "<td>gbm_grid_model_26</td>\n",
       "<td>0.3910101</td></tr>\n",
       "<tr><td></td>\n",
       "<td>0.5</td>\n",
       "<td>0.02</td>\n",
       "<td>2.0</td>\n",
       "<td>0.9</td>\n",
       "<td>gbm_grid_model_35</td>\n",
       "<td>0.3995068</td></tr>\n",
       "<tr><td></td>\n",
       "<td>0.3000000</td>\n",
       "<td>0.02</td>\n",
       "<td>2.0</td>\n",
       "<td>1.0</td>\n",
       "<td>gbm_grid_model_20</td>\n",
       "<td>0.4013035</td></tr>\n",
       "<tr><td></td>\n",
       "<td>1.0</td>\n",
       "<td>0.01</td>\n",
       "<td>2.0</td>\n",
       "<td>0.7000000</td>\n",
       "<td>gbm_grid_model_10</td>\n",
       "<td>0.4159325</td></tr>\n",
       "<tr><td></td>\n",
       "<td>1.0</td>\n",
       "<td>0.01</td>\n",
       "<td>2.0</td>\n",
       "<td>0.5</td>\n",
       "<td>gbm_grid_model_23</td>\n",
       "<td>0.4159440</td></tr></tbody>\n",
       "  </table>\n",
       "</div>\n",
       "<pre style='font-size: smaller; margin-bottom: 1em;'>[36 rows x 7 columns]</pre>"
      ],
      "text/plain": [
       "Hyper-Parameter Search Summary: ordered by increasing logloss\n",
       "     col_sample_rate      learn_rate    max_depth    sample_rate         model_ids          logloss\n",
       "---  -------------------  ------------  -----------  ------------------  -----------------  -------------------\n",
       "     0.9                  0.09          9.0          0.6000000000000001  gbm_grid_model_3   0.3222432595617704\n",
       "     0.5                  0.1           9.0          1.0                 gbm_grid_model_7   0.3250331404061305\n",
       "     0.8                  0.06          9.0          0.6000000000000001  gbm_grid_model_30  0.3295851684140851\n",
       "     0.9                  0.09          8.0          0.9                 gbm_grid_model_36  0.33076684482371604\n",
       "     0.9                  0.03          10.0         0.5                 gbm_grid_model_21  0.3361264355052391\n",
       "     0.8                  0.03          9.0          0.9                 gbm_grid_model_8   0.3434098116280286\n",
       "     0.5                  0.05          7.0          0.9                 gbm_grid_model_2   0.3495233718378732\n",
       "     0.4                  0.08          6.0          0.9                 gbm_grid_model_28  0.34966630703013296\n",
       "     0.30000000000000004  0.03          8.0          1.0                 gbm_grid_model_5   0.35519606613198085\n",
       "     0.7000000000000001   0.06          5.0          0.6000000000000001  gbm_grid_model_14  0.3578559823838917\n",
       "---  ---                  ---           ---          ---                 ---                ---\n",
       "     0.1                  0.02          9.0          0.8                 gbm_grid_model_16  0.3779733409839782\n",
       "     0.1                  0.08          3.0          0.8                 gbm_grid_model_13  0.3790148286778841\n",
       "     0.7000000000000001   0.07          2.0          0.6000000000000001  gbm_grid_model_32  0.379112946003689\n",
       "     0.5                  0.05          2.0          0.8                 gbm_grid_model_27  0.38346779484604865\n",
       "     0.8                  0.04          2.0          0.9                 gbm_grid_model_4   0.38609503406292695\n",
       "     0.5                  0.03          2.0          0.6000000000000001  gbm_grid_model_26  0.3910100584962971\n",
       "     0.5                  0.02          2.0          0.9                 gbm_grid_model_35  0.39950678349470037\n",
       "     0.30000000000000004  0.02          2.0          1.0                 gbm_grid_model_20  0.4013034982769252\n",
       "     1.0                  0.01          2.0          0.7000000000000001  gbm_grid_model_10  0.41593248034330227\n",
       "     1.0                  0.01          2.0          0.5                 gbm_grid_model_23  0.4159440245735741\n",
       "[36 rows x 7 columns]\n"
      ]
     },
     "execution_count": 51,
     "metadata": {},
     "output_type": "execute_result"
    }
   ],
   "source": [
    "#lets tune the hyperparameters\n",
    "from h2o.grid.grid_search import H2OGridSearch\n",
    "# GBM hyperparameters\n",
    "gbm_params = {'learn_rate': [i * 0.01 for i in range(1, 11)],\n",
    "                'max_depth': list(range(2, 11)),\n",
    "                'sample_rate': [i * 0.1 for i in range(5, 11)],\n",
    "                'col_sample_rate': [i * 0.1 for i in range(1, 11)]}\n",
    "\n",
    "# Search criteria\n",
    "search_criteria = {'strategy': 'RandomDiscrete', 'max_models': 36, 'seed': 1}\n",
    "\n",
    "# Train and validate a random grid of GBMs\n",
    "gbm_grid = H2OGridSearch(model=H2OGradientBoostingEstimator,\n",
    "                          grid_id='gbm_grid',\n",
    "                          hyper_params=gbm_params,\n",
    "                          search_criteria=search_criteria)\n",
    "gbm_grid.train (x=predictors_gbm, \n",
    "                y=response,\n",
    "                training_frame=h2o_train,\n",
    "                ntrees=100,\n",
    "                seed=1)\n",
    "\n"
   ]
  },
  {
   "cell_type": "code",
   "execution_count": 52,
   "id": "3561b083",
   "metadata": {},
   "outputs": [
    {
     "data": {
      "text/html": [
       "\n",
       "<style>\n",
       "\n",
       "#h2o-table-10.h2o-container {\n",
       "  overflow-x: auto;\n",
       "}\n",
       "#h2o-table-10 .h2o-table {\n",
       "  /* width: 100%; */\n",
       "  margin-top: 1em;\n",
       "  margin-bottom: 1em;\n",
       "}\n",
       "#h2o-table-10 .h2o-table caption {\n",
       "  white-space: nowrap;\n",
       "  caption-side: top;\n",
       "  text-align: left;\n",
       "  /* margin-left: 1em; */\n",
       "  margin: 0;\n",
       "  font-size: larger;\n",
       "}\n",
       "#h2o-table-10 .h2o-table thead {\n",
       "  white-space: nowrap; \n",
       "  position: sticky;\n",
       "  top: 0;\n",
       "  box-shadow: 0 -1px inset;\n",
       "}\n",
       "#h2o-table-10 .h2o-table tbody {\n",
       "  overflow: auto;\n",
       "}\n",
       "#h2o-table-10 .h2o-table th,\n",
       "#h2o-table-10 .h2o-table td {\n",
       "  text-align: right;\n",
       "  /* border: 1px solid; */\n",
       "}\n",
       "#h2o-table-10 .h2o-table tr:nth-child(even) {\n",
       "  /* background: #F5F5F5 */\n",
       "}\n",
       "\n",
       "</style>      \n",
       "<div id=\"h2o-table-10\" class=\"h2o-container\">\n",
       "  <table class=\"h2o-table\">\n",
       "    <caption>Hyper-Parameter Search Summary: ordered by decreasing auc</caption>\n",
       "    <thead><tr><th></th>\n",
       "<th>col_sample_rate</th>\n",
       "<th>learn_rate</th>\n",
       "<th>max_depth</th>\n",
       "<th>sample_rate</th>\n",
       "<th>model_ids</th>\n",
       "<th>auc</th></tr></thead>\n",
       "    <tbody><tr><td></td>\n",
       "<td>0.9</td>\n",
       "<td>0.09</td>\n",
       "<td>9.0</td>\n",
       "<td>0.6000000</td>\n",
       "<td>gbm_grid_model_3</td>\n",
       "<td>0.8635869</td></tr>\n",
       "<tr><td></td>\n",
       "<td>0.5</td>\n",
       "<td>0.1</td>\n",
       "<td>9.0</td>\n",
       "<td>1.0</td>\n",
       "<td>gbm_grid_model_7</td>\n",
       "<td>0.8609158</td></tr>\n",
       "<tr><td></td>\n",
       "<td>0.8</td>\n",
       "<td>0.06</td>\n",
       "<td>9.0</td>\n",
       "<td>0.6000000</td>\n",
       "<td>gbm_grid_model_30</td>\n",
       "<td>0.8562072</td></tr>\n",
       "<tr><td></td>\n",
       "<td>0.9</td>\n",
       "<td>0.09</td>\n",
       "<td>8.0</td>\n",
       "<td>0.9</td>\n",
       "<td>gbm_grid_model_36</td>\n",
       "<td>0.8534359</td></tr>\n",
       "<tr><td></td>\n",
       "<td>0.9</td>\n",
       "<td>0.03</td>\n",
       "<td>10.0</td>\n",
       "<td>0.5</td>\n",
       "<td>gbm_grid_model_21</td>\n",
       "<td>0.8528479</td></tr>\n",
       "<tr><td></td>\n",
       "<td>0.8</td>\n",
       "<td>0.03</td>\n",
       "<td>9.0</td>\n",
       "<td>0.9</td>\n",
       "<td>gbm_grid_model_8</td>\n",
       "<td>0.8426973</td></tr>\n",
       "<tr><td></td>\n",
       "<td>0.5</td>\n",
       "<td>0.01</td>\n",
       "<td>10.0</td>\n",
       "<td>1.0</td>\n",
       "<td>gbm_grid_model_24</td>\n",
       "<td>0.8338071</td></tr>\n",
       "<tr><td></td>\n",
       "<td>0.2</td>\n",
       "<td>0.02</td>\n",
       "<td>10.0</td>\n",
       "<td>0.5</td>\n",
       "<td>gbm_grid_model_25</td>\n",
       "<td>0.8328042</td></tr>\n",
       "<tr><td></td>\n",
       "<td>0.5</td>\n",
       "<td>0.05</td>\n",
       "<td>7.0</td>\n",
       "<td>0.9</td>\n",
       "<td>gbm_grid_model_2</td>\n",
       "<td>0.8315530</td></tr>\n",
       "<tr><td></td>\n",
       "<td>0.4</td>\n",
       "<td>0.08</td>\n",
       "<td>6.0</td>\n",
       "<td>0.9</td>\n",
       "<td>gbm_grid_model_28</td>\n",
       "<td>0.8303656</td></tr>\n",
       "<tr><td>---</td>\n",
       "<td>---</td>\n",
       "<td>---</td>\n",
       "<td>---</td>\n",
       "<td>---</td>\n",
       "<td>---</td>\n",
       "<td>---</td></tr>\n",
       "<tr><td></td>\n",
       "<td>0.6000000</td>\n",
       "<td>0.09</td>\n",
       "<td>2.0</td>\n",
       "<td>0.8</td>\n",
       "<td>gbm_grid_model_19</td>\n",
       "<td>0.7970314</td></tr>\n",
       "<tr><td></td>\n",
       "<td>0.1</td>\n",
       "<td>0.08</td>\n",
       "<td>3.0</td>\n",
       "<td>0.8</td>\n",
       "<td>gbm_grid_model_13</td>\n",
       "<td>0.7940571</td></tr>\n",
       "<tr><td></td>\n",
       "<td>0.7000000</td>\n",
       "<td>0.07</td>\n",
       "<td>2.0</td>\n",
       "<td>0.6000000</td>\n",
       "<td>gbm_grid_model_32</td>\n",
       "<td>0.7934478</td></tr>\n",
       "<tr><td></td>\n",
       "<td>0.5</td>\n",
       "<td>0.05</td>\n",
       "<td>2.0</td>\n",
       "<td>0.8</td>\n",
       "<td>gbm_grid_model_27</td>\n",
       "<td>0.7891641</td></tr>\n",
       "<tr><td></td>\n",
       "<td>0.8</td>\n",
       "<td>0.04</td>\n",
       "<td>2.0</td>\n",
       "<td>0.9</td>\n",
       "<td>gbm_grid_model_4</td>\n",
       "<td>0.7865844</td></tr>\n",
       "<tr><td></td>\n",
       "<td>0.5</td>\n",
       "<td>0.03</td>\n",
       "<td>2.0</td>\n",
       "<td>0.6000000</td>\n",
       "<td>gbm_grid_model_26</td>\n",
       "<td>0.7839926</td></tr>\n",
       "<tr><td></td>\n",
       "<td>0.5</td>\n",
       "<td>0.02</td>\n",
       "<td>2.0</td>\n",
       "<td>0.9</td>\n",
       "<td>gbm_grid_model_35</td>\n",
       "<td>0.7790997</td></tr>\n",
       "<tr><td></td>\n",
       "<td>0.3000000</td>\n",
       "<td>0.02</td>\n",
       "<td>2.0</td>\n",
       "<td>1.0</td>\n",
       "<td>gbm_grid_model_20</td>\n",
       "<td>0.7776813</td></tr>\n",
       "<tr><td></td>\n",
       "<td>1.0</td>\n",
       "<td>0.01</td>\n",
       "<td>2.0</td>\n",
       "<td>0.7000000</td>\n",
       "<td>gbm_grid_model_10</td>\n",
       "<td>0.7707540</td></tr>\n",
       "<tr><td></td>\n",
       "<td>1.0</td>\n",
       "<td>0.01</td>\n",
       "<td>2.0</td>\n",
       "<td>0.5</td>\n",
       "<td>gbm_grid_model_23</td>\n",
       "<td>0.7701461</td></tr></tbody>\n",
       "  </table>\n",
       "</div>\n",
       "<pre style='font-size: smaller; margin-bottom: 1em;'>[36 rows x 7 columns]</pre>"
      ],
      "text/plain": [
       "Hyper-Parameter Search Summary: ordered by decreasing auc\n",
       "     col_sample_rate      learn_rate    max_depth    sample_rate         model_ids          auc\n",
       "---  -------------------  ------------  -----------  ------------------  -----------------  ------------------\n",
       "     0.9                  0.09          9.0          0.6000000000000001  gbm_grid_model_3   0.8635869347095678\n",
       "     0.5                  0.1           9.0          1.0                 gbm_grid_model_7   0.8609158086283157\n",
       "     0.8                  0.06          9.0          0.6000000000000001  gbm_grid_model_30  0.8562072196265338\n",
       "     0.9                  0.09          8.0          0.9                 gbm_grid_model_36  0.8534358717330898\n",
       "     0.9                  0.03          10.0         0.5                 gbm_grid_model_21  0.8528478820572829\n",
       "     0.8                  0.03          9.0          0.9                 gbm_grid_model_8   0.8426973393805568\n",
       "     0.5                  0.01          10.0         1.0                 gbm_grid_model_24  0.8338071022684422\n",
       "     0.2                  0.02          10.0         0.5                 gbm_grid_model_25  0.8328041832772919\n",
       "     0.5                  0.05          7.0          0.9                 gbm_grid_model_2   0.8315529601176086\n",
       "     0.4                  0.08          6.0          0.9                 gbm_grid_model_28  0.8303655899269394\n",
       "---  ---                  ---           ---          ---                 ---                ---\n",
       "     0.6000000000000001   0.09          2.0          0.8                 gbm_grid_model_19  0.7970313621924607\n",
       "     0.1                  0.08          3.0          0.8                 gbm_grid_model_13  0.7940570842365299\n",
       "     0.7000000000000001   0.07          2.0          0.6000000000000001  gbm_grid_model_32  0.7934478361729024\n",
       "     0.5                  0.05          2.0          0.8                 gbm_grid_model_27  0.7891640839553608\n",
       "     0.8                  0.04          2.0          0.9                 gbm_grid_model_4   0.7865844409373068\n",
       "     0.5                  0.03          2.0          0.6000000000000001  gbm_grid_model_26  0.7839926054706888\n",
       "     0.5                  0.02          2.0          0.9                 gbm_grid_model_35  0.7790997297381181\n",
       "     0.30000000000000004  0.02          2.0          1.0                 gbm_grid_model_20  0.7776812794117142\n",
       "     1.0                  0.01          2.0          0.7000000000000001  gbm_grid_model_10  0.7707539834577617\n",
       "     1.0                  0.01          2.0          0.5                 gbm_grid_model_23  0.7701461066782945\n",
       "[36 rows x 7 columns]\n"
      ]
     },
     "execution_count": 52,
     "metadata": {},
     "output_type": "execute_result"
    }
   ],
   "source": [
    "# Get the grid results, sorted by validation AUC\n",
    "gbm_gridperf = gbm_grid.get_grid(sort_by='auc', decreasing=True)\n",
    "gbm_gridperf"
   ]
  },
  {
   "cell_type": "code",
   "execution_count": 53,
   "id": "e7375c34",
   "metadata": {},
   "outputs": [
    {
     "data": {
      "text/html": [
       "<pre style='margin: 1em 0 1em 0;'>Model Details\n",
       "=============\n",
       "H2OGradientBoostingEstimator : Gradient Boosting Machine\n",
       "Model Key: gbm_grid_model_3\n",
       "</pre>\n",
       "<div style='margin: 1em 0 1em 0;'>\n",
       "<style>\n",
       "\n",
       "#h2o-table-11.h2o-container {\n",
       "  overflow-x: auto;\n",
       "}\n",
       "#h2o-table-11 .h2o-table {\n",
       "  /* width: 100%; */\n",
       "  margin-top: 1em;\n",
       "  margin-bottom: 1em;\n",
       "}\n",
       "#h2o-table-11 .h2o-table caption {\n",
       "  white-space: nowrap;\n",
       "  caption-side: top;\n",
       "  text-align: left;\n",
       "  /* margin-left: 1em; */\n",
       "  margin: 0;\n",
       "  font-size: larger;\n",
       "}\n",
       "#h2o-table-11 .h2o-table thead {\n",
       "  white-space: nowrap; \n",
       "  position: sticky;\n",
       "  top: 0;\n",
       "  box-shadow: 0 -1px inset;\n",
       "}\n",
       "#h2o-table-11 .h2o-table tbody {\n",
       "  overflow: auto;\n",
       "}\n",
       "#h2o-table-11 .h2o-table th,\n",
       "#h2o-table-11 .h2o-table td {\n",
       "  text-align: right;\n",
       "  /* border: 1px solid; */\n",
       "}\n",
       "#h2o-table-11 .h2o-table tr:nth-child(even) {\n",
       "  /* background: #F5F5F5 */\n",
       "}\n",
       "\n",
       "</style>      \n",
       "<div id=\"h2o-table-11\" class=\"h2o-container\">\n",
       "  <table class=\"h2o-table\">\n",
       "    <caption>Model Summary: </caption>\n",
       "    <thead><tr><th></th>\n",
       "<th>number_of_trees</th>\n",
       "<th>number_of_internal_trees</th>\n",
       "<th>model_size_in_bytes</th>\n",
       "<th>min_depth</th>\n",
       "<th>max_depth</th>\n",
       "<th>mean_depth</th>\n",
       "<th>min_leaves</th>\n",
       "<th>max_leaves</th>\n",
       "<th>mean_leaves</th></tr></thead>\n",
       "    <tbody><tr><td></td>\n",
       "<td>100.0</td>\n",
       "<td>100.0</td>\n",
       "<td>379746.0</td>\n",
       "<td>0.0</td>\n",
       "<td>9.0</td>\n",
       "<td>8.1</td>\n",
       "<td>1.0</td>\n",
       "<td>455.0</td>\n",
       "<td>297.81</td></tr></tbody>\n",
       "  </table>\n",
       "</div>\n",
       "</div>\n",
       "<div style='margin: 1em 0 1em 0;'><pre style='margin: 1em 0 1em 0;'>ModelMetricsBinomial: gbm\n",
       "** Reported on train data. **\n",
       "\n",
       "MSE: 0.09908962121797446\n",
       "RMSE: 0.3147850396984813\n",
       "LogLoss: 0.3222432595617704\n",
       "Mean Per-Class Error: 0.24004175274015396\n",
       "AUC: 0.8635869347095678\n",
       "AUCPR: 0.6312750287960522\n",
       "Gini: 0.7271738694191356</pre>\n",
       "<div style='margin: 1em 0 1em 0;'>\n",
       "<style>\n",
       "\n",
       "#h2o-table-12.h2o-container {\n",
       "  overflow-x: auto;\n",
       "}\n",
       "#h2o-table-12 .h2o-table {\n",
       "  /* width: 100%; */\n",
       "  margin-top: 1em;\n",
       "  margin-bottom: 1em;\n",
       "}\n",
       "#h2o-table-12 .h2o-table caption {\n",
       "  white-space: nowrap;\n",
       "  caption-side: top;\n",
       "  text-align: left;\n",
       "  /* margin-left: 1em; */\n",
       "  margin: 0;\n",
       "  font-size: larger;\n",
       "}\n",
       "#h2o-table-12 .h2o-table thead {\n",
       "  white-space: nowrap; \n",
       "  position: sticky;\n",
       "  top: 0;\n",
       "  box-shadow: 0 -1px inset;\n",
       "}\n",
       "#h2o-table-12 .h2o-table tbody {\n",
       "  overflow: auto;\n",
       "}\n",
       "#h2o-table-12 .h2o-table th,\n",
       "#h2o-table-12 .h2o-table td {\n",
       "  text-align: right;\n",
       "  /* border: 1px solid; */\n",
       "}\n",
       "#h2o-table-12 .h2o-table tr:nth-child(even) {\n",
       "  /* background: #F5F5F5 */\n",
       "}\n",
       "\n",
       "</style>      \n",
       "<div id=\"h2o-table-12\" class=\"h2o-container\">\n",
       "  <table class=\"h2o-table\">\n",
       "    <caption>Confusion Matrix (Act/Pred) for max f1 @ threshold = 0.27601116404299075</caption>\n",
       "    <thead><tr><th></th>\n",
       "<th>0</th>\n",
       "<th>1</th>\n",
       "<th>Error</th>\n",
       "<th>Rate</th></tr></thead>\n",
       "    <tbody><tr><td>0</td>\n",
       "<td>405960.0</td>\n",
       "<td>53657.0</td>\n",
       "<td>0.1167</td>\n",
       "<td> (53657.0/459617.0)</td></tr>\n",
       "<tr><td>1</td>\n",
       "<td>35744.0</td>\n",
       "<td>62632.0</td>\n",
       "<td>0.3633</td>\n",
       "<td> (35744.0/98376.0)</td></tr>\n",
       "<tr><td>Total</td>\n",
       "<td>441704.0</td>\n",
       "<td>116289.0</td>\n",
       "<td>0.1602</td>\n",
       "<td> (89401.0/557993.0)</td></tr></tbody>\n",
       "  </table>\n",
       "</div>\n",
       "</div>\n",
       "<div style='margin: 1em 0 1em 0;'>\n",
       "<style>\n",
       "\n",
       "#h2o-table-13.h2o-container {\n",
       "  overflow-x: auto;\n",
       "}\n",
       "#h2o-table-13 .h2o-table {\n",
       "  /* width: 100%; */\n",
       "  margin-top: 1em;\n",
       "  margin-bottom: 1em;\n",
       "}\n",
       "#h2o-table-13 .h2o-table caption {\n",
       "  white-space: nowrap;\n",
       "  caption-side: top;\n",
       "  text-align: left;\n",
       "  /* margin-left: 1em; */\n",
       "  margin: 0;\n",
       "  font-size: larger;\n",
       "}\n",
       "#h2o-table-13 .h2o-table thead {\n",
       "  white-space: nowrap; \n",
       "  position: sticky;\n",
       "  top: 0;\n",
       "  box-shadow: 0 -1px inset;\n",
       "}\n",
       "#h2o-table-13 .h2o-table tbody {\n",
       "  overflow: auto;\n",
       "}\n",
       "#h2o-table-13 .h2o-table th,\n",
       "#h2o-table-13 .h2o-table td {\n",
       "  text-align: right;\n",
       "  /* border: 1px solid; */\n",
       "}\n",
       "#h2o-table-13 .h2o-table tr:nth-child(even) {\n",
       "  /* background: #F5F5F5 */\n",
       "}\n",
       "\n",
       "</style>      \n",
       "<div id=\"h2o-table-13\" class=\"h2o-container\">\n",
       "  <table class=\"h2o-table\">\n",
       "    <caption>Maximum Metrics: Maximum metrics at their respective thresholds</caption>\n",
       "    <thead><tr><th>metric</th>\n",
       "<th>threshold</th>\n",
       "<th>value</th>\n",
       "<th>idx</th></tr></thead>\n",
       "    <tbody><tr><td>max f1</td>\n",
       "<td>0.2760112</td>\n",
       "<td>0.5835325</td>\n",
       "<td>217.0</td></tr>\n",
       "<tr><td>max f2</td>\n",
       "<td>0.1427667</td>\n",
       "<td>0.6753929</td>\n",
       "<td>290.0</td></tr>\n",
       "<tr><td>max f0point5</td>\n",
       "<td>0.4472181</td>\n",
       "<td>0.6124523</td>\n",
       "<td>147.0</td></tr>\n",
       "<tr><td>max accuracy</td>\n",
       "<td>0.4703356</td>\n",
       "<td>0.8648352</td>\n",
       "<td>138.0</td></tr>\n",
       "<tr><td>max precision</td>\n",
       "<td>0.9834074</td>\n",
       "<td>1.0</td>\n",
       "<td>0.0</td></tr>\n",
       "<tr><td>max recall</td>\n",
       "<td>0.0023348</td>\n",
       "<td>1.0</td>\n",
       "<td>398.0</td></tr>\n",
       "<tr><td>max specificity</td>\n",
       "<td>0.9834074</td>\n",
       "<td>1.0</td>\n",
       "<td>0.0</td></tr>\n",
       "<tr><td>max absolute_mcc</td>\n",
       "<td>0.3100719</td>\n",
       "<td>0.4903528</td>\n",
       "<td>201.0</td></tr>\n",
       "<tr><td>max min_per_class_accuracy</td>\n",
       "<td>0.1800597</td>\n",
       "<td>0.7777715</td>\n",
       "<td>266.0</td></tr>\n",
       "<tr><td>max mean_per_class_accuracy</td>\n",
       "<td>0.1781881</td>\n",
       "<td>0.7783148</td>\n",
       "<td>267.0</td></tr>\n",
       "<tr><td>max tns</td>\n",
       "<td>0.9834074</td>\n",
       "<td>459617.0</td>\n",
       "<td>0.0</td></tr>\n",
       "<tr><td>max fns</td>\n",
       "<td>0.9834074</td>\n",
       "<td>98336.0</td>\n",
       "<td>0.0</td></tr>\n",
       "<tr><td>max fps</td>\n",
       "<td>0.0016811</td>\n",
       "<td>459617.0</td>\n",
       "<td>399.0</td></tr>\n",
       "<tr><td>max tps</td>\n",
       "<td>0.0023348</td>\n",
       "<td>98376.0</td>\n",
       "<td>398.0</td></tr>\n",
       "<tr><td>max tnr</td>\n",
       "<td>0.9834074</td>\n",
       "<td>1.0</td>\n",
       "<td>0.0</td></tr>\n",
       "<tr><td>max fnr</td>\n",
       "<td>0.9834074</td>\n",
       "<td>0.9995934</td>\n",
       "<td>0.0</td></tr>\n",
       "<tr><td>max fpr</td>\n",
       "<td>0.0016811</td>\n",
       "<td>1.0</td>\n",
       "<td>399.0</td></tr>\n",
       "<tr><td>max tpr</td>\n",
       "<td>0.0023348</td>\n",
       "<td>1.0</td>\n",
       "<td>398.0</td></tr></tbody>\n",
       "  </table>\n",
       "</div>\n",
       "</div>\n",
       "<div style='margin: 1em 0 1em 0;'>\n",
       "<style>\n",
       "\n",
       "#h2o-table-14.h2o-container {\n",
       "  overflow-x: auto;\n",
       "}\n",
       "#h2o-table-14 .h2o-table {\n",
       "  /* width: 100%; */\n",
       "  margin-top: 1em;\n",
       "  margin-bottom: 1em;\n",
       "}\n",
       "#h2o-table-14 .h2o-table caption {\n",
       "  white-space: nowrap;\n",
       "  caption-side: top;\n",
       "  text-align: left;\n",
       "  /* margin-left: 1em; */\n",
       "  margin: 0;\n",
       "  font-size: larger;\n",
       "}\n",
       "#h2o-table-14 .h2o-table thead {\n",
       "  white-space: nowrap; \n",
       "  position: sticky;\n",
       "  top: 0;\n",
       "  box-shadow: 0 -1px inset;\n",
       "}\n",
       "#h2o-table-14 .h2o-table tbody {\n",
       "  overflow: auto;\n",
       "}\n",
       "#h2o-table-14 .h2o-table th,\n",
       "#h2o-table-14 .h2o-table td {\n",
       "  text-align: right;\n",
       "  /* border: 1px solid; */\n",
       "}\n",
       "#h2o-table-14 .h2o-table tr:nth-child(even) {\n",
       "  /* background: #F5F5F5 */\n",
       "}\n",
       "\n",
       "</style>      \n",
       "<div id=\"h2o-table-14\" class=\"h2o-container\">\n",
       "  <table class=\"h2o-table\">\n",
       "    <caption>Gains/Lift Table: Avg response rate: 17.63 %, avg score: 17.63 %</caption>\n",
       "    <thead><tr><th>group</th>\n",
       "<th>cumulative_data_fraction</th>\n",
       "<th>lower_threshold</th>\n",
       "<th>lift</th>\n",
       "<th>cumulative_lift</th>\n",
       "<th>response_rate</th>\n",
       "<th>score</th>\n",
       "<th>cumulative_response_rate</th>\n",
       "<th>cumulative_score</th>\n",
       "<th>capture_rate</th>\n",
       "<th>cumulative_capture_rate</th>\n",
       "<th>gain</th>\n",
       "<th>cumulative_gain</th>\n",
       "<th>kolmogorov_smirnov</th></tr></thead>\n",
       "    <tbody><tr><td>1</td>\n",
       "<td>0.0100001</td>\n",
       "<td>0.8366311</td>\n",
       "<td>5.5114377</td>\n",
       "<td>5.5114377</td>\n",
       "<td>0.9716846</td>\n",
       "<td>0.8911496</td>\n",
       "<td>0.9716846</td>\n",
       "<td>0.8911496</td>\n",
       "<td>0.0551151</td>\n",
       "<td>0.0551151</td>\n",
       "<td>451.1437731</td>\n",
       "<td>451.1437731</td>\n",
       "<td>0.0547713</td></tr>\n",
       "<tr><td>2</td>\n",
       "<td>0.0200003</td>\n",
       "<td>0.7765550</td>\n",
       "<td>5.0245365</td>\n",
       "<td>5.2679871</td>\n",
       "<td>0.8858423</td>\n",
       "<td>0.8056083</td>\n",
       "<td>0.9287634</td>\n",
       "<td>0.8483790</td>\n",
       "<td>0.0502460</td>\n",
       "<td>0.1053611</td>\n",
       "<td>402.4536463</td>\n",
       "<td>426.7987097</td>\n",
       "<td>0.1036314</td></tr>\n",
       "<tr><td>3</td>\n",
       "<td>0.0300004</td>\n",
       "<td>0.7230513</td>\n",
       "<td>4.5986249</td>\n",
       "<td>5.0448664</td>\n",
       "<td>0.8107527</td>\n",
       "<td>0.7499499</td>\n",
       "<td>0.8894265</td>\n",
       "<td>0.8155693</td>\n",
       "<td>0.0459868</td>\n",
       "<td>0.1513479</td>\n",
       "<td>359.8624916</td>\n",
       "<td>404.4866370</td>\n",
       "<td>0.1473206</td></tr>\n",
       "<tr><td>4</td>\n",
       "<td>0.0400005</td>\n",
       "<td>0.6719981</td>\n",
       "<td>4.3018083</td>\n",
       "<td>4.8591018</td>\n",
       "<td>0.7584229</td>\n",
       "<td>0.6973911</td>\n",
       "<td>0.8566756</td>\n",
       "<td>0.7860247</td>\n",
       "<td>0.0430186</td>\n",
       "<td>0.1943665</td>\n",
       "<td>330.1808277</td>\n",
       "<td>385.9101847</td>\n",
       "<td>0.1874064</td></tr>\n",
       "<tr><td>5</td>\n",
       "<td>0.0500006</td>\n",
       "<td>0.6251529</td>\n",
       "<td>4.0385360</td>\n",
       "<td>4.6949887</td>\n",
       "<td>0.7120072</td>\n",
       "<td>0.6481342</td>\n",
       "<td>0.8277419</td>\n",
       "<td>0.7584466</td>\n",
       "<td>0.0403859</td>\n",
       "<td>0.2347524</td>\n",
       "<td>303.8535984</td>\n",
       "<td>369.4988674</td>\n",
       "<td>0.2242958</td></tr>\n",
       "<tr><td>6</td>\n",
       "<td>0.1000013</td>\n",
       "<td>0.4607646</td>\n",
       "<td>3.3064560</td>\n",
       "<td>4.0007224</td>\n",
       "<td>0.5829391</td>\n",
       "<td>0.5363958</td>\n",
       "<td>0.7053405</td>\n",
       "<td>0.6474212</td>\n",
       "<td>0.1653249</td>\n",
       "<td>0.4000773</td>\n",
       "<td>230.6456040</td>\n",
       "<td>300.0722357</td>\n",
       "<td>0.3643040</td></tr>\n",
       "<tr><td>7</td>\n",
       "<td>0.1500001</td>\n",
       "<td>0.3566242</td>\n",
       "<td>2.5033111</td>\n",
       "<td>3.5015972</td>\n",
       "<td>0.4413420</td>\n",
       "<td>0.4050710</td>\n",
       "<td>0.6173431</td>\n",
       "<td>0.5666398</td>\n",
       "<td>0.1251626</td>\n",
       "<td>0.5252399</td>\n",
       "<td>150.3311147</td>\n",
       "<td>250.1597214</td>\n",
       "<td>0.4555558</td></tr>\n",
       "<tr><td>8</td>\n",
       "<td>0.2000007</td>\n",
       "<td>0.2849125</td>\n",
       "<td>1.9471985</td>\n",
       "<td>3.1129940</td>\n",
       "<td>0.3432975</td>\n",
       "<td>0.3189942</td>\n",
       "<td>0.5488311</td>\n",
       "<td>0.5047278</td>\n",
       "<td>0.0973611</td>\n",
       "<td>0.6226010</td>\n",
       "<td>94.7198472</td>\n",
       "<td>211.2994047</td>\n",
       "<td>0.5130533</td></tr>\n",
       "<tr><td>9</td>\n",
       "<td>0.3000002</td>\n",
       "<td>0.1924526</td>\n",
       "<td>1.3543010</td>\n",
       "<td>2.5267665</td>\n",
       "<td>0.2387677</td>\n",
       "<td>0.2342455</td>\n",
       "<td>0.4454772</td>\n",
       "<td>0.4145676</td>\n",
       "<td>0.1354294</td>\n",
       "<td>0.7580304</td>\n",
       "<td>35.4301011</td>\n",
       "<td>152.6766537</td>\n",
       "<td>0.5560666</td></tr>\n",
       "<tr><td>10</td>\n",
       "<td>0.3999996</td>\n",
       "<td>0.1379923</td>\n",
       "<td>0.8851800</td>\n",
       "<td>2.1163717</td>\n",
       "<td>0.1560601</td>\n",
       "<td>0.1631150</td>\n",
       "<td>0.3731233</td>\n",
       "<td>0.3517047</td>\n",
       "<td>0.0885175</td>\n",
       "<td>0.8465479</td>\n",
       "<td>-11.4819995</td>\n",
       "<td>111.6371743</td>\n",
       "<td>0.5421271</td></tr>\n",
       "<tr><td>11</td>\n",
       "<td>0.5000009</td>\n",
       "<td>0.1013136</td>\n",
       "<td>0.5918036</td>\n",
       "<td>1.8114548</td>\n",
       "<td>0.1043369</td>\n",
       "<td>0.1185975</td>\n",
       "<td>0.3193654</td>\n",
       "<td>0.3050828</td>\n",
       "<td>0.0591811</td>\n",
       "<td>0.9057290</td>\n",
       "<td>-40.8196413</td>\n",
       "<td>81.1454833</td>\n",
       "<td>0.4925698</td></tr>\n",
       "<tr><td>12</td>\n",
       "<td>0.6000004</td>\n",
       "<td>0.0754326</td>\n",
       "<td>0.4184986</td>\n",
       "<td>1.5792969</td>\n",
       "<td>0.0737827</td>\n",
       "<td>0.0876981</td>\n",
       "<td>0.2784352</td>\n",
       "<td>0.2688522</td>\n",
       "<td>0.0418496</td>\n",
       "<td>0.9475787</td>\n",
       "<td>-58.1501369</td>\n",
       "<td>57.9296853</td>\n",
       "<td>0.4219737</td></tr>\n",
       "<tr><td>13</td>\n",
       "<td>0.6999998</td>\n",
       "<td>0.0563606</td>\n",
       "<td>0.2752719</td>\n",
       "<td>1.3930085</td>\n",
       "<td>0.0485313</td>\n",
       "<td>0.0655288</td>\n",
       "<td>0.2455920</td>\n",
       "<td>0.2398062</td>\n",
       "<td>0.0275270</td>\n",
       "<td>0.9751057</td>\n",
       "<td>-72.4728129</td>\n",
       "<td>39.3008524</td>\n",
       "<td>0.3339893</td></tr>\n",
       "<tr><td>14</td>\n",
       "<td>0.7999993</td>\n",
       "<td>0.0395302</td>\n",
       "<td>0.1711809</td>\n",
       "<td>1.2402808</td>\n",
       "<td>0.0301798</td>\n",
       "<td>0.0478065</td>\n",
       "<td>0.2186656</td>\n",
       "<td>0.2158063</td>\n",
       "<td>0.0171180</td>\n",
       "<td>0.9922237</td>\n",
       "<td>-82.8819117</td>\n",
       "<td>24.0280753</td>\n",
       "<td>0.2333680</td></tr>\n",
       "<tr><td>15</td>\n",
       "<td>0.8999987</td>\n",
       "<td>0.0198427</td>\n",
       "<td>0.0748154</td>\n",
       "<td>1.1107851</td>\n",
       "<td>0.0131902</td>\n",
       "<td>0.0306230</td>\n",
       "<td>0.1958351</td>\n",
       "<td>0.1952305</td>\n",
       "<td>0.0074815</td>\n",
       "<td>0.9997052</td>\n",
       "<td>-92.5184602</td>\n",
       "<td>11.0785118</td>\n",
       "<td>0.1210475</td></tr>\n",
       "<tr><td>16</td>\n",
       "<td>1.0</td>\n",
       "<td>0.0006490</td>\n",
       "<td>0.0029478</td>\n",
       "<td>1.0</td>\n",
       "<td>0.0005197</td>\n",
       "<td>0.0059872</td>\n",
       "<td>0.1763033</td>\n",
       "<td>0.1763059</td>\n",
       "<td>0.0002948</td>\n",
       "<td>1.0</td>\n",
       "<td>-99.7052164</td>\n",
       "<td>0.0</td>\n",
       "<td>0.0</td></tr></tbody>\n",
       "  </table>\n",
       "</div>\n",
       "</div></div>\n",
       "<div style='margin: 1em 0 1em 0;'>\n",
       "<style>\n",
       "\n",
       "#h2o-table-15.h2o-container {\n",
       "  overflow-x: auto;\n",
       "}\n",
       "#h2o-table-15 .h2o-table {\n",
       "  /* width: 100%; */\n",
       "  margin-top: 1em;\n",
       "  margin-bottom: 1em;\n",
       "}\n",
       "#h2o-table-15 .h2o-table caption {\n",
       "  white-space: nowrap;\n",
       "  caption-side: top;\n",
       "  text-align: left;\n",
       "  /* margin-left: 1em; */\n",
       "  margin: 0;\n",
       "  font-size: larger;\n",
       "}\n",
       "#h2o-table-15 .h2o-table thead {\n",
       "  white-space: nowrap; \n",
       "  position: sticky;\n",
       "  top: 0;\n",
       "  box-shadow: 0 -1px inset;\n",
       "}\n",
       "#h2o-table-15 .h2o-table tbody {\n",
       "  overflow: auto;\n",
       "}\n",
       "#h2o-table-15 .h2o-table th,\n",
       "#h2o-table-15 .h2o-table td {\n",
       "  text-align: right;\n",
       "  /* border: 1px solid; */\n",
       "}\n",
       "#h2o-table-15 .h2o-table tr:nth-child(even) {\n",
       "  /* background: #F5F5F5 */\n",
       "}\n",
       "\n",
       "</style>      \n",
       "<div id=\"h2o-table-15\" class=\"h2o-container\">\n",
       "  <table class=\"h2o-table\">\n",
       "    <caption>Scoring History: </caption>\n",
       "    <thead><tr><th></th>\n",
       "<th>timestamp</th>\n",
       "<th>duration</th>\n",
       "<th>number_of_trees</th>\n",
       "<th>training_rmse</th>\n",
       "<th>training_logloss</th>\n",
       "<th>training_auc</th>\n",
       "<th>training_pr_auc</th>\n",
       "<th>training_lift</th>\n",
       "<th>training_classification_error</th></tr></thead>\n",
       "    <tbody><tr><td></td>\n",
       "<td>2023-05-04 10:14:44</td>\n",
       "<td>23.031 sec</td>\n",
       "<td>0.0</td>\n",
       "<td>0.3810780</td>\n",
       "<td>0.4657414</td>\n",
       "<td>0.5</td>\n",
       "<td>0.1763033</td>\n",
       "<td>1.0</td>\n",
       "<td>0.8236967</td></tr>\n",
       "<tr><td></td>\n",
       "<td>2023-05-04 10:14:44</td>\n",
       "<td>23.309 sec</td>\n",
       "<td>1.0</td>\n",
       "<td>0.3735986</td>\n",
       "<td>0.4474254</td>\n",
       "<td>0.8041881</td>\n",
       "<td>0.5115506</td>\n",
       "<td>4.8013391</td>\n",
       "<td>0.2163360</td></tr>\n",
       "<tr><td></td>\n",
       "<td>2023-05-04 10:14:44</td>\n",
       "<td>23.565 sec</td>\n",
       "<td>2.0</td>\n",
       "<td>0.3671735</td>\n",
       "<td>0.4330938</td>\n",
       "<td>0.8116308</td>\n",
       "<td>0.5289771</td>\n",
       "<td>4.9286114</td>\n",
       "<td>0.1951817</td></tr>\n",
       "<tr><td></td>\n",
       "<td>2023-05-04 10:14:45</td>\n",
       "<td>23.906 sec</td>\n",
       "<td>3.0</td>\n",
       "<td>0.3618547</td>\n",
       "<td>0.4218667</td>\n",
       "<td>0.8134431</td>\n",
       "<td>0.5329926</td>\n",
       "<td>4.9928541</td>\n",
       "<td>0.1909002</td></tr>\n",
       "<tr><td></td>\n",
       "<td>2023-05-04 10:14:45</td>\n",
       "<td>24.255 sec</td>\n",
       "<td>4.0</td>\n",
       "<td>0.3573587</td>\n",
       "<td>0.4125894</td>\n",
       "<td>0.8159575</td>\n",
       "<td>0.5365838</td>\n",
       "<td>4.9876787</td>\n",
       "<td>0.1875041</td></tr>\n",
       "<tr><td></td>\n",
       "<td>2023-05-04 10:14:45</td>\n",
       "<td>24.591 sec</td>\n",
       "<td>5.0</td>\n",
       "<td>0.3534671</td>\n",
       "<td>0.4047068</td>\n",
       "<td>0.8184401</td>\n",
       "<td>0.5416640</td>\n",
       "<td>4.9877438</td>\n",
       "<td>0.1891117</td></tr>\n",
       "<tr><td></td>\n",
       "<td>2023-05-04 10:14:46</td>\n",
       "<td>24.908 sec</td>\n",
       "<td>6.0</td>\n",
       "<td>0.3501886</td>\n",
       "<td>0.3980766</td>\n",
       "<td>0.8197232</td>\n",
       "<td>0.5435878</td>\n",
       "<td>5.0136905</td>\n",
       "<td>0.1872210</td></tr>\n",
       "<tr><td></td>\n",
       "<td>2023-05-04 10:14:46</td>\n",
       "<td>25.252 sec</td>\n",
       "<td>7.0</td>\n",
       "<td>0.3473646</td>\n",
       "<td>0.3923879</td>\n",
       "<td>0.8204966</td>\n",
       "<td>0.5454369</td>\n",
       "<td>5.0293338</td>\n",
       "<td>0.1872891</td></tr>\n",
       "<tr><td></td>\n",
       "<td>2023-05-04 10:14:46</td>\n",
       "<td>25.556 sec</td>\n",
       "<td>8.0</td>\n",
       "<td>0.3449273</td>\n",
       "<td>0.3874263</td>\n",
       "<td>0.8213713</td>\n",
       "<td>0.5472361</td>\n",
       "<td>5.0440713</td>\n",
       "<td>0.1860561</td></tr>\n",
       "<tr><td></td>\n",
       "<td>2023-05-04 10:14:47</td>\n",
       "<td>25.886 sec</td>\n",
       "<td>9.0</td>\n",
       "<td>0.3428712</td>\n",
       "<td>0.3831950</td>\n",
       "<td>0.8219667</td>\n",
       "<td>0.5483814</td>\n",
       "<td>5.0449787</td>\n",
       "<td>0.1848679</td></tr>\n",
       "<tr><td></td>\n",
       "<td>2023-05-04 10:14:47</td>\n",
       "<td>26.230 sec</td>\n",
       "<td>10.0</td>\n",
       "<td>0.3409571</td>\n",
       "<td>0.3792530</td>\n",
       "<td>0.8229166</td>\n",
       "<td>0.5507594</td>\n",
       "<td>5.0600843</td>\n",
       "<td>0.1872425</td></tr>\n",
       "<tr><td></td>\n",
       "<td>2023-05-04 10:14:47</td>\n",
       "<td>26.550 sec</td>\n",
       "<td>11.0</td>\n",
       "<td>0.3393175</td>\n",
       "<td>0.3758029</td>\n",
       "<td>0.8239338</td>\n",
       "<td>0.5527347</td>\n",
       "<td>5.0641798</td>\n",
       "<td>0.1865579</td></tr>\n",
       "<tr><td></td>\n",
       "<td>2023-05-04 10:14:48</td>\n",
       "<td>26.876 sec</td>\n",
       "<td>12.0</td>\n",
       "<td>0.3379227</td>\n",
       "<td>0.3727837</td>\n",
       "<td>0.8248359</td>\n",
       "<td>0.5540484</td>\n",
       "<td>5.0621468</td>\n",
       "<td>0.1875292</td></tr>\n",
       "<tr><td></td>\n",
       "<td>2023-05-04 10:14:52</td>\n",
       "<td>31.069 sec</td>\n",
       "<td>31.0</td>\n",
       "<td>0.3259351</td>\n",
       "<td>0.3454745</td>\n",
       "<td>0.8400430</td>\n",
       "<td>0.5834991</td>\n",
       "<td>5.2745943</td>\n",
       "<td>0.1779933</td></tr>\n",
       "<tr><td></td>\n",
       "<td>2023-05-04 10:14:56</td>\n",
       "<td>35.164 sec</td>\n",
       "<td>50.0</td>\n",
       "<td>0.3212821</td>\n",
       "<td>0.3352413</td>\n",
       "<td>0.8498662</td>\n",
       "<td>0.6026109</td>\n",
       "<td>5.4037373</td>\n",
       "<td>0.1687691</td></tr>\n",
       "<tr><td></td>\n",
       "<td>2023-05-04 10:15:00</td>\n",
       "<td>39.357 sec</td>\n",
       "<td>70.0</td>\n",
       "<td>0.3175683</td>\n",
       "<td>0.3276850</td>\n",
       "<td>0.8577974</td>\n",
       "<td>0.6190780</td>\n",
       "<td>5.4758604</td>\n",
       "<td>0.1633730</td></tr>\n",
       "<tr><td></td>\n",
       "<td>2023-05-04 10:15:04</td>\n",
       "<td>43.520 sec</td>\n",
       "<td>90.0</td>\n",
       "<td>0.3147850</td>\n",
       "<td>0.3222433</td>\n",
       "<td>0.8635869</td>\n",
       "<td>0.6312750</td>\n",
       "<td>5.5114377</td>\n",
       "<td>0.1602189</td></tr>\n",
       "<tr><td></td>\n",
       "<td>2023-05-04 10:15:05</td>\n",
       "<td>43.990 sec</td>\n",
       "<td>100.0</td>\n",
       "<td>0.3147850</td>\n",
       "<td>0.3222433</td>\n",
       "<td>0.8635869</td>\n",
       "<td>0.6312750</td>\n",
       "<td>5.5114377</td>\n",
       "<td>0.1602189</td></tr></tbody>\n",
       "  </table>\n",
       "</div>\n",
       "</div>\n",
       "<div style='margin: 1em 0 1em 0;'>\n",
       "<style>\n",
       "\n",
       "#h2o-table-16.h2o-container {\n",
       "  overflow-x: auto;\n",
       "}\n",
       "#h2o-table-16 .h2o-table {\n",
       "  /* width: 100%; */\n",
       "  margin-top: 1em;\n",
       "  margin-bottom: 1em;\n",
       "}\n",
       "#h2o-table-16 .h2o-table caption {\n",
       "  white-space: nowrap;\n",
       "  caption-side: top;\n",
       "  text-align: left;\n",
       "  /* margin-left: 1em; */\n",
       "  margin: 0;\n",
       "  font-size: larger;\n",
       "}\n",
       "#h2o-table-16 .h2o-table thead {\n",
       "  white-space: nowrap; \n",
       "  position: sticky;\n",
       "  top: 0;\n",
       "  box-shadow: 0 -1px inset;\n",
       "}\n",
       "#h2o-table-16 .h2o-table tbody {\n",
       "  overflow: auto;\n",
       "}\n",
       "#h2o-table-16 .h2o-table th,\n",
       "#h2o-table-16 .h2o-table td {\n",
       "  text-align: right;\n",
       "  /* border: 1px solid; */\n",
       "}\n",
       "#h2o-table-16 .h2o-table tr:nth-child(even) {\n",
       "  /* background: #F5F5F5 */\n",
       "}\n",
       "\n",
       "</style>      \n",
       "<div id=\"h2o-table-16\" class=\"h2o-container\">\n",
       "  <table class=\"h2o-table\">\n",
       "    <caption>Variable Importances: </caption>\n",
       "    <thead><tr><th>variable</th>\n",
       "<th>relative_importance</th>\n",
       "<th>scaled_importance</th>\n",
       "<th>percentage</th></tr></thead>\n",
       "    <tbody><tr><td>Bank_trg</td>\n",
       "<td>45059.0</td>\n",
       "<td>1.0</td>\n",
       "<td>0.4255402</td></tr>\n",
       "<tr><td>City_trg</td>\n",
       "<td>14454.0458984</td>\n",
       "<td>0.3207804</td>\n",
       "<td>0.1365050</td></tr>\n",
       "<tr><td>UrbanRural</td>\n",
       "<td>5556.6152344</td>\n",
       "<td>0.1233187</td>\n",
       "<td>0.0524770</td></tr>\n",
       "<tr><td>BankState_trg</td>\n",
       "<td>5043.4829102</td>\n",
       "<td>0.1119306</td>\n",
       "<td>0.0476310</td></tr>\n",
       "<tr><td>SBA_Appv</td>\n",
       "<td>4974.2514648</td>\n",
       "<td>0.1103942</td>\n",
       "<td>0.0469772</td></tr>\n",
       "<tr><td>NAICS</td>\n",
       "<td>4195.7011719</td>\n",
       "<td>0.0931157</td>\n",
       "<td>0.0396245</td></tr>\n",
       "<tr><td>Zip</td>\n",
       "<td>3647.5837402</td>\n",
       "<td>0.0809513</td>\n",
       "<td>0.0344480</td></tr>\n",
       "<tr><td>diff_loan_amt2</td>\n",
       "<td>3035.8955078</td>\n",
       "<td>0.0673760</td>\n",
       "<td>0.0286712</td></tr>\n",
       "<tr><td>RevLineCr_N</td>\n",
       "<td>2147.8022461</td>\n",
       "<td>0.0476664</td>\n",
       "<td>0.0202840</td></tr>\n",
       "<tr><td>diff_loan_amt1</td>\n",
       "<td>1925.7822266</td>\n",
       "<td>0.0427391</td>\n",
       "<td>0.0181872</td></tr>\n",
       "<tr><td>---</td>\n",
       "<td>---</td>\n",
       "<td>---</td>\n",
       "<td>---</td></tr>\n",
       "<tr><td>NewExist</td>\n",
       "<td>1043.1910400</td>\n",
       "<td>0.0231517</td>\n",
       "<td>0.0098520</td></tr>\n",
       "<tr><td>LoanInd</td>\n",
       "<td>1027.5970459</td>\n",
       "<td>0.0228056</td>\n",
       "<td>0.0097047</td></tr>\n",
       "<tr><td>RetainedJob</td>\n",
       "<td>696.9852905</td>\n",
       "<td>0.0154683</td>\n",
       "<td>0.0065824</td></tr>\n",
       "<tr><td>NoEmp</td>\n",
       "<td>696.2158813</td>\n",
       "<td>0.0154512</td>\n",
       "<td>0.0065751</td></tr>\n",
       "<tr><td>CreateJob</td>\n",
       "<td>519.1725464</td>\n",
       "<td>0.0115221</td>\n",
       "<td>0.0049031</td></tr>\n",
       "<tr><td>LowDoc_N</td>\n",
       "<td>290.9265747</td>\n",
       "<td>0.0064566</td>\n",
       "<td>0.0027475</td></tr>\n",
       "<tr><td>FranchiseCode</td>\n",
       "<td>242.0382843</td>\n",
       "<td>0.0053716</td>\n",
       "<td>0.0022858</td></tr>\n",
       "<tr><td>LowDoc_Y</td>\n",
       "<td>228.6296539</td>\n",
       "<td>0.0050740</td>\n",
       "<td>0.0021592</td></tr>\n",
       "<tr><td>total_job</td>\n",
       "<td>187.6721802</td>\n",
       "<td>0.0041650</td>\n",
       "<td>0.0017724</td></tr>\n",
       "<tr><td>BalanceGross</td>\n",
       "<td>0.0</td>\n",
       "<td>0.0</td>\n",
       "<td>0.0</td></tr></tbody>\n",
       "  </table>\n",
       "</div>\n",
       "<pre style='font-size: smaller; margin-bottom: 1em;'>[27 rows x 4 columns]</pre></div><pre style=\"font-size: smaller; margin: 1em 0 0 0;\">\n",
       "\n",
       "[tips]\n",
       "Use `model.explain()` to inspect the model.\n",
       "--\n",
       "Use `h2o.display.toggle_user_tips()` to switch on/off this section.</pre>"
      ],
      "text/plain": [
       "Model Details\n",
       "=============\n",
       "H2OGradientBoostingEstimator : Gradient Boosting Machine\n",
       "Model Key: gbm_grid_model_3\n",
       "\n",
       "\n",
       "Model Summary: \n",
       "    number_of_trees    number_of_internal_trees    model_size_in_bytes    min_depth    max_depth    mean_depth    min_leaves    max_leaves    mean_leaves\n",
       "--  -----------------  --------------------------  ---------------------  -----------  -----------  ------------  ------------  ------------  -------------\n",
       "    100                100                         379746                 0            9            8.1           1             455           297.81\n",
       "\n",
       "ModelMetricsBinomial: gbm\n",
       "** Reported on train data. **\n",
       "\n",
       "MSE: 0.09908962121797446\n",
       "RMSE: 0.3147850396984813\n",
       "LogLoss: 0.3222432595617704\n",
       "Mean Per-Class Error: 0.24004175274015396\n",
       "AUC: 0.8635869347095678\n",
       "AUCPR: 0.6312750287960522\n",
       "Gini: 0.7271738694191356\n",
       "\n",
       "Confusion Matrix (Act/Pred) for max f1 @ threshold = 0.27601116404299075\n",
       "       0       1       Error    Rate\n",
       "-----  ------  ------  -------  ------------------\n",
       "0      405960  53657   0.1167   (53657.0/459617.0)\n",
       "1      35744   62632   0.3633   (35744.0/98376.0)\n",
       "Total  441704  116289  0.1602   (89401.0/557993.0)\n",
       "\n",
       "Maximum Metrics: Maximum metrics at their respective thresholds\n",
       "metric                       threshold    value     idx\n",
       "---------------------------  -----------  --------  -----\n",
       "max f1                       0.276011     0.583532  217\n",
       "max f2                       0.142767     0.675393  290\n",
       "max f0point5                 0.447218     0.612452  147\n",
       "max accuracy                 0.470336     0.864835  138\n",
       "max precision                0.983407     1         0\n",
       "max recall                   0.00233476   1         398\n",
       "max specificity              0.983407     1         0\n",
       "max absolute_mcc             0.310072     0.490353  201\n",
       "max min_per_class_accuracy   0.18006      0.777771  266\n",
       "max mean_per_class_accuracy  0.178188     0.778315  267\n",
       "max tns                      0.983407     459617    0\n",
       "max fns                      0.983407     98336     0\n",
       "max fps                      0.00168113   459617    399\n",
       "max tps                      0.00233476   98376     398\n",
       "max tnr                      0.983407     1         0\n",
       "max fnr                      0.983407     0.999593  0\n",
       "max fpr                      0.00168113   1         399\n",
       "max tpr                      0.00233476   1         398\n",
       "\n",
       "Gains/Lift Table: Avg response rate: 17.63 %, avg score: 17.63 %\n",
       "group    cumulative_data_fraction    lower_threshold    lift        cumulative_lift    response_rate    score       cumulative_response_rate    cumulative_score    capture_rate    cumulative_capture_rate    gain      cumulative_gain    kolmogorov_smirnov\n",
       "-------  --------------------------  -----------------  ----------  -----------------  ---------------  ----------  --------------------------  ------------------  --------------  -------------------------  --------  -----------------  --------------------\n",
       "1        0.0100001                   0.836631           5.51144     5.51144            0.971685         0.89115     0.971685                    0.89115             0.0551151       0.0551151                  451.144   451.144            0.0547713\n",
       "2        0.0200003                   0.776555           5.02454     5.26799            0.885842         0.805608    0.928763                    0.848379            0.050246        0.105361                   402.454   426.799            0.103631\n",
       "3        0.0300004                   0.723051           4.59862     5.04487            0.810753         0.74995     0.889427                    0.815569            0.0459868       0.151348                   359.862   404.487            0.147321\n",
       "4        0.0400005                   0.671998           4.30181     4.8591             0.758423         0.697391    0.856676                    0.786025            0.0430186       0.194367                   330.181   385.91             0.187406\n",
       "5        0.0500006                   0.625153           4.03854     4.69499            0.712007         0.648134    0.827742                    0.758447            0.0403859       0.234752                   303.854   369.499            0.224296\n",
       "6        0.100001                    0.460765           3.30646     4.00072            0.582939         0.536396    0.705341                    0.647421            0.165325        0.400077                   230.646   300.072            0.364304\n",
       "7        0.15                        0.356624           2.50331     3.5016             0.441342         0.405071    0.617343                    0.56664             0.125163        0.52524                    150.331   250.16             0.455556\n",
       "8        0.200001                    0.284912           1.9472      3.11299            0.343297         0.318994    0.548831                    0.504728            0.0973611       0.622601                   94.7198   211.299            0.513053\n",
       "9        0.3                         0.192453           1.3543      2.52677            0.238768         0.234245    0.445477                    0.414568            0.135429        0.75803                    35.4301   152.677            0.556067\n",
       "10       0.4                         0.137992           0.88518     2.11637            0.15606          0.163115    0.373123                    0.351705            0.0885175       0.846548                   -11.482   111.637            0.542127\n",
       "11       0.500001                    0.101314           0.591804    1.81145            0.104337         0.118598    0.319365                    0.305083            0.0591811       0.905729                   -40.8196  81.1455            0.49257\n",
       "12       0.6                         0.0754326          0.418499    1.5793             0.0737827        0.0876981   0.278435                    0.268852            0.0418496       0.947579                   -58.1501  57.9297            0.421974\n",
       "13       0.7                         0.0563606          0.275272    1.39301            0.0485313        0.0655288   0.245592                    0.239806            0.027527        0.975106                   -72.4728  39.3009            0.333989\n",
       "14       0.799999                    0.0395302          0.171181    1.24028            0.0301798        0.0478065   0.218666                    0.215806            0.017118        0.992224                   -82.8819  24.0281            0.233368\n",
       "15       0.899999                    0.0198427          0.0748154   1.11079            0.0131902        0.030623    0.195835                    0.19523             0.0074815       0.999705                   -92.5185  11.0785            0.121048\n",
       "16       1                           0.000649035        0.00294784  1                  0.000519713      0.00598723  0.176303                    0.176306            0.000294787     1                          -99.7052  0                  0\n",
       "\n",
       "Scoring History: \n",
       "    timestamp            duration    number_of_trees    training_rmse    training_logloss    training_auc    training_pr_auc    training_lift    training_classification_error\n",
       "--  -------------------  ----------  -----------------  ---------------  ------------------  --------------  -----------------  ---------------  -------------------------------\n",
       "    2023-05-04 10:14:44  23.031 sec  0                  0.381078         0.465741            0.5             0.176303           1                0.823697\n",
       "    2023-05-04 10:14:44  23.309 sec  1                  0.373599         0.447425            0.804188        0.511551           4.80134          0.216336\n",
       "    2023-05-04 10:14:44  23.565 sec  2                  0.367173         0.433094            0.811631        0.528977           4.92861          0.195182\n",
       "    2023-05-04 10:14:45  23.906 sec  3                  0.361855         0.421867            0.813443        0.532993           4.99285          0.1909\n",
       "    2023-05-04 10:14:45  24.255 sec  4                  0.357359         0.412589            0.815957        0.536584           4.98768          0.187504\n",
       "    2023-05-04 10:14:45  24.591 sec  5                  0.353467         0.404707            0.81844         0.541664           4.98774          0.189112\n",
       "    2023-05-04 10:14:46  24.908 sec  6                  0.350189         0.398077            0.819723        0.543588           5.01369          0.187221\n",
       "    2023-05-04 10:14:46  25.252 sec  7                  0.347365         0.392388            0.820497        0.545437           5.02933          0.187289\n",
       "    2023-05-04 10:14:46  25.556 sec  8                  0.344927         0.387426            0.821371        0.547236           5.04407          0.186056\n",
       "    2023-05-04 10:14:47  25.886 sec  9                  0.342871         0.383195            0.821967        0.548381           5.04498          0.184868\n",
       "    2023-05-04 10:14:47  26.230 sec  10                 0.340957         0.379253            0.822917        0.550759           5.06008          0.187242\n",
       "    2023-05-04 10:14:47  26.550 sec  11                 0.339317         0.375803            0.823934        0.552735           5.06418          0.186558\n",
       "    2023-05-04 10:14:48  26.876 sec  12                 0.337923         0.372784            0.824836        0.554048           5.06215          0.187529\n",
       "    2023-05-04 10:14:52  31.069 sec  31                 0.325935         0.345475            0.840043        0.583499           5.27459          0.177993\n",
       "    2023-05-04 10:14:56  35.164 sec  50                 0.321282         0.335241            0.849866        0.602611           5.40374          0.168769\n",
       "    2023-05-04 10:15:00  39.357 sec  70                 0.317568         0.327685            0.857797        0.619078           5.47586          0.163373\n",
       "    2023-05-04 10:15:04  43.520 sec  90                 0.314785         0.322243            0.863587        0.631275           5.51144          0.160219\n",
       "    2023-05-04 10:15:05  43.990 sec  100                0.314785         0.322243            0.863587        0.631275           5.51144          0.160219\n",
       "\n",
       "Variable Importances: \n",
       "variable        relative_importance    scaled_importance     percentage\n",
       "--------------  ---------------------  --------------------  ---------------------\n",
       "Bank_trg        45059.0                1.0                   0.4255401729325107\n",
       "City_trg        14454.0458984375       0.3207804411646397    0.13650496440656784\n",
       "UrbanRural      5556.615234375         0.12331865408408975   0.05247704138474801\n",
       "BankState_trg   5043.48291015625       0.11193064449180519   0.04763098581349015\n",
       "SBA_Appv        4974.25146484375       0.11039418240182317   0.046977159470014955\n",
       "NAICS           4195.701171875         0.0931157187659513    0.03962447906639795\n",
       "Zip             3647.583740234375      0.08095128032655796   0.03444802182927162\n",
       "diff_loan_amt2  3035.8955078125        0.06737600718641115   0.028671197749607483\n",
       "RevLineCr_N     2147.80224609375       0.047666442799302024  0.020283986311892613\n",
       "diff_loan_amt1  1925.7822265625        0.04273912484880934   0.01818721457914649\n",
       "---             ---                    ---                   ---\n",
       "NewExist        1043.1910400390625     0.023151668701903338  0.009851965103084141\n",
       "LoanInd         1027.5970458984375     0.02280558924739647   0.0097046943921649\n",
       "RetainedJob     696.9852905273438      0.015468281376136704  0.006582375131769947\n",
       "NoEmp           696.2158813476562      0.01545120578236659   0.006575108780644088\n",
       "CreateJob       519.1725463867188      0.011522060995288816  0.004903099828474138\n",
       "LowDoc_N        290.92657470703125     0.006456569713198945  0.0027475297923054897\n",
       "FranchiseCode   242.0382843017578      0.005371585794219974  0.0022858255477941855\n",
       "LowDoc_Y        228.62965393066406     0.005074006390081095  0.0021591935566957735\n",
       "total_job       187.67218017578125     0.004165032072966139  0.001772388468599464\n",
       "BalanceGross    0.0                    0.0                   0.0\n",
       "[27 rows x 4 columns]\n",
       "\n",
       "\n",
       "[tips]\n",
       "Use `model.explain()` to inspect the model.\n",
       "--\n",
       "Use `h2o.display.toggle_user_tips()` to switch on/off this section."
      ]
     },
     "execution_count": 53,
     "metadata": {},
     "output_type": "execute_result"
    }
   ],
   "source": [
    "# Grab the top GBM model, chosen by validation AUC\n",
    "best_gbm = gbm_gridperf.models[0]\n",
    "best_gbm"
   ]
  },
  {
   "cell_type": "code",
   "execution_count": 54,
   "id": "301b2c12",
   "metadata": {},
   "outputs": [
    {
     "data": {
      "text/plain": [
       "0.8125017472142915"
      ]
     },
     "execution_count": 54,
     "metadata": {},
     "output_type": "execute_result"
    }
   ],
   "source": [
    "# Now let's evaluate the model performance on a test set\n",
    "# so we get an honest estimate of top model performance\n",
    "best_gbm_perf = best_gbm.model_performance(h2o_test)\n",
    "best_gbm_perf.auc()"
   ]
  },
  {
   "cell_type": "code",
   "execution_count": 55,
   "id": "ece3f3eb",
   "metadata": {},
   "outputs": [
    {
     "data": {
      "text/plain": [
       "[[0.26542871066833235, 0.5150917932349349]]"
      ]
     },
     "execution_count": 55,
     "metadata": {},
     "output_type": "execute_result"
    }
   ],
   "source": [
    "best_gbm_perf.F1()"
   ]
  },
  {
   "cell_type": "code",
   "execution_count": 57,
   "id": "08e690dd",
   "metadata": {},
   "outputs": [
    {
     "name": "stdout",
     "output_type": "stream",
     "text": [
      "Best accuracy threshold: 0.5115913634790837 \n",
      "  Accuracy: 0.8496278330684954\n",
      "Best F1 threshold: 0.26542871066833235 \n",
      "  F1: 0.5150917932349349\n",
      "Model AUC: 0.8125017472142915\n",
      "Model AUCPR: 0.5165668604850916\n"
     ]
    },
    {
     "data": {
      "text/html": [
       "\n",
       "<style>\n",
       "\n",
       "#h2o-table-17.h2o-container {\n",
       "  overflow-x: auto;\n",
       "}\n",
       "#h2o-table-17 .h2o-table {\n",
       "  /* width: 100%; */\n",
       "  margin-top: 1em;\n",
       "  margin-bottom: 1em;\n",
       "}\n",
       "#h2o-table-17 .h2o-table caption {\n",
       "  white-space: nowrap;\n",
       "  caption-side: top;\n",
       "  text-align: left;\n",
       "  /* margin-left: 1em; */\n",
       "  margin: 0;\n",
       "  font-size: larger;\n",
       "}\n",
       "#h2o-table-17 .h2o-table thead {\n",
       "  white-space: nowrap; \n",
       "  position: sticky;\n",
       "  top: 0;\n",
       "  box-shadow: 0 -1px inset;\n",
       "}\n",
       "#h2o-table-17 .h2o-table tbody {\n",
       "  overflow: auto;\n",
       "}\n",
       "#h2o-table-17 .h2o-table th,\n",
       "#h2o-table-17 .h2o-table td {\n",
       "  text-align: right;\n",
       "  /* border: 1px solid; */\n",
       "}\n",
       "#h2o-table-17 .h2o-table tr:nth-child(even) {\n",
       "  /* background: #F5F5F5 */\n",
       "}\n",
       "\n",
       "</style>      \n",
       "<div id=\"h2o-table-17\" class=\"h2o-container\">\n",
       "  <table class=\"h2o-table\">\n",
       "    <caption>Confusion Matrix (Act/Pred) for max f1 @ threshold = 0.26542871066833235</caption>\n",
       "    <thead><tr><th></th>\n",
       "<th>0</th>\n",
       "<th>1</th>\n",
       "<th>Error</th>\n",
       "<th>Rate</th></tr></thead>\n",
       "    <tbody><tr><td>0</td>\n",
       "<td>169823.0</td>\n",
       "<td>27445.0</td>\n",
       "<td>0.1391</td>\n",
       "<td> (27445.0/197268.0)</td></tr>\n",
       "<tr><td>1</td>\n",
       "<td>17827.0</td>\n",
       "<td>24045.0</td>\n",
       "<td>0.4257</td>\n",
       "<td> (17827.0/41872.0)</td></tr>\n",
       "<tr><td>Total</td>\n",
       "<td>187650.0</td>\n",
       "<td>51490.0</td>\n",
       "<td>0.1893</td>\n",
       "<td> (45272.0/239140.0)</td></tr></tbody>\n",
       "  </table>\n",
       "</div>\n"
      ],
      "text/plain": [
       "Confusion Matrix (Act/Pred) for max f1 @ threshold = 0.26542871066833235\n",
       "       0       1      Error    Rate\n",
       "-----  ------  -----  -------  ------------------\n",
       "0      169823  27445  0.1391   (27445.0/197268.0)\n",
       "1      17827   24045  0.4257   (17827.0/41872.0)\n",
       "Total  187650  51490  0.1893   (45272.0/239140.0)"
      ]
     },
     "execution_count": 57,
     "metadata": {},
     "output_type": "execute_result"
    }
   ],
   "source": [
    "print(\"Best accuracy threshold:\",best_gbm.model_performance(h2o_test).accuracy()[0][0],\"\\n\",\n",
    "      \" Accuracy:\",\n",
    "      best_gbm.model_performance(h2o_test).accuracy()[0][1])\n",
    "print(\"Best F1 threshold:\",best_gbm.model_performance(h2o_test).F1()[0][0],\"\\n\",\n",
    "      \" F1:\",\n",
    "      best_gbm.model_performance(h2o_test).F1()[0][1])\n",
    "print(\"Model AUC:\", best_gbm.model_performance(h2o_test).auc())\n",
    "print(\"Model AUCPR:\", best_gbm.model_performance(h2o_test).aucpr())\n",
    "best_gbm.model_performance(h2o_test).confusion_matrix()"
   ]
  },
  {
   "cell_type": "code",
   "execution_count": 58,
   "id": "6ac0feed",
   "metadata": {},
   "outputs": [],
   "source": [
    "#dill.dump(best_gbm, open('best_gbm.pkl', 'wb'))"
   ]
  },
  {
   "cell_type": "code",
   "execution_count": 59,
   "id": "c3c10fd4",
   "metadata": {
    "scrolled": true
   },
   "outputs": [
    {
     "data": {
      "image/png": "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\n",
      "text/plain": [
       "<Figure size 1008x720 with 1 Axes>"
      ]
     },
     "metadata": {
      "needs_background": "light"
     },
     "output_type": "display_data"
    },
    {
     "data": {
      "image/png": "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\n",
      "text/plain": [
       "<Figure size 1008x720 with 1 Axes>"
      ]
     },
     "metadata": {
      "needs_background": "light"
     },
     "output_type": "display_data"
    },
    {
     "data": {
      "text/html": [
       "\n",
       "<style>\n",
       "\n",
       "#h2o-table-18.h2o-container {\n",
       "  overflow-x: auto;\n",
       "}\n",
       "#h2o-table-18 .h2o-table {\n",
       "  /* width: 100%; */\n",
       "  margin-top: 1em;\n",
       "  margin-bottom: 1em;\n",
       "}\n",
       "#h2o-table-18 .h2o-table caption {\n",
       "  white-space: nowrap;\n",
       "  caption-side: top;\n",
       "  text-align: left;\n",
       "  /* margin-left: 1em; */\n",
       "  margin: 0;\n",
       "  font-size: larger;\n",
       "}\n",
       "#h2o-table-18 .h2o-table thead {\n",
       "  white-space: nowrap; \n",
       "  position: sticky;\n",
       "  top: 0;\n",
       "  box-shadow: 0 -1px inset;\n",
       "}\n",
       "#h2o-table-18 .h2o-table tbody {\n",
       "  overflow: auto;\n",
       "}\n",
       "#h2o-table-18 .h2o-table th,\n",
       "#h2o-table-18 .h2o-table td {\n",
       "  text-align: right;\n",
       "  /* border: 1px solid; */\n",
       "}\n",
       "#h2o-table-18 .h2o-table tr:nth-child(even) {\n",
       "  /* background: #F5F5F5 */\n",
       "}\n",
       "\n",
       "</style>      \n",
       "<div id=\"h2o-table-18\" class=\"h2o-container\">\n",
       "  <table class=\"h2o-table\">\n",
       "    <caption>Variable Importances</caption>\n",
       "    <thead><tr><th>Variable</th>\n",
       "<th>Run 1</th>\n",
       "<th>Run 2</th>\n",
       "<th>Run 3</th>\n",
       "<th>Run 4</th>\n",
       "<th>Run 5</th>\n",
       "<th>Run 6</th>\n",
       "<th>Run 7</th>\n",
       "<th>Run 8</th>\n",
       "<th>Run 9</th>\n",
       "<th>Run 10</th>\n",
       "<th>Run 11</th>\n",
       "<th>Run 12</th>\n",
       "<th>Run 13</th>\n",
       "<th>Run 14</th>\n",
       "<th>Run 15</th></tr></thead>\n",
       "    <tbody><tr><td>Bank_trg</td>\n",
       "<td>0.1266436</td>\n",
       "<td>0.1350942</td>\n",
       "<td>0.1382288</td>\n",
       "<td>0.1365325</td>\n",
       "<td>0.1390667</td>\n",
       "<td>0.1354918</td>\n",
       "<td>0.1284672</td>\n",
       "<td>0.1365750</td>\n",
       "<td>0.1306626</td>\n",
       "<td>0.1328897</td>\n",
       "<td>0.1323854</td>\n",
       "<td>0.1369937</td>\n",
       "<td>0.1200577</td>\n",
       "<td>0.1392375</td>\n",
       "<td>0.1246657</td></tr>\n",
       "<tr><td>UrbanRural</td>\n",
       "<td>0.0437176</td>\n",
       "<td>0.0393419</td>\n",
       "<td>0.0378477</td>\n",
       "<td>0.0360187</td>\n",
       "<td>0.0320556</td>\n",
       "<td>0.0404788</td>\n",
       "<td>0.0329668</td>\n",
       "<td>0.0400088</td>\n",
       "<td>0.0293594</td>\n",
       "<td>0.0361367</td>\n",
       "<td>0.0279199</td>\n",
       "<td>0.0332820</td>\n",
       "<td>0.0315134</td>\n",
       "<td>0.0426229</td>\n",
       "<td>0.0369964</td></tr>\n",
       "<tr><td>City_trg</td>\n",
       "<td>0.0190946</td>\n",
       "<td>0.0170852</td>\n",
       "<td>0.0152799</td>\n",
       "<td>0.0222928</td>\n",
       "<td>0.0174538</td>\n",
       "<td>0.0078112</td>\n",
       "<td>0.0087731</td>\n",
       "<td>0.0103301</td>\n",
       "<td>0.0242204</td>\n",
       "<td>0.0143887</td>\n",
       "<td>0.0162643</td>\n",
       "<td>0.0136553</td>\n",
       "<td>0.0195073</td>\n",
       "<td>0.0163747</td>\n",
       "<td>0.0139478</td></tr>\n",
       "<tr><td>SBA_Appv</td>\n",
       "<td>0.0111005</td>\n",
       "<td>0.0107446</td>\n",
       "<td>0.0105680</td>\n",
       "<td>0.0092114</td>\n",
       "<td>0.0110385</td>\n",
       "<td>0.0091642</td>\n",
       "<td>0.0098183</td>\n",
       "<td>0.0094992</td>\n",
       "<td>0.0107772</td>\n",
       "<td>0.0116051</td>\n",
       "<td>0.0096954</td>\n",
       "<td>0.0087085</td>\n",
       "<td>0.0094496</td>\n",
       "<td>0.0110339</td>\n",
       "<td>0.0110714</td></tr>\n",
       "<tr><td>diff_loan_amt2</td>\n",
       "<td>0.0089994</td>\n",
       "<td>0.0052673</td>\n",
       "<td>0.0066490</td>\n",
       "<td>0.0069179</td>\n",
       "<td>0.0084390</td>\n",
       "<td>0.0058001</td>\n",
       "<td>0.0065208</td>\n",
       "<td>0.0079807</td>\n",
       "<td>0.0074752</td>\n",
       "<td>0.0063594</td>\n",
       "<td>0.0078077</td>\n",
       "<td>0.0071393</td>\n",
       "<td>0.0069347</td>\n",
       "<td>0.0081407</td>\n",
       "<td>0.0087378</td></tr>\n",
       "<tr><td>NAICS</td>\n",
       "<td>0.0048056</td>\n",
       "<td>0.0043807</td>\n",
       "<td>0.0059375</td>\n",
       "<td>0.0086434</td>\n",
       "<td>0.0046595</td>\n",
       "<td>0.0064497</td>\n",
       "<td>0.0062515</td>\n",
       "<td>0.0045567</td>\n",
       "<td>0.0062753</td>\n",
       "<td>0.0076808</td>\n",
       "<td>0.0051372</td>\n",
       "<td>0.0067353</td>\n",
       "<td>0.0055379</td>\n",
       "<td>0.0028970</td>\n",
       "<td>0.0060339</td></tr>\n",
       "<tr><td>BankState_trg</td>\n",
       "<td>0.0046895</td>\n",
       "<td>0.0049903</td>\n",
       "<td>0.0040537</td>\n",
       "<td>0.0043365</td>\n",
       "<td>0.0042779</td>\n",
       "<td>0.0069308</td>\n",
       "<td>0.0042837</td>\n",
       "<td>0.0050403</td>\n",
       "<td>0.0044688</td>\n",
       "<td>0.0048713</td>\n",
       "<td>0.0044093</td>\n",
       "<td>0.0050938</td>\n",
       "<td>0.0046784</td>\n",
       "<td>0.0056725</td>\n",
       "<td>0.0050500</td></tr>\n",
       "<tr><td>NewExist</td>\n",
       "<td>0.0042941</td>\n",
       "<td>0.0019548</td>\n",
       "<td>0.0037707</td>\n",
       "<td>0.0031422</td>\n",
       "<td>0.0030545</td>\n",
       "<td>0.0013189</td>\n",
       "<td>0.0032469</td>\n",
       "<td>0.0033149</td>\n",
       "<td>0.0015631</td>\n",
       "<td>0.0038037</td>\n",
       "<td>0.0040904</td>\n",
       "<td>0.0047199</td>\n",
       "<td>0.0015251</td>\n",
       "<td>0.0022416</td>\n",
       "<td>0.0024942</td></tr>\n",
       "<tr><td>RevLineCr_Y</td>\n",
       "<td>0.0035959</td>\n",
       "<td>0.0039000</td>\n",
       "<td>0.0029141</td>\n",
       "<td>0.0027777</td>\n",
       "<td>0.0038959</td>\n",
       "<td>0.0046614</td>\n",
       "<td>0.0035199</td>\n",
       "<td>0.0037733</td>\n",
       "<td>0.0038889</td>\n",
       "<td>0.0054446</td>\n",
       "<td>0.0055163</td>\n",
       "<td>0.0044729</td>\n",
       "<td>0.0033287</td>\n",
       "<td>0.0034597</td>\n",
       "<td>0.0040869</td></tr>\n",
       "<tr><td>RevLineCr_N</td>\n",
       "<td>0.0031328</td>\n",
       "<td>0.0038215</td>\n",
       "<td>0.0038314</td>\n",
       "<td>0.0053168</td>\n",
       "<td>0.0050526</td>\n",
       "<td>0.0036891</td>\n",
       "<td>0.0056210</td>\n",
       "<td>0.0039916</td>\n",
       "<td>0.0040635</td>\n",
       "<td>0.0048563</td>\n",
       "<td>0.0051427</td>\n",
       "<td>0.0044877</td>\n",
       "<td>0.0046235</td>\n",
       "<td>0.0039608</td>\n",
       "<td>0.0036301</td></tr>\n",
       "<tr><td>---</td>\n",
       "<td>---</td>\n",
       "<td>---</td>\n",
       "<td>---</td>\n",
       "<td>---</td>\n",
       "<td>---</td>\n",
       "<td>---</td>\n",
       "<td>---</td>\n",
       "<td>---</td>\n",
       "<td>---</td>\n",
       "<td>---</td>\n",
       "<td>---</td>\n",
       "<td>---</td>\n",
       "<td>---</td>\n",
       "<td>---</td>\n",
       "<td>---</td></tr>\n",
       "<tr><td>GrAppv</td>\n",
       "<td>0.0010026</td>\n",
       "<td>0.0003802</td>\n",
       "<td>0.0003555</td>\n",
       "<td>0.0003358</td>\n",
       "<td>0.0005625</td>\n",
       "<td>0.0008110</td>\n",
       "<td>0.0006972</td>\n",
       "<td>0.0008527</td>\n",
       "<td>0.0009338</td>\n",
       "<td>0.0013530</td>\n",
       "<td>0.0011301</td>\n",
       "<td>0.0008242</td>\n",
       "<td>0.0007215</td>\n",
       "<td>0.0008043</td>\n",
       "<td>0.0006707</td></tr>\n",
       "<tr><td>State_trg</td>\n",
       "<td>0.0009781</td>\n",
       "<td>0.0006086</td>\n",
       "<td>0.0005942</td>\n",
       "<td>0.0010693</td>\n",
       "<td>0.0010514</td>\n",
       "<td>0.0015884</td>\n",
       "<td>0.0010892</td>\n",
       "<td>0.0011050</td>\n",
       "<td>0.0005680</td>\n",
       "<td>0.0010260</td>\n",
       "<td>0.0005073</td>\n",
       "<td>0.0004562</td>\n",
       "<td>0.0004254</td>\n",
       "<td>0.0011696</td>\n",
       "<td>0.0010739</td></tr>\n",
       "<tr><td>diff_loan_amt1</td>\n",
       "<td>0.0007344</td>\n",
       "<td>0.0008929</td>\n",
       "<td>0.0007805</td>\n",
       "<td>0.0006968</td>\n",
       "<td>0.0005139</td>\n",
       "<td>0.0005542</td>\n",
       "<td>0.0009075</td>\n",
       "<td>0.0007837</td>\n",
       "<td>0.0004261</td>\n",
       "<td>0.0006036</td>\n",
       "<td>0.0011794</td>\n",
       "<td>0.0004379</td>\n",
       "<td>0.0010694</td>\n",
       "<td>0.0010877</td>\n",
       "<td>0.0009560</td></tr>\n",
       "<tr><td>RetainedJob</td>\n",
       "<td>0.0002944</td>\n",
       "<td>0.0000645</td>\n",
       "<td>0.0000739</td>\n",
       "<td>0.0000038</td>\n",
       "<td>0.0005628</td>\n",
       "<td>0.0007232</td>\n",
       "<td>0.0002268</td>\n",
       "<td>0.0002878</td>\n",
       "<td>0.0000103</td>\n",
       "<td>0.0004046</td>\n",
       "<td>0.0003921</td>\n",
       "<td>0.0000183</td>\n",
       "<td>0.0000527</td>\n",
       "<td>0.0001259</td>\n",
       "<td>0.0003679</td></tr>\n",
       "<tr><td>CreateJob</td>\n",
       "<td>0.0002148</td>\n",
       "<td>0.0000362</td>\n",
       "<td>0.0000809</td>\n",
       "<td>0.0000991</td>\n",
       "<td>0.0004106</td>\n",
       "<td>0.0004405</td>\n",
       "<td>0.0001498</td>\n",
       "<td>0.0001762</td>\n",
       "<td>0.0001610</td>\n",
       "<td>0.0001411</td>\n",
       "<td>0.0002161</td>\n",
       "<td>0.0001310</td>\n",
       "<td>0.0000201</td>\n",
       "<td>0.0001507</td>\n",
       "<td>0.0003794</td></tr>\n",
       "<tr><td>total_job</td>\n",
       "<td>0.0002097</td>\n",
       "<td>0.0000385</td>\n",
       "<td>0.0000293</td>\n",
       "<td>0.0000439</td>\n",
       "<td>0.0002993</td>\n",
       "<td>0.0000646</td>\n",
       "<td>0.0000433</td>\n",
       "<td>0.0000145</td>\n",
       "<td>0.0001199</td>\n",
       "<td>0.0000197</td>\n",
       "<td>0.0000092</td>\n",
       "<td>0.0000214</td>\n",
       "<td>0.0</td>\n",
       "<td>0.0000096</td>\n",
       "<td>0.0000440</td></tr>\n",
       "<tr><td>FranchiseCode</td>\n",
       "<td>0.0000020</td>\n",
       "<td>0.0000055</td>\n",
       "<td>0.0000059</td>\n",
       "<td>0.0000268</td>\n",
       "<td>0.0000358</td>\n",
       "<td>0.0000181</td>\n",
       "<td>0.0000082</td>\n",
       "<td>0.0000393</td>\n",
       "<td>0.0000175</td>\n",
       "<td>0.0000123</td>\n",
       "<td>0.0000221</td>\n",
       "<td>0.0000339</td>\n",
       "<td>0.0000235</td>\n",
       "<td>0.0000102</td>\n",
       "<td>0.0000255</td></tr>\n",
       "<tr><td>LoanInd</td>\n",
       "<td>0.0000011</td>\n",
       "<td>0.0000010</td>\n",
       "<td>0.0</td>\n",
       "<td>0.0</td>\n",
       "<td>0.0</td>\n",
       "<td>0.0</td>\n",
       "<td>0.0</td>\n",
       "<td>0.0000016</td>\n",
       "<td>0.0000208</td>\n",
       "<td>0.0000125</td>\n",
       "<td>0.0</td>\n",
       "<td>0.0000022</td>\n",
       "<td>0.0000080</td>\n",
       "<td>0.0000140</td>\n",
       "<td>0.0000075</td></tr>\n",
       "<tr><td>LowDoc_Y</td>\n",
       "<td>0.0</td>\n",
       "<td>0.0</td>\n",
       "<td>0.0</td>\n",
       "<td>0.0</td>\n",
       "<td>0.0</td>\n",
       "<td>0.0</td>\n",
       "<td>0.0</td>\n",
       "<td>0.0</td>\n",
       "<td>0.0</td>\n",
       "<td>0.0</td>\n",
       "<td>0.0</td>\n",
       "<td>0.0</td>\n",
       "<td>0.0</td>\n",
       "<td>0.0</td>\n",
       "<td>0.0</td></tr>\n",
       "<tr><td>BalanceGross</td>\n",
       "<td>0.0</td>\n",
       "<td>0.0</td>\n",
       "<td>0.0</td>\n",
       "<td>0.0</td>\n",
       "<td>0.0</td>\n",
       "<td>0.0</td>\n",
       "<td>0.0</td>\n",
       "<td>0.0</td>\n",
       "<td>0.0</td>\n",
       "<td>0.0</td>\n",
       "<td>0.0</td>\n",
       "<td>0.0</td>\n",
       "<td>0.0</td>\n",
       "<td>0.0</td>\n",
       "<td>0.0</td></tr></tbody>\n",
       "  </table>\n",
       "</div>\n",
       "<pre style='font-size: smaller; margin-bottom: 1em;'>[27 rows x 16 columns]</pre>"
      ],
      "text/plain": [
       "Variable Importances\n",
       "Variable        Run 1                   Run 2                   Run 3                   Run 4                   Run 5                   Run 6                   Run 7                   Run 8                   Run 9                   Run 10                  Run 11                  Run 12                  Run 13                  Run 14                  Run 15\n",
       "--------------  ----------------------  ----------------------  ----------------------  ----------------------  ----------------------  ----------------------  ----------------------  ----------------------  ----------------------  ----------------------  ----------------------  ----------------------  ----------------------  ----------------------  ----------------------\n",
       "Bank_trg        0.12664357461165243     0.1350942476066973      0.13822877670637168     0.13653247410867186     0.1390666955133627      0.13549178447901666     0.1284671630480292      0.13657503946710037     0.13066260647344408     0.1328896655298658      0.13238535379993166     0.13699368026068925     0.12005772779499313     0.13923746182228303     0.12466567309767507\n",
       "UrbanRural      0.043717580458159655    0.03934191418535249     0.03784767699685443     0.03601868282412213     0.032055619900316246    0.040478828708438774    0.03296681754191577     0.0400087631331838      0.029359395559414248    0.03613667272014687     0.02791992971398638     0.033281961940498594    0.031513387416872596    0.04262293439586895     0.03699641941300125\n",
       "City_trg        0.01909456066025972     0.017085216113029156    0.015279946372402375    0.022292814039088005    0.017453843930698487    0.007811203187479743    0.008773073962653699    0.010330094975423254    0.02422036968794139     0.014388749179618188    0.01626433664840843     0.01365529207634475     0.01950729431426479     0.016374698370988705    0.01394777135224512\n",
       "SBA_Appv        0.011100499205995984    0.010744621266052357    0.010568040014438118    0.009211431856081198    0.011038470214159601    0.009164153092826477    0.00981826180276335     0.009499192369955334    0.010777165644283437    0.01160511518727636     0.009695389684481914    0.008708509077572035    0.00944960133700079     0.011033861166213077    0.011071406115377491\n",
       "diff_loan_amt2  0.008999376335932507    0.005267326865038058    0.006648962684129955    0.006917895893926329    0.008439048069874056    0.005800141025505634    0.0065208086400024845   0.007980666380383306    0.007475230734060756    0.0063593655568759955   0.007807666192010676    0.007139330502616725    0.0069347167577731295   0.008140655726442958    0.008737787853194234\n",
       "NAICS           0.004805647594085416    0.004380735375870803    0.00593753759947746     0.008643360129619193    0.004659527651618589    0.006449689665359637    0.006251452583567629    0.004556712377138505    0.006275292727688342    0.0076807985822843206   0.005137221412903514    0.006735318596679307    0.005537899098220778    0.0028970339456081406   0.006033943352972471\n",
       "BankState_trg   0.004689534807048923    0.004990341005939092    0.004053661974251721    0.004336476082382301    0.004277864715502178    0.006930775377618326    0.004283723788739868    0.005040314125254963    0.004468797876460151    0.00487129773079531     0.004409278655954418    0.005093808630393992    0.004678423453222336    0.005672450215111979    0.005050038151010017\n",
       "NewExist        0.004294146898988438    0.0019548113376759435   0.0037707420203165753   0.003142204201387888    0.0030545235089728395   0.0013188646796910009   0.003246886977179675    0.003314913290632826    0.0015630503309744803   0.003803733988749447    0.004090414987515167    0.004719914232109379    0.0015251209916089525   0.00224164383875336     0.0024942093734228177\n",
       "RevLineCr_Y     0.0035958904109590906   0.003899978999764908    0.002914109902198314    0.002777735211559218    0.003895896774375518    0.004661416932646545    0.0035199231478905135   0.0037733174213645526   0.0038889319777500875   0.005444638604688579    0.005516262867230726    0.004472873083271045    0.0033286793635318723   0.0034597169624993596   0.004086933321550967\n",
       "RevLineCr_N     0.003132778629477695    0.003821541450676147    0.003831416834252921    0.005316793122388752    0.005052645220341101    0.0036890910218364548   0.005621020699510426    0.003991570726652571    0.004063475824047202    0.0048563351819844724   0.00514268901411985     0.004487720238683046    0.004623481076564184    0.003960750301271299    0.0036301068398219005\n",
       "---             ---                     ---                     ---                     ---                     ---                     ---                     ---                     ---                     ---                     ---                     ---                     ---                     ---                     ---                     ---\n",
       "GrAppv          0.001002567462868753    0.0003801766693516395   0.0003555234706680288   0.0003357623320294767   0.0005624970177287025   0.0008110388201949537   0.0006972047267388426   0.0008527313735982034   0.0009338435356361918   0.0013530167074501387   0.0011300848264156338   0.0008242110905782862   0.0007215278019566673   0.0008042724693934078   0.0006706760630876829\n",
       "State_trg       0.000978149778283477    0.0006085611886689213   0.0005942006565943236   0.0010692634103167675   0.001051352270213246    0.0015883647458981853   0.001089172282851325    0.0011049825555485837   0.0005680485332407725   0.0010259932644532954   0.0005072567028520103   0.0004561709150926463   0.0004254030152154309   0.0011695906432749315   0.0010739381868668518\n",
       "diff_loan_amt1  0.0007344193879851302   0.0008929277669899038   0.0007804534282128683   0.0006967579184232742   0.0005138995527677048   0.0005541980135659319   0.0009075020261859468   0.0007836699638763545   0.00042613827377080415  0.0006035835727870031   0.0011793957548861256   0.00043790291864753694  0.0010694265520002633   0.001087725023114161    0.0009560354218107747\n",
       "RetainedJob     0.00029438592442410094  6.45464784778671e-05    7.390983000732376e-05   3.847986158267425e-06   0.0005628359121846449   0.0007232363620510718   0.00022675165654684193  0.0002877616031762287   1.0323215812180209e-05  0.00040455344237777524  0.00039212952473910434  1.826799644522037e-05   5.2748859719398133e-05  0.00012587554708287652  0.0003678810980013436\n",
       "CreateJob       0.00021484815016303838  3.624211655628429e-05   8.085391636158956e-05   9.909415681597089e-05   0.00041063841208699436  0.0004405016153757879   0.000149752342463505    0.00017617706561690039  0.0001609606675970765   0.0001411208318272683   0.00021607276557089605  0.000130979418527577    2.008982974133211e-05   0.0001507429448149855   0.000379436860503235\n",
       "total_job       0.00020973108264765727  3.847025820813421e-05   2.9288918682035536e-05  4.392833755761938e-05   0.0002993115833581639   6.461638110910606e-05   4.334749988610387e-05   1.447230139028921e-05   0.0001198715520289717   1.9691278859590433e-05  9.192404545221855e-06   2.1406706259052832e-05  0.0                     9.589154809086509e-06   4.3979872580757196e-05\n",
       "FranchiseCode   2.0262213649147043e-06  5.465909989732509e-06   5.947163065678218e-06   2.6799691207668452e-05  3.582114397759906e-05   1.8142682176147673e-05  8.174099978441873e-06   3.9257406621362456e-05  1.745438462963378e-05   1.2280582514567762e-05  2.2109612418996782e-05  3.392627911236179e-05   2.3501967201688956e-05  1.0233202520248952e-05  2.5524640114404917e-05\n",
       "LoanInd         1.133310254974873e-06   1.0444413992560797e-06  0.0                     0.0                     0.0                     0.0                     0.0                     1.6156726018179413e-06  2.081622135807759e-05   1.2457027665613296e-05  0.0                     2.1865169490542513e-06  7.973259984028758e-06   1.3990147501252714e-05  7.54523316304212e-06\n",
       "LowDoc_Y        0.0                     0.0                     0.0                     0.0                     0.0                     0.0                     0.0                     0.0                     0.0                     0.0                     0.0                     0.0                     0.0                     0.0                     0.0\n",
       "BalanceGross    0.0                     0.0                     0.0                     0.0                     0.0                     0.0                     0.0                     0.0                     0.0                     0.0                     0.0                     0.0                     0.0                     0.0                     0.0\n",
       "[27 rows x 16 columns]\n"
      ]
     },
     "execution_count": 59,
     "metadata": {},
     "output_type": "execute_result"
    }
   ],
   "source": [
    "#Global feature importance using permutation feature importance\n",
    "# calculate importance\n",
    "permutation_varimp = best_gbm.permutation_importance(h2o_test, use_pandas=True)\n",
    "\n",
    "# plot permutation importance (bar plot)\n",
    "gbm_model.permutation_importance_plot(h2o_test)\n",
    "\n",
    "# plot permutation importance (box plot)\n",
    "gbm_model.permutation_importance_plot(h2o_test, n_repeats=15)"
   ]
  },
  {
   "cell_type": "code",
   "execution_count": 140,
   "id": "dcf6deb5",
   "metadata": {},
   "outputs": [],
   "source": [
    "#Most important feature is Bank here\n",
    "#Feature importance doesn't allow to determine direction feature impacts model prediction."
   ]
  },
  {
   "cell_type": "code",
   "execution_count": 60,
   "id": "a25a118d",
   "metadata": {
    "scrolled": false
   },
   "outputs": [],
   "source": [
    "def examine_all_reason_codes(data, model):\n",
    "\n",
    "    shap_contribs = model.predict_contributions(data)\n",
    "\n",
    "    col_mapping = {}\n",
    "    for i in data.col_names:\n",
    "        related_cols = [x for x in shap_contribs.col_names if \"{}.\".format(i) in x]\n",
    "        if len(related_cols) > 0:\n",
    "            col_mapping[i] = related_cols\n",
    "\n",
    "    for k, v in col_mapping.items():\n",
    "        if len(v) > 1:\n",
    "            shap_contribs[k] = shap_contribs[v].sum(axis=1,return_frame=True)\n",
    "            shap_contribs = shap_contribs.drop(v)\n",
    "\n",
    "    shap_cols = [i for i in shap_contribs.col_names if i != \"BiasTerm\"]\n",
    "    bias_term = shap_contribs.as_data_frame()[\"BiasTerm\"].values\n",
    "    X = data.as_data_frame(use_pandas=True)\n",
    "    shap_contribs = shap_contribs.as_data_frame(use_pandas=True)\n",
    "\n",
    "    return shap.summary_plot(shap_contribs[shap_cols].values,\n",
    "                             X[shap_cols].values,\n",
    "                             feature_names=shap_cols\n",
    "                             )"
   ]
  },
  {
   "cell_type": "code",
   "execution_count": 61,
   "id": "0fe3ed92",
   "metadata": {
    "scrolled": true
   },
   "outputs": [
    {
     "name": "stdout",
     "output_type": "stream",
     "text": [
      "contributions progress: |████████████████████████████████████████████████████████| (done) 100%\n"
     ]
    },
    {
     "data": {
      "image/png": "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\n",
      "text/plain": [
       "<Figure size 576x684 with 2 Axes>"
      ]
     },
     "metadata": {
      "needs_background": "light"
     },
     "output_type": "display_data"
    }
   ],
   "source": [
    "examine_all_reason_codes(h2o_test,best_gbm)"
   ]
  },
  {
   "cell_type": "code",
   "execution_count": 143,
   "id": "29c36a35",
   "metadata": {},
   "outputs": [],
   "source": [
    "#checking the shapley values for the whole dataset\n",
    "#Bank is the most important variable explaining the target variable,followed by City and UrbanRural"
   ]
  },
  {
   "cell_type": "code",
   "execution_count": 62,
   "id": "2ea33fbe",
   "metadata": {
    "scrolled": true
   },
   "outputs": [
    {
     "data": {
      "text/plain": [
       "<h2o.plot._plot_result._MObject at 0x7fa81ac40f40>"
      ]
     },
     "execution_count": 62,
     "metadata": {},
     "output_type": "execute_result"
    },
    {
     "data": {
      "image/png": "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\n",
      "text/plain": [
       "<Figure size 1152x648 with 1 Axes>"
      ]
     },
     "metadata": {
      "needs_background": "light"
     },
     "output_type": "display_data"
    }
   ],
   "source": [
    "#Individual observations analysis using Shapley values\n",
    "# Using H2O-3 plotting\n",
    "best_gbm.shap_explain_row_plot(h2o_test, row_index=0)\n",
    "#Bank and UrbanRural are negatively effecting our Prediction\n",
    "#RevLineCr is positively effecting our prediction"
   ]
  },
  {
   "cell_type": "code",
   "execution_count": 63,
   "id": "13c02aa9",
   "metadata": {
    "scrolled": true
   },
   "outputs": [
    {
     "data": {
      "text/plain": [
       "<h2o.plot._plot_result._MObject at 0x7fa81ad111f0>"
      ]
     },
     "execution_count": 63,
     "metadata": {},
     "output_type": "execute_result"
    },
    {
     "data": {
      "image/png": "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\n",
      "text/plain": [
       "<Figure size 1152x648 with 1 Axes>"
      ]
     },
     "metadata": {
      "needs_background": "light"
     },
     "output_type": "display_data"
    }
   ],
   "source": [
    "best_gbm.shap_explain_row_plot(h2o_test, row_index=1)\n",
    "#UrbanRural and City are negatively effecting our Prediction here."
   ]
  },
  {
   "cell_type": "code",
   "execution_count": 64,
   "id": "3b754216",
   "metadata": {
    "scrolled": false
   },
   "outputs": [
    {
     "data": {
      "text/plain": [
       "<h2o.plot._plot_result._MObject at 0x7fa890d1a160>"
      ]
     },
     "execution_count": 64,
     "metadata": {},
     "output_type": "execute_result"
    },
    {
     "data": {
      "image/png": "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\n",
      "text/plain": [
       "<Figure size 1152x648 with 1 Axes>"
      ]
     },
     "metadata": {
      "needs_background": "light"
     },
     "output_type": "display_data"
    }
   ],
   "source": [
    "best_gbm.shap_explain_row_plot(h2o_test, row_index=1000)\n",
    "#NCAIS and SBA_Approv are negatively effecting our Prediction here.\n",
    "##Bank and City are positively effecting our Prediction here."
   ]
  },
  {
   "cell_type": "code",
   "execution_count": 65,
   "id": "08341aab",
   "metadata": {
    "scrolled": false
   },
   "outputs": [
    {
     "data": {
      "text/plain": [
       "<h2o.plot._plot_result._MObject at 0x7fa890d1eb20>"
      ]
     },
     "execution_count": 65,
     "metadata": {},
     "output_type": "execute_result"
    },
    {
     "data": {
      "image/png": "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\n",
      "text/plain": [
       "<Figure size 1152x648 with 1 Axes>"
      ]
     },
     "metadata": {
      "needs_background": "light"
     },
     "output_type": "display_data"
    }
   ],
   "source": [
    "best_gbm.shap_explain_row_plot(h2o_test, row_index=20000)\n",
    "##Bank is positively effecting our Prediction here.\n",
    "#City is negatively effecting our Prediction here."
   ]
  },
  {
   "cell_type": "code",
   "execution_count": 180,
   "id": "04d1deb9",
   "metadata": {
    "scrolled": false
   },
   "outputs": [],
   "source": [
    "#we will choose lightgbm model for our prediction beacuse of higher F1.\n",
    "cols_to_score = X_train"
   ]
  },
  {
   "cell_type": "code",
   "execution_count": 181,
   "id": "14a21f92",
   "metadata": {
    "scrolled": true
   },
   "outputs": [],
   "source": [
    "# artifacts saving\n",
    "artifacts_dict = {\n",
    "        \"col_remove_dollar\":columns,\n",
    "        \"cat_encoders\": cat_encoders,\n",
    "        \"model\": best_lgb,\n",
    "        \"threshold\": best_threshold,\n",
    "        \"best_parameter\": best_params,\n",
    "        \"threshold\": threshold,\n",
    "        \"cols_to_score\":cols_to_score\n",
    "    }\n"
   ]
  },
  {
   "cell_type": "code",
   "execution_count": 182,
   "id": "481722eb",
   "metadata": {
    "scrolled": false
   },
   "outputs": [],
   "source": [
    "import pickle\n",
    "artifacts_dict_file = open(\"artifacts_dictnew_file.pkl\", \"wb\")\n",
    "pickle.dump(obj=artifacts_dict, file=artifacts_dict_file)\n",
    "artifacts_dict_file.close()"
   ]
  },
  {
   "cell_type": "code",
   "execution_count": null,
   "id": "c1d1ebf3",
   "metadata": {},
   "outputs": [],
   "source": []
  },
  {
   "cell_type": "code",
   "execution_count": null,
   "id": "caefb2f9",
   "metadata": {},
   "outputs": [],
   "source": []
  },
  {
   "cell_type": "code",
   "execution_count": null,
   "id": "0169eece",
   "metadata": {
    "scrolled": true
   },
   "outputs": [],
   "source": []
  },
  {
   "cell_type": "code",
   "execution_count": null,
   "id": "83f02e7b",
   "metadata": {
    "scrolled": true
   },
   "outputs": [],
   "source": [
    "\n",
    "\n"
   ]
  },
  {
   "cell_type": "code",
   "execution_count": null,
   "id": "dfa26245",
   "metadata": {},
   "outputs": [],
   "source": [
    "\n"
   ]
  },
  {
   "cell_type": "code",
   "execution_count": 106,
   "id": "c5b55387",
   "metadata": {},
   "outputs": [],
   "source": []
  },
  {
   "cell_type": "code",
   "execution_count": null,
   "id": "c8737c0e",
   "metadata": {
    "scrolled": false
   },
   "outputs": [],
   "source": []
  },
  {
   "cell_type": "code",
   "execution_count": null,
   "id": "bf24fd7b",
   "metadata": {
    "scrolled": false
   },
   "outputs": [],
   "source": []
  },
  {
   "cell_type": "code",
   "execution_count": null,
   "id": "7f814932",
   "metadata": {
    "scrolled": true
   },
   "outputs": [],
   "source": [
    "\n"
   ]
  },
  {
   "cell_type": "code",
   "execution_count": null,
   "id": "50c24d9c",
   "metadata": {
    "scrolled": false
   },
   "outputs": [],
   "source": []
  },
  {
   "cell_type": "code",
   "execution_count": null,
   "id": "4e589239",
   "metadata": {
    "scrolled": true
   },
   "outputs": [],
   "source": []
  },
  {
   "cell_type": "code",
   "execution_count": null,
   "id": "4885bcb8",
   "metadata": {},
   "outputs": [],
   "source": []
  },
  {
   "cell_type": "code",
   "execution_count": null,
   "id": "22a6c103",
   "metadata": {},
   "outputs": [],
   "source": []
  },
  {
   "cell_type": "code",
   "execution_count": null,
   "id": "7adf9799",
   "metadata": {},
   "outputs": [],
   "source": []
  }
 ],
 "metadata": {
  "kernelspec": {
   "display_name": "Python 3 (ipykernel)",
   "language": "python",
   "name": "python3"
  },
  "language_info": {
   "codemirror_mode": {
    "name": "ipython",
    "version": 3
   },
   "file_extension": ".py",
   "mimetype": "text/x-python",
   "name": "python",
   "nbconvert_exporter": "python",
   "pygments_lexer": "ipython3",
   "version": "3.9.7"
  }
 },
 "nbformat": 4,
 "nbformat_minor": 5
}
